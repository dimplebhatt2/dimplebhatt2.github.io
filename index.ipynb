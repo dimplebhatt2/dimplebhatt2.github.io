{
 "cells": [
  {
   "cell_type": "markdown",
   "metadata": {
    "id": "5L6zyekaEOeZ"
   },
   "source": [
    "---\n",
    "title: \"Antenatal Care Visits Analysis\"\n",
    "execute:\n",
    "  echo: true\n",
    "format:\n",
    "  html:\n",
    "    code-fold: true\n",
    "    toc: true\n",
    "    toc-location: left\n",
    "    anchor-sections: true\n",
    "    jupyter: python3\n",
    "---"
   ]
  },
  {
   "cell_type": "code",
   "execution_count": 1,
   "metadata": {
    "id": "hrpBrPMFvIKt"
   },
   "outputs": [],
   "source": [
    "import pandas as pd\n",
    "\n",
    "# Load the files\n",
    "indicator_df = pd.read_csv('unicef_indicator_1.csv')\n",
    "metadata_df = pd.read_csv('unicef_metadata.csv')\n"
   ]
  },
  {
   "cell_type": "markdown",
   "metadata": {
    "colab": {
     "base_uri": "https://localhost:8080/"
    },
    "id": "PlMyzVz-vBcV",
    "outputId": "521036fe-94a5-4457-aa1a-19786288caf5"
   },
   "source": [
    "# Introduction\n",
    "*Understanding antenatal care coverage is crucial for improving maternal and child health worldwide.  \n",
    "This report uses UNICEF global datasets to visualize antenatal care trends, economic correlations, and regional disparities.  \n",
    "All visualizations are created using Python, Plotly, and Quarto.*"
   ]
  },
  {
   "cell_type": "markdown",
   "metadata": {
    "id": "h_n2qAYoFRVk"
   },
   "source": [
    "# **1. Global Antenatal Care Visits Map**\n",
    "\n",
    "*Figure: Global view highlighting disparities in antenatal care visits, with smooth interactive hover to explore country-specific insights.*\n"
   ]
  },
  {
   "cell_type": "code",
   "execution_count": 2,
   "metadata": {
    "colab": {
     "base_uri": "https://localhost:8080/",
     "height": 542
    },
    "id": "zzLqKuH6yAgT",
    "outputId": "7e8152be-ac5c-4057-ff7d-429a106ccb03"
   },
   "outputs": [
    {
     "data": {
      "text/html": [
       "        <script type=\"text/javascript\">\n",
       "        window.PlotlyConfig = {MathJaxConfig: 'local'};\n",
       "        if (window.MathJax && window.MathJax.Hub && window.MathJax.Hub.Config) {window.MathJax.Hub.Config({SVG: {font: \"STIX-Web\"}});}\n",
       "        </script>\n",
       "        <script type=\"module\">import \"https://cdn.plot.ly/plotly-3.0.1.min\"</script>\n",
       "        "
      ]
     },
     "metadata": {},
     "output_type": "display_data"
    },
    {
     "data": {
      "text/html": [
       "<div>            <script src=\"https://cdnjs.cloudflare.com/ajax/libs/mathjax/2.7.5/MathJax.js?config=TeX-AMS-MML_SVG\"></script><script type=\"text/javascript\">if (window.MathJax && window.MathJax.Hub && window.MathJax.Hub.Config) {window.MathJax.Hub.Config({SVG: {font: \"STIX-Web\"}});}</script>                <script type=\"text/javascript\">window.PlotlyConfig = {MathJaxConfig: 'local'};</script>\n",
       "        <script charset=\"utf-8\" src=\"https://cdn.plot.ly/plotly-3.0.1.min.js\"></script>                <div id=\"fecf7b88-261e-4ef7-941d-b41e68d4b1c1\" class=\"plotly-graph-div\" style=\"height:525px; width:100%;\"></div>            <script type=\"text/javascript\">                window.PLOTLYENV=window.PLOTLYENV || {};                                if (document.getElementById(\"fecf7b88-261e-4ef7-941d-b41e68d4b1c1\")) {                    Plotly.newPlot(                        \"fecf7b88-261e-4ef7-941d-b41e68d4b1c1\",                        [{\"coloraxis\":\"coloraxis\",\"customdata\":[[\"Afghanistan\",16.1],[\"Afghanistan\",14.6],[\"Afghanistan\",22.7],[\"Afghanistan\",17.8],[\"Afghanistan\",16.3],[\"Afghanistan\",20.9],[\"Afghanistan\",27.6],[\"Afghanistan\",33.4],[\"Albania\",41.1],[\"Albania\",66.8],[\"Albania\",77.8],[\"Algeria\",67.3],[\"Algeria\",69.8],[\"Angola\",61.4],[\"Antigua and Barbuda\",100.0],[\"Argentina\",89.3],[\"Argentina\",89.8],[\"Argentina\",90.4],[\"Armenia\",64.7],[\"Armenia\",70.9],[\"Armenia\",92.8],[\"Armenia\",96.0],[\"Australia\",92.0],[\"Azerbaijan\",30.4],[\"Azerbaijan\",45.2],[\"Azerbaijan\",66.1],[\"Azerbaijan\",95.5],[\"Bahamas\",85.0],[\"Bahrain\",100.0],[\"Bangladesh\",10.5],[\"Bangladesh\",11.6],[\"Bangladesh\",15.9],[\"Bangladesh\",20.6],[\"Bangladesh\",23.4],[\"Bangladesh\",25.5],[\"Bangladesh\",24.7],[\"Bangladesh\",31.2],[\"Bangladesh\",47.0],[\"Bangladesh\",36.9],[\"Bangladesh\",38.3],[\"Barbados\",87.9],[\"Belarus\",99.7],[\"Belarus\",99.9],[\"Belize\",83.1],[\"Belize\",92.6],[\"Benin\",61.6],[\"Benin\",60.5],[\"Benin\",58.2],[\"Benin\",58.7],[\"Benin\",52.1],[\"Benin\",52.6],[\"Bhutan\",77.3],[\"Bhutan\",81.5],[\"Bhutan\",85.0],[\"Bolivia, Plurinational State of\",57.9],[\"Bolivia, Plurinational State of\",72.1],[\"Bolivia, Plurinational State of\",75.3],[\"Bolivia, Plurinational State of\",85.6],[\"Bosnia and Herzegovina\",84.2],[\"Botswana\",73.3],[\"Brazil\",79.6],[\"Brazil\",81.0],[\"Brazil\",83.3],[\"Brazil\",84.8],[\"Brazil\",86.2],[\"Brazil\",86.8],[\"Brazil\",89.0],[\"Brazil\",88.8],[\"Brazil\",89.4],[\"Brazil\",89.5],[\"Brazil\",90.2],[\"Brazil\",89.1],[\"Brazil\",88.8],[\"Brazil\",89.0],[\"Brazil\",90.1],[\"Brazil\",91.0],[\"Brazil\",91.3],[\"Brazil\",91.7],[\"Brazil\",92.3],[\"Brazil\",92.7],[\"Brazil\",92.2],[\"Brazil\",92.3],[\"Brunei\",93.2],[\"Burkina Faso\",17.6],[\"Burkina Faso\",33.7],[\"Burkina Faso\",47.2],[\"Burkina Faso\",72.1],[\"Burundi\",33.4],[\"Burundi\",49.3],[\"Cape Verde\",72.3],[\"Cape Verde\",85.6],[\"Cambodia\",8.9],[\"Cambodia\",27.0],[\"Cambodia\",59.4],[\"Cambodia\",75.6],[\"Cambodia\",86.0],[\"Cameroon\",60.4],[\"Cameroon\",62.2],[\"Cameroon\",58.8],[\"Cameroon\",64.9],[\"Canada\",99.0],[\"Central African Republic\",38.1],[\"Central African Republic\",41.4],[\"Chad\",17.8],[\"Chad\",23.1],[\"Chad\",31.0],[\"China\",81.4],[\"China\",92.9],[\"Colombia\",81.0],[\"Colombia\",83.1],[\"Colombia\",88.6],[\"Colombia\",89.8],[\"Comoros\",48.9],[\"Comoros\",64.3],[\"Congo\",74.7],[\"Congo\",78.9],[\"Congo\",79.0],[\"Costa Rica\",85.8],[\"Costa Rica\",90.2],[\"Costa Rica\",94.1],[\"Croatia\",93.3],[\"Croatia\",91.7],[\"Croatia\",97.8],[\"Croatia\",97.5],[\"Croatia\",97.0],[\"Croatia\",96.5],[\"Cuba\",99.0],[\"Cuba\",100.0],[\"Cuba\",100.0],[\"Cuba\",100.0],[\"Cuba\",97.8],[\"Cuba\",79.3],[\"Ivory Coast\",45.3],[\"Ivory Coast\",44.2],[\"Ivory Coast\",51.3],[\"Ivory Coast\",56.3],[\"Korea, Democratic People's Republic of\",93.5],[\"Korea, Democratic People's Republic of\",93.7],[\"Congo, the Democratic Republic of the\",46.7],[\"Congo, the Democratic Republic of the\",44.7],[\"Congo, the Democratic Republic of the\",48.0],[\"Congo, the Democratic Republic of the\",42.9],[\"Djibouti\",7.1],[\"Djibouti\",22.6],[\"Dominican Republic\",93.5],[\"Dominican Republic\",94.5],[\"Dominican Republic\",95.4],[\"Dominican Republic\",92.9],[\"Dominican Republic\",92.6],[\"Ecuador\",57.5],[\"Egypt\",36.7],[\"Egypt\",55.6],[\"Egypt\",58.5],[\"Egypt\",66.0],[\"Egypt\",82.8],[\"Egypt\",89.9],[\"El Salvador\",71.2],[\"El Salvador\",78.3],[\"El Salvador\",90.1],[\"Equatorial Guinea\",66.9],[\"Eritrea\",40.9],[\"Eritrea\",57.4],[\"Estonia\",96.8],[\"Swaziland\",79.3],[\"Swaziland\",76.6],[\"Swaziland\",76.1],[\"Swaziland\",73.5],[\"Ethiopia\",10.4],[\"Ethiopia\",12.2],[\"Ethiopia\",19.1],[\"Ethiopia\",32.1],[\"Ethiopia\",31.8],[\"Ethiopia\",43.0],[\"Fiji\",93.6],[\"Fiji\",88.7],[\"France\",98.9],[\"Gabon\",63.3],[\"Gabon\",77.6],[\"Gabon\",77.8],[\"Gambia\",72.9],[\"Gambia\",72.0],[\"Gambia\",77.6],[\"Gambia\",75.6],[\"Gambia\",78.5],[\"Georgia\",75.0],[\"Georgia\",90.2],[\"Georgia\",84.6],[\"Georgia\",86.9],[\"Georgia\",88.3],[\"Georgia\",76.3],[\"Georgia\",81.1],[\"Georgia\",84.9],[\"Georgia\",85.2],[\"Germany\",99.3],[\"Ghana\",69.4],[\"Ghana\",73.3],[\"Ghana\",76.7],[\"Ghana\",78.2],[\"Ghana\",86.6],[\"Ghana\",87.3],[\"Ghana\",89.3],[\"Ghana\",85.0],[\"Ghana\",87.8],[\"Guatemala\",86.2],[\"Guinea\",48.8],[\"Guinea\",50.3],[\"Guinea\",56.6],[\"Guinea\",50.6],[\"Guinea\",35.3],[\"Guinea\",58.3],[\"Guinea-Bissau\",67.6],[\"Guinea-Bissau\",64.9],[\"Guinea-Bissau\",80.7],[\"Guyana\",78.5],[\"Guyana\",86.7],[\"Guyana\",84.7],[\"Haiti\",44.2],[\"Haiti\",53.8],[\"Haiti\",67.3],[\"Haiti\",66.6],[\"Honduras\",58.6],[\"Honduras\",80.8],[\"Honduras\",88.9],[\"Honduras\",88.3],[\"India\",37.0],[\"India\",45.4],[\"India\",51.2],[\"India\",58.4],[\"Indonesia\",81.0],[\"Indonesia\",81.5],[\"Indonesia\",87.8],[\"Indonesia\",83.5],[\"Indonesia\",77.4],[\"Iran, Islamic Republic of\",94.3],[\"Iraq\",49.6],[\"Iraq\",67.9],[\"Italy\",68.1],[\"Jamaica\",87.0],[\"Jamaica\",85.6],[\"Jordan\",90.9],[\"Jordan\",94.1],[\"Jordan\",94.5],[\"Jordan\",91.5],[\"Jordan\",93.1],[\"Kazakhstan\",87.0],[\"Kazakhstan\",95.3],[\"Kenya\",52.3],[\"Kenya\",47.1],[\"Kenya\",57.6],[\"Kenya\",58.5],[\"Kenya\",66.0],[\"Kiribati\",70.8],[\"Kiribati\",67.0],[\"Kyrgyzstan\",83.6],[\"Kyrgyzstan\",94.6],[\"Kyrgyzstan\",94.3],[\"Kyrgyzstan\",89.0],[\"Lao People's Democratic Republic\",36.9],[\"Lao People's Democratic Republic\",62.2],[\"Lesotho\",69.6],[\"Lesotho\",70.4],[\"Lesotho\",74.4],[\"Lesotho\",76.6],[\"Liberia\",66.0],[\"Liberia\",78.1],[\"Liberia\",87.3],[\"Libyan Arab Jamahiriya\",66.3],[\"Luxembourg\",97.3],[\"Madagascar\",39.9],[\"Madagascar\",49.3],[\"Madagascar\",51.1],[\"Madagascar\",50.6],[\"Madagascar\",59.9],[\"Malawi\",56.0],[\"Malawi\",57.1],[\"Malawi\",45.5],[\"Malawi\",44.7],[\"Malawi\",50.6],[\"Malawi\",50.5],[\"Malaysia\",97.4],[\"Malaysia\",98.1],[\"Maldives\",91.0],[\"Maldives\",85.1],[\"Maldives\",81.6],[\"Mali\",29.9],[\"Mali\",35.4],[\"Mali\",34.9],[\"Mali\",41.2],[\"Mali\",38.0],[\"Mali\",43.3],[\"Marshall Islands\",77.1],[\"Mauritania\",16.4],[\"Mauritania\",48.4],[\"Mauritania\",63.0],[\"Mauritania\",38.5],[\"Mexico\",88.3],[\"Mexico\",86.3],[\"Mexico\",91.0],[\"Mexico\",94.3],[\"Mongolia\",81.4],[\"Mongolia\",89.6],[\"Mongolia\",88.5],[\"Montenegro\",86.6],[\"Montenegro\",94.2],[\"Morocco\",30.5],[\"Morocco\",55.3],[\"Morocco\",53.5],[\"Mozambique\",53.1],[\"Mozambique\",50.6],[\"Mozambique\",51.7],[\"Mozambique\",51.0],[\"Mozambique\",48.6],[\"Myanmar\",65.9],[\"Myanmar\",73.4],[\"Myanmar\",58.6],[\"Namibia\",69.1],[\"Namibia\",70.4],[\"Namibia\",62.5],[\"Nauru\",40.2],[\"Nepal\",14.3],[\"Nepal\",29.4],[\"Nepal\",50.1],[\"Nepal\",59.5],[\"Nepal\",69.4],[\"Nepal\",77.8],[\"Nepal\",80.5],[\"Nicaragua\",71.6],[\"Nicaragua\",77.7],[\"Nicaragua\",87.6],[\"Niger\",14.9],[\"Niger\",32.8],[\"Niger\",38.5],[\"Niger\",37.3],[\"Nigeria\",47.4],[\"Nigeria\",44.8],[\"Nigeria\",56.6],[\"Nigeria\",51.1],[\"Nigeria\",49.1],[\"Nigeria\",56.8],[\"Nigeria\",60.4],[\"Macedonia, the former Yugoslav Republic of\",93.9],[\"Macedonia, the former Yugoslav Republic of\",95.7],[\"Oman\",75.7],[\"Oman\",86.2],[\"Oman\",83.3],[\"Oman\",86.3],[\"Oman\",96.4],[\"Oman\",85.3],[\"Oman\",80.4],[\"Oman\",93.8],[\"Oman\",76.5],[\"Oman\",74.5],[\"Oman\",77.1],[\"Oman\",76.4],[\"Oman\",73.9],[\"Pakistan\",28.4],[\"Pakistan\",36.6],[\"Pakistan\",51.4],[\"Pakistan\",52.4],[\"Palau\",88.0],[\"Palau\",81.0],[\"Panama\",87.9],[\"Papua New Guinea\",54.9],[\"Papua New Guinea\",49.0],[\"Paraguay\",78.8],[\"Paraguay\",90.5],[\"Paraguay\",83.3],[\"Paraguay\",93.6],[\"Paraguay\",85.9],[\"Paraguay\",85.1],[\"Paraguay\",81.0],[\"Peru\",69.0],[\"Peru\",87.0],[\"Peru\",87.4],[\"Peru\",92.5],[\"Peru\",92.9],[\"Peru\",94.2],[\"Peru\",94.4],[\"Peru\",95.1],[\"Peru\",94.7],[\"Peru\",95.6],[\"Peru\",96.0],[\"Peru\",96.3],[\"Peru\",95.8],[\"Philippines\",70.4],[\"Philippines\",77.8],[\"Philippines\",78.1],[\"Philippines\",84.3],[\"Philippines\",86.5],[\"Philippines\",83.0],[\"Qatar\",84.5],[\"South Korea\",96.8],[\"Moldova, Republic of\",88.8],[\"Moldova, Republic of\",95.4],[\"Romania\",76.0],[\"Romania\",70.1],[\"Rwanda\",10.4],[\"Rwanda\",13.3],[\"Rwanda\",23.9],[\"Rwanda\",35.4],[\"Rwanda\",43.9],[\"Rwanda\",47.2],[\"Saint Lucia\",90.3],[\"St. Vincent and the Grenadines\",99.5],[\"Samoa\",58.4],[\"Samoa\",72.9],[\"Samoa\",69.8],[\"Samoa\",69.8],[\"Sao Tome and Principe\",72.4],[\"Sao Tome and Principe\",83.6],[\"Saudi Arabia\",79.7],[\"Senegal\",39.8],[\"Senegal\",50.0],[\"Senegal\",46.5],[\"Senegal\",48.1],[\"Senegal\",46.7],[\"Senegal\",53.8],[\"Senegal\",57.0],[\"Senegal\",58.5],[\"Senegal\",55.5],[\"Senegal\",29.2],[\"Serbia\",94.2],[\"Serbia\",93.9],[\"Serbia\",96.6],[\"Sierra Leone\",56.1],[\"Sierra Leone\",74.7],[\"Sierra Leone\",76.0],[\"Sierra Leone\",77.5],[\"Sierra Leone\",78.8],[\"Solomon Islands\",64.6],[\"Solomon Islands\",68.9],[\"Somalia\",6.3],[\"Somalia\",24.4],[\"South Africa\",56.1],[\"South Africa\",87.1],[\"South Africa\",75.5],[\"South Sudan\",17.3],[\"South Sudan\",31.1],[\"South Sudan\",31.0],[\"Sri Lanka\",92.5],[\"Palestinian Territory, Occupied\",94.0],[\"Palestinian Territory, Occupied\",95.5],[\"Palestinian Territory, Occupied\",94.8],[\"Sudan\",47.1],[\"Sudan\",50.7],[\"Suriname\",66.8],[\"Suriname\",67.5],[\"Syrian Arab Republic\",63.7],[\"Tajikistan\",49.4],[\"Tajikistan\",52.5],[\"Tajikistan\",64.2],[\"Thailand\",79.6],[\"Thailand\",93.4],[\"Thailand\",90.8],[\"Thailand\",90.0],[\"Thailand\",88.3],[\"Timor-Leste\",29.6],[\"Timor-Leste\",55.1],[\"Timor-Leste\",76.7],[\"Timor-Leste\",83.1],[\"Togo\",54.9],[\"Togo\",57.2],[\"Togo\",54.8],[\"Tonga\",70.4],[\"Tonga\",88.5],[\"Trinidad and Tobago\",87.3],[\"Trinidad and Tobago\",100.0],[\"Tunisia\",67.5],[\"Tunisia\",85.1],[\"Tunisia\",84.1],[\"Turkmenistan\",82.8],[\"Turkmenistan\",96.4],[\"Turkmenistan\",97.6],[\"Turks and Caicos Islands\",93.2],[\"Tuvalu\",67.3],[\"Tuvalu\",60.3],[\"Turkey\",53.9],[\"Turkey\",73.7],[\"Turkey\",88.9],[\"Turkey\",89.7],[\"Uganda\",41.9],[\"Uganda\",47.2],[\"Uganda\",47.6],[\"Uganda\",59.9],[\"Uganda\",56.7],[\"Ukraine\",74.8],[\"Ukraine\",87.2],[\"Tanzania, United Republic of\",61.5],[\"Tanzania, United Republic of\",42.8],[\"Tanzania, United Republic of\",50.7],[\"Tanzania, United Republic of\",62.2],[\"Tanzania, United Republic of\",65.1],[\"United States\",96.6],[\"Uruguay\",90.0],[\"Uruguay\",76.8],[\"Uruguay\",96.8],[\"Uruguay\",97.3],[\"Uzbekistan\",89.5],[\"Vanuatu\",51.8],[\"Venezuela, Bolivarian Republic of\",61.0],[\"Venezuela, Bolivarian Republic of\",83.8],[\"Vietnam\",29.3],[\"Vietnam\",59.6],[\"Vietnam\",73.7],[\"Vietnam\",88.2],[\"Yemen\",13.9],[\"Yemen\",25.1],[\"Yemen\",32.4],[\"Zambia\",71.6],[\"Zambia\",60.3],[\"Zambia\",55.5],[\"Zambia\",63.5],[\"Zimbabwe\",71.1],[\"Zimbabwe\",56.8],[\"Zimbabwe\",64.8],[\"Zimbabwe\",70.1],[\"Zimbabwe\",75.7],[\"Zimbabwe\",71.5]],\"geo\":\"geo\",\"hovertemplate\":\"\\u003cb\\u003e%{hovertext}\\u003c\\u002fb\\u003e\\u003cbr\\u003e\\u003cbr\\u003eAntenatal Care Visits: %{z:.1f}%\\u003cextra\\u003e\\u003c\\u002fextra\\u003e\",\"hovertext\":[\"Afghanistan\",\"Afghanistan\",\"Afghanistan\",\"Afghanistan\",\"Afghanistan\",\"Afghanistan\",\"Afghanistan\",\"Afghanistan\",\"Albania\",\"Albania\",\"Albania\",\"Algeria\",\"Algeria\",\"Angola\",\"Antigua and Barbuda\",\"Argentina\",\"Argentina\",\"Argentina\",\"Armenia\",\"Armenia\",\"Armenia\",\"Armenia\",\"Australia\",\"Azerbaijan\",\"Azerbaijan\",\"Azerbaijan\",\"Azerbaijan\",\"Bahamas\",\"Bahrain\",\"Bangladesh\",\"Bangladesh\",\"Bangladesh\",\"Bangladesh\",\"Bangladesh\",\"Bangladesh\",\"Bangladesh\",\"Bangladesh\",\"Bangladesh\",\"Bangladesh\",\"Bangladesh\",\"Barbados\",\"Belarus\",\"Belarus\",\"Belize\",\"Belize\",\"Benin\",\"Benin\",\"Benin\",\"Benin\",\"Benin\",\"Benin\",\"Bhutan\",\"Bhutan\",\"Bhutan\",\"Bolivia, Plurinational State of\",\"Bolivia, Plurinational State of\",\"Bolivia, Plurinational State of\",\"Bolivia, Plurinational State of\",\"Bosnia and Herzegovina\",\"Botswana\",\"Brazil\",\"Brazil\",\"Brazil\",\"Brazil\",\"Brazil\",\"Brazil\",\"Brazil\",\"Brazil\",\"Brazil\",\"Brazil\",\"Brazil\",\"Brazil\",\"Brazil\",\"Brazil\",\"Brazil\",\"Brazil\",\"Brazil\",\"Brazil\",\"Brazil\",\"Brazil\",\"Brazil\",\"Brazil\",\"Brunei\",\"Burkina Faso\",\"Burkina Faso\",\"Burkina Faso\",\"Burkina Faso\",\"Burundi\",\"Burundi\",\"Cape Verde\",\"Cape Verde\",\"Cambodia\",\"Cambodia\",\"Cambodia\",\"Cambodia\",\"Cambodia\",\"Cameroon\",\"Cameroon\",\"Cameroon\",\"Cameroon\",\"Canada\",\"Central African Republic\",\"Central African Republic\",\"Chad\",\"Chad\",\"Chad\",\"China\",\"China\",\"Colombia\",\"Colombia\",\"Colombia\",\"Colombia\",\"Comoros\",\"Comoros\",\"Congo\",\"Congo\",\"Congo\",\"Costa Rica\",\"Costa Rica\",\"Costa Rica\",\"Croatia\",\"Croatia\",\"Croatia\",\"Croatia\",\"Croatia\",\"Croatia\",\"Cuba\",\"Cuba\",\"Cuba\",\"Cuba\",\"Cuba\",\"Cuba\",\"Ivory Coast\",\"Ivory Coast\",\"Ivory Coast\",\"Ivory Coast\",\"Korea, Democratic People's Republic of\",\"Korea, Democratic People's Republic of\",\"Congo, the Democratic Republic of the\",\"Congo, the Democratic Republic of the\",\"Congo, the Democratic Republic of the\",\"Congo, the Democratic Republic of the\",\"Djibouti\",\"Djibouti\",\"Dominican Republic\",\"Dominican Republic\",\"Dominican Republic\",\"Dominican Republic\",\"Dominican Republic\",\"Ecuador\",\"Egypt\",\"Egypt\",\"Egypt\",\"Egypt\",\"Egypt\",\"Egypt\",\"El Salvador\",\"El Salvador\",\"El Salvador\",\"Equatorial Guinea\",\"Eritrea\",\"Eritrea\",\"Estonia\",\"Swaziland\",\"Swaziland\",\"Swaziland\",\"Swaziland\",\"Ethiopia\",\"Ethiopia\",\"Ethiopia\",\"Ethiopia\",\"Ethiopia\",\"Ethiopia\",\"Fiji\",\"Fiji\",\"France\",\"Gabon\",\"Gabon\",\"Gabon\",\"Gambia\",\"Gambia\",\"Gambia\",\"Gambia\",\"Gambia\",\"Georgia\",\"Georgia\",\"Georgia\",\"Georgia\",\"Georgia\",\"Georgia\",\"Georgia\",\"Georgia\",\"Georgia\",\"Germany\",\"Ghana\",\"Ghana\",\"Ghana\",\"Ghana\",\"Ghana\",\"Ghana\",\"Ghana\",\"Ghana\",\"Ghana\",\"Guatemala\",\"Guinea\",\"Guinea\",\"Guinea\",\"Guinea\",\"Guinea\",\"Guinea\",\"Guinea-Bissau\",\"Guinea-Bissau\",\"Guinea-Bissau\",\"Guyana\",\"Guyana\",\"Guyana\",\"Haiti\",\"Haiti\",\"Haiti\",\"Haiti\",\"Honduras\",\"Honduras\",\"Honduras\",\"Honduras\",\"India\",\"India\",\"India\",\"India\",\"Indonesia\",\"Indonesia\",\"Indonesia\",\"Indonesia\",\"Indonesia\",\"Iran, Islamic Republic of\",\"Iraq\",\"Iraq\",\"Italy\",\"Jamaica\",\"Jamaica\",\"Jordan\",\"Jordan\",\"Jordan\",\"Jordan\",\"Jordan\",\"Kazakhstan\",\"Kazakhstan\",\"Kenya\",\"Kenya\",\"Kenya\",\"Kenya\",\"Kenya\",\"Kiribati\",\"Kiribati\",\"Kyrgyzstan\",\"Kyrgyzstan\",\"Kyrgyzstan\",\"Kyrgyzstan\",\"Lao People's Democratic Republic\",\"Lao People's Democratic Republic\",\"Lesotho\",\"Lesotho\",\"Lesotho\",\"Lesotho\",\"Liberia\",\"Liberia\",\"Liberia\",\"Libyan Arab Jamahiriya\",\"Luxembourg\",\"Madagascar\",\"Madagascar\",\"Madagascar\",\"Madagascar\",\"Madagascar\",\"Malawi\",\"Malawi\",\"Malawi\",\"Malawi\",\"Malawi\",\"Malawi\",\"Malaysia\",\"Malaysia\",\"Maldives\",\"Maldives\",\"Maldives\",\"Mali\",\"Mali\",\"Mali\",\"Mali\",\"Mali\",\"Mali\",\"Marshall Islands\",\"Mauritania\",\"Mauritania\",\"Mauritania\",\"Mauritania\",\"Mexico\",\"Mexico\",\"Mexico\",\"Mexico\",\"Mongolia\",\"Mongolia\",\"Mongolia\",\"Montenegro\",\"Montenegro\",\"Morocco\",\"Morocco\",\"Morocco\",\"Mozambique\",\"Mozambique\",\"Mozambique\",\"Mozambique\",\"Mozambique\",\"Myanmar\",\"Myanmar\",\"Myanmar\",\"Namibia\",\"Namibia\",\"Namibia\",\"Nauru\",\"Nepal\",\"Nepal\",\"Nepal\",\"Nepal\",\"Nepal\",\"Nepal\",\"Nepal\",\"Nicaragua\",\"Nicaragua\",\"Nicaragua\",\"Niger\",\"Niger\",\"Niger\",\"Niger\",\"Nigeria\",\"Nigeria\",\"Nigeria\",\"Nigeria\",\"Nigeria\",\"Nigeria\",\"Nigeria\",\"Macedonia, the former Yugoslav Republic of\",\"Macedonia, the former Yugoslav Republic of\",\"Oman\",\"Oman\",\"Oman\",\"Oman\",\"Oman\",\"Oman\",\"Oman\",\"Oman\",\"Oman\",\"Oman\",\"Oman\",\"Oman\",\"Oman\",\"Pakistan\",\"Pakistan\",\"Pakistan\",\"Pakistan\",\"Palau\",\"Palau\",\"Panama\",\"Papua New Guinea\",\"Papua New Guinea\",\"Paraguay\",\"Paraguay\",\"Paraguay\",\"Paraguay\",\"Paraguay\",\"Paraguay\",\"Paraguay\",\"Peru\",\"Peru\",\"Peru\",\"Peru\",\"Peru\",\"Peru\",\"Peru\",\"Peru\",\"Peru\",\"Peru\",\"Peru\",\"Peru\",\"Peru\",\"Philippines\",\"Philippines\",\"Philippines\",\"Philippines\",\"Philippines\",\"Philippines\",\"Qatar\",\"South Korea\",\"Moldova, Republic of\",\"Moldova, Republic of\",\"Romania\",\"Romania\",\"Rwanda\",\"Rwanda\",\"Rwanda\",\"Rwanda\",\"Rwanda\",\"Rwanda\",\"Saint Lucia\",\"St. Vincent and the Grenadines\",\"Samoa\",\"Samoa\",\"Samoa\",\"Samoa\",\"Sao Tome and Principe\",\"Sao Tome and Principe\",\"Saudi Arabia\",\"Senegal\",\"Senegal\",\"Senegal\",\"Senegal\",\"Senegal\",\"Senegal\",\"Senegal\",\"Senegal\",\"Senegal\",\"Senegal\",\"Serbia\",\"Serbia\",\"Serbia\",\"Sierra Leone\",\"Sierra Leone\",\"Sierra Leone\",\"Sierra Leone\",\"Sierra Leone\",\"Solomon Islands\",\"Solomon Islands\",\"Somalia\",\"Somalia\",\"South Africa\",\"South Africa\",\"South Africa\",\"South Sudan\",\"South Sudan\",\"South Sudan\",\"Sri Lanka\",\"Palestinian Territory, Occupied\",\"Palestinian Territory, Occupied\",\"Palestinian Territory, Occupied\",\"Sudan\",\"Sudan\",\"Suriname\",\"Suriname\",\"Syrian Arab Republic\",\"Tajikistan\",\"Tajikistan\",\"Tajikistan\",\"Thailand\",\"Thailand\",\"Thailand\",\"Thailand\",\"Thailand\",\"Timor-Leste\",\"Timor-Leste\",\"Timor-Leste\",\"Timor-Leste\",\"Togo\",\"Togo\",\"Togo\",\"Tonga\",\"Tonga\",\"Trinidad and Tobago\",\"Trinidad and Tobago\",\"Tunisia\",\"Tunisia\",\"Tunisia\",\"Turkmenistan\",\"Turkmenistan\",\"Turkmenistan\",\"Turks and Caicos Islands\",\"Tuvalu\",\"Tuvalu\",\"Turkey\",\"Turkey\",\"Turkey\",\"Turkey\",\"Uganda\",\"Uganda\",\"Uganda\",\"Uganda\",\"Uganda\",\"Ukraine\",\"Ukraine\",\"Tanzania, United Republic of\",\"Tanzania, United Republic of\",\"Tanzania, United Republic of\",\"Tanzania, United Republic of\",\"Tanzania, United Republic of\",\"United States\",\"Uruguay\",\"Uruguay\",\"Uruguay\",\"Uruguay\",\"Uzbekistan\",\"Vanuatu\",\"Venezuela, Bolivarian Republic of\",\"Venezuela, Bolivarian Republic of\",\"Vietnam\",\"Vietnam\",\"Vietnam\",\"Vietnam\",\"Yemen\",\"Yemen\",\"Yemen\",\"Zambia\",\"Zambia\",\"Zambia\",\"Zambia\",\"Zimbabwe\",\"Zimbabwe\",\"Zimbabwe\",\"Zimbabwe\",\"Zimbabwe\",\"Zimbabwe\"],\"locationmode\":\"country names\",\"locations\":[\"Afghanistan\",\"Afghanistan\",\"Afghanistan\",\"Afghanistan\",\"Afghanistan\",\"Afghanistan\",\"Afghanistan\",\"Afghanistan\",\"Albania\",\"Albania\",\"Albania\",\"Algeria\",\"Algeria\",\"Angola\",\"Antigua and Barbuda\",\"Argentina\",\"Argentina\",\"Argentina\",\"Armenia\",\"Armenia\",\"Armenia\",\"Armenia\",\"Australia\",\"Azerbaijan\",\"Azerbaijan\",\"Azerbaijan\",\"Azerbaijan\",\"Bahamas\",\"Bahrain\",\"Bangladesh\",\"Bangladesh\",\"Bangladesh\",\"Bangladesh\",\"Bangladesh\",\"Bangladesh\",\"Bangladesh\",\"Bangladesh\",\"Bangladesh\",\"Bangladesh\",\"Bangladesh\",\"Barbados\",\"Belarus\",\"Belarus\",\"Belize\",\"Belize\",\"Benin\",\"Benin\",\"Benin\",\"Benin\",\"Benin\",\"Benin\",\"Bhutan\",\"Bhutan\",\"Bhutan\",\"Bolivia, Plurinational State of\",\"Bolivia, Plurinational State of\",\"Bolivia, Plurinational State of\",\"Bolivia, Plurinational State of\",\"Bosnia and Herzegovina\",\"Botswana\",\"Brazil\",\"Brazil\",\"Brazil\",\"Brazil\",\"Brazil\",\"Brazil\",\"Brazil\",\"Brazil\",\"Brazil\",\"Brazil\",\"Brazil\",\"Brazil\",\"Brazil\",\"Brazil\",\"Brazil\",\"Brazil\",\"Brazil\",\"Brazil\",\"Brazil\",\"Brazil\",\"Brazil\",\"Brazil\",\"Brunei\",\"Burkina Faso\",\"Burkina Faso\",\"Burkina Faso\",\"Burkina Faso\",\"Burundi\",\"Burundi\",\"Cape Verde\",\"Cape Verde\",\"Cambodia\",\"Cambodia\",\"Cambodia\",\"Cambodia\",\"Cambodia\",\"Cameroon\",\"Cameroon\",\"Cameroon\",\"Cameroon\",\"Canada\",\"Central African Republic\",\"Central African Republic\",\"Chad\",\"Chad\",\"Chad\",\"China\",\"China\",\"Colombia\",\"Colombia\",\"Colombia\",\"Colombia\",\"Comoros\",\"Comoros\",\"Congo\",\"Congo\",\"Congo\",\"Costa Rica\",\"Costa Rica\",\"Costa Rica\",\"Croatia\",\"Croatia\",\"Croatia\",\"Croatia\",\"Croatia\",\"Croatia\",\"Cuba\",\"Cuba\",\"Cuba\",\"Cuba\",\"Cuba\",\"Cuba\",\"Ivory Coast\",\"Ivory Coast\",\"Ivory Coast\",\"Ivory Coast\",\"Korea, Democratic People's Republic of\",\"Korea, Democratic People's Republic of\",\"Congo, the Democratic Republic of the\",\"Congo, the Democratic Republic of the\",\"Congo, the Democratic Republic of the\",\"Congo, the Democratic Republic of the\",\"Djibouti\",\"Djibouti\",\"Dominican Republic\",\"Dominican Republic\",\"Dominican Republic\",\"Dominican Republic\",\"Dominican Republic\",\"Ecuador\",\"Egypt\",\"Egypt\",\"Egypt\",\"Egypt\",\"Egypt\",\"Egypt\",\"El Salvador\",\"El Salvador\",\"El Salvador\",\"Equatorial Guinea\",\"Eritrea\",\"Eritrea\",\"Estonia\",\"Swaziland\",\"Swaziland\",\"Swaziland\",\"Swaziland\",\"Ethiopia\",\"Ethiopia\",\"Ethiopia\",\"Ethiopia\",\"Ethiopia\",\"Ethiopia\",\"Fiji\",\"Fiji\",\"France\",\"Gabon\",\"Gabon\",\"Gabon\",\"Gambia\",\"Gambia\",\"Gambia\",\"Gambia\",\"Gambia\",\"Georgia\",\"Georgia\",\"Georgia\",\"Georgia\",\"Georgia\",\"Georgia\",\"Georgia\",\"Georgia\",\"Georgia\",\"Germany\",\"Ghana\",\"Ghana\",\"Ghana\",\"Ghana\",\"Ghana\",\"Ghana\",\"Ghana\",\"Ghana\",\"Ghana\",\"Guatemala\",\"Guinea\",\"Guinea\",\"Guinea\",\"Guinea\",\"Guinea\",\"Guinea\",\"Guinea-Bissau\",\"Guinea-Bissau\",\"Guinea-Bissau\",\"Guyana\",\"Guyana\",\"Guyana\",\"Haiti\",\"Haiti\",\"Haiti\",\"Haiti\",\"Honduras\",\"Honduras\",\"Honduras\",\"Honduras\",\"India\",\"India\",\"India\",\"India\",\"Indonesia\",\"Indonesia\",\"Indonesia\",\"Indonesia\",\"Indonesia\",\"Iran, Islamic Republic of\",\"Iraq\",\"Iraq\",\"Italy\",\"Jamaica\",\"Jamaica\",\"Jordan\",\"Jordan\",\"Jordan\",\"Jordan\",\"Jordan\",\"Kazakhstan\",\"Kazakhstan\",\"Kenya\",\"Kenya\",\"Kenya\",\"Kenya\",\"Kenya\",\"Kiribati\",\"Kiribati\",\"Kyrgyzstan\",\"Kyrgyzstan\",\"Kyrgyzstan\",\"Kyrgyzstan\",\"Lao People's Democratic Republic\",\"Lao People's Democratic Republic\",\"Lesotho\",\"Lesotho\",\"Lesotho\",\"Lesotho\",\"Liberia\",\"Liberia\",\"Liberia\",\"Libyan Arab Jamahiriya\",\"Luxembourg\",\"Madagascar\",\"Madagascar\",\"Madagascar\",\"Madagascar\",\"Madagascar\",\"Malawi\",\"Malawi\",\"Malawi\",\"Malawi\",\"Malawi\",\"Malawi\",\"Malaysia\",\"Malaysia\",\"Maldives\",\"Maldives\",\"Maldives\",\"Mali\",\"Mali\",\"Mali\",\"Mali\",\"Mali\",\"Mali\",\"Marshall Islands\",\"Mauritania\",\"Mauritania\",\"Mauritania\",\"Mauritania\",\"Mexico\",\"Mexico\",\"Mexico\",\"Mexico\",\"Mongolia\",\"Mongolia\",\"Mongolia\",\"Montenegro\",\"Montenegro\",\"Morocco\",\"Morocco\",\"Morocco\",\"Mozambique\",\"Mozambique\",\"Mozambique\",\"Mozambique\",\"Mozambique\",\"Myanmar\",\"Myanmar\",\"Myanmar\",\"Namibia\",\"Namibia\",\"Namibia\",\"Nauru\",\"Nepal\",\"Nepal\",\"Nepal\",\"Nepal\",\"Nepal\",\"Nepal\",\"Nepal\",\"Nicaragua\",\"Nicaragua\",\"Nicaragua\",\"Niger\",\"Niger\",\"Niger\",\"Niger\",\"Nigeria\",\"Nigeria\",\"Nigeria\",\"Nigeria\",\"Nigeria\",\"Nigeria\",\"Nigeria\",\"Macedonia, the former Yugoslav Republic of\",\"Macedonia, the former Yugoslav Republic of\",\"Oman\",\"Oman\",\"Oman\",\"Oman\",\"Oman\",\"Oman\",\"Oman\",\"Oman\",\"Oman\",\"Oman\",\"Oman\",\"Oman\",\"Oman\",\"Pakistan\",\"Pakistan\",\"Pakistan\",\"Pakistan\",\"Palau\",\"Palau\",\"Panama\",\"Papua New Guinea\",\"Papua New Guinea\",\"Paraguay\",\"Paraguay\",\"Paraguay\",\"Paraguay\",\"Paraguay\",\"Paraguay\",\"Paraguay\",\"Peru\",\"Peru\",\"Peru\",\"Peru\",\"Peru\",\"Peru\",\"Peru\",\"Peru\",\"Peru\",\"Peru\",\"Peru\",\"Peru\",\"Peru\",\"Philippines\",\"Philippines\",\"Philippines\",\"Philippines\",\"Philippines\",\"Philippines\",\"Qatar\",\"South Korea\",\"Moldova, Republic of\",\"Moldova, Republic of\",\"Romania\",\"Romania\",\"Rwanda\",\"Rwanda\",\"Rwanda\",\"Rwanda\",\"Rwanda\",\"Rwanda\",\"Saint Lucia\",\"St. Vincent and the Grenadines\",\"Samoa\",\"Samoa\",\"Samoa\",\"Samoa\",\"Sao Tome and Principe\",\"Sao Tome and Principe\",\"Saudi Arabia\",\"Senegal\",\"Senegal\",\"Senegal\",\"Senegal\",\"Senegal\",\"Senegal\",\"Senegal\",\"Senegal\",\"Senegal\",\"Senegal\",\"Serbia\",\"Serbia\",\"Serbia\",\"Sierra Leone\",\"Sierra Leone\",\"Sierra Leone\",\"Sierra Leone\",\"Sierra Leone\",\"Solomon Islands\",\"Solomon Islands\",\"Somalia\",\"Somalia\",\"South Africa\",\"South Africa\",\"South Africa\",\"South Sudan\",\"South Sudan\",\"South Sudan\",\"Sri Lanka\",\"Palestinian Territory, Occupied\",\"Palestinian Territory, Occupied\",\"Palestinian Territory, Occupied\",\"Sudan\",\"Sudan\",\"Suriname\",\"Suriname\",\"Syrian Arab Republic\",\"Tajikistan\",\"Tajikistan\",\"Tajikistan\",\"Thailand\",\"Thailand\",\"Thailand\",\"Thailand\",\"Thailand\",\"Timor-Leste\",\"Timor-Leste\",\"Timor-Leste\",\"Timor-Leste\",\"Togo\",\"Togo\",\"Togo\",\"Tonga\",\"Tonga\",\"Trinidad and Tobago\",\"Trinidad and Tobago\",\"Tunisia\",\"Tunisia\",\"Tunisia\",\"Turkmenistan\",\"Turkmenistan\",\"Turkmenistan\",\"Turks and Caicos Islands\",\"Tuvalu\",\"Tuvalu\",\"Turkey\",\"Turkey\",\"Turkey\",\"Turkey\",\"Uganda\",\"Uganda\",\"Uganda\",\"Uganda\",\"Uganda\",\"Ukraine\",\"Ukraine\",\"Tanzania, United Republic of\",\"Tanzania, United Republic of\",\"Tanzania, United Republic of\",\"Tanzania, United Republic of\",\"Tanzania, United Republic of\",\"United States\",\"Uruguay\",\"Uruguay\",\"Uruguay\",\"Uruguay\",\"Uzbekistan\",\"Vanuatu\",\"Venezuela, Bolivarian Republic of\",\"Venezuela, Bolivarian Republic of\",\"Vietnam\",\"Vietnam\",\"Vietnam\",\"Vietnam\",\"Yemen\",\"Yemen\",\"Yemen\",\"Zambia\",\"Zambia\",\"Zambia\",\"Zambia\",\"Zimbabwe\",\"Zimbabwe\",\"Zimbabwe\",\"Zimbabwe\",\"Zimbabwe\",\"Zimbabwe\"],\"name\":\"\",\"z\":{\"dtype\":\"f8\",\"bdata\":\"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\\u002fNVQM3MzMzMjFVAZmZmZmZmSEBmZmZmZiZJQM3MzMzMTExAzczMzMxMSUBmZmZmZqZBQGZmZmZmJk1AZmZmZmbmUECamZmZmTlQQM3MzMzMLFRAAAAAAACgU0DNzMzMzKxVQM3MzMzMLFVAmpmZmZkZRkBmZmZmZuZKQDMzMzMz01BAZmZmZmamUEDNzMzMzExNQDMzMzMzM1RAmpmZmZk5VkAzMzMzMxNWQAAAAAAAgEJAMzMzMzOzRkCamZmZmZlJQDMzMzMzM01AAAAAAABAVEAAAAAAAGBUQDMzMzMz81VAAAAAAADgVECamZmZmVlTQDMzMzMzk1dAzczMzMzMSECamZmZmflQQGZmZmZmBlFAAAAAAADAVUBmZmZmZmZVQJqZmZmZuVZAZmZmZmaGV0AAAAAAAKBXQAAAAAAA4FZAZmZmZmZGV0AAAAAAAMBVQDMzMzMz01dAZmZmZmYmSkDNzMzMzIxHQM3MzMzMzExAAAAAAABATUAAAAAAAIBQQDMzMzMzs1FAAAAAAADAUEBmZmZmZuZUQGZmZmZmpldAMzMzMzOTV0AAAAAAAEBWQDMzMzMzc0JAmpmZmZkZT0BmZmZmZmZRQJqZmZmZmVFAmpmZmZmZUkBmZmZmZiZTQAAAAAAAgFBAZmZmZmaGU0AzMzMzM9NVQDMzMzMzk1BAMzMzMzNTWEAzMzMzM\\u002fNDQGZmZmZmpkhAzczMzMyMSUDNzMzMzExJQDMzMzMz801AAAAAAAAATEDNzMzMzIxMQAAAAAAAwEZAmpmZmZlZRkDNzMzMzExJQAAAAAAAQElAmpmZmZlZWEBmZmZmZoZYQAAAAAAAwFZAZmZmZmZGVUBmZmZmZmZUQGZmZmZm5j1AMzMzMzOzQUAzMzMzM3NBQJqZmZmZmURAAAAAAAAAQ0BmZmZmZqZFQGZmZmZmRlNAZmZmZmZmMEAzMzMzMzNIQAAAAAAAgE9AAAAAAABAQ0AzMzMzMxNWQDMzMzMzk1VAAAAAAADAVkAzMzMzM5NXQJqZmZmZWVRAZmZmZmZmVkAAAAAAACBWQGZmZmZmplVAzczMzMyMV0AAAAAAAIA+QGZmZmZmpktAAAAAAADASkDNzMzMzIxKQM3MzMzMTElAmpmZmZnZSUAAAAAAAIBJQM3MzMzMTEhAmpmZmZl5UECamZmZmVlSQM3MzMzMTE1AZmZmZmZGUUCamZmZmZlRQAAAAAAAQE9AmpmZmZkZRECamZmZmZksQGZmZmZmZj1AzczMzMwMSUAAAAAAAMBNQJqZmZmZWVFAMzMzMzNzU0AAAAAAACBUQGZmZmZm5lFAzczMzMxsU0BmZmZmZuZVQM3MzMzMzC1AZmZmZmZmQEAAAAAAAEBDQGZmZmZmpkJAMzMzMzOzR0BmZmZmZmZGQM3MzMzMTExAzczMzMyMSUDNzMzMzIxIQGZmZmZmZkxAMzMzMzMzTkCamZmZmXlXQM3MzMzM7FdAzczMzMzsUkDNzMzMzIxVQDMzMzMz01RAMzMzMzOTVUCamZmZmRlYQDMzMzMzU1VAmpmZmZkZVEAzMzMzM3NXQAAAAAAAIFNAAAAAAACgUkBmZmZmZkZTQJqZmZmZGVNAmpmZmZl5UkBmZmZmZmY8QM3MzMzMTEJAMzMzMzOzSUAzMzMzMzNKQAAAAAAAAFZAAAAAAABAVECamZmZmflVQDMzMzMzc0tAAAAAAACASEAzMzMzM7NTQAAAAAAAoFZAMzMzMzPTVEBmZmZmZmZXQJqZmZmZeVVAZmZmZmZGVUAAAAAAAEBUQAAAAAAAQFFAAAAAAADAVUCamZmZmdlVQAAAAAAAIFdAmpmZmZk5V0DNzMzMzIxXQJqZmZmZmVdAZmZmZmbGV0DNzMzMzKxXQGZmZmZm5ldAAAAAAAAAWEAzMzMzMxNYQDMzMzMz81dAmpmZmZmZUUAzMzMzM3NTQGZmZmZmhlNAMzMzMzMTVUAAAAAAAKBVQAAAAAAAwFRAAAAAAAAgVUAzMzMzMzNYQDMzMzMzM1ZAmpmZmZnZV0AAAAAAAABTQGZmZmZmhlFAzczMzMzMJECamZmZmZkqQGZmZmZm5jdAMzMzMzOzQUAzMzMzM\\u002fNFQJqZmZmZmUdAMzMzMzOTVkAAAAAAAOBYQDMzMzMzM01AmpmZmZk5UkAzMzMzM3NRQDMzMzMzc1FAmpmZmZkZUkBmZmZmZuZUQM3MzMzM7FNAZmZmZmbmQ0AAAAAAAABJQAAAAAAAQEdAzczMzMwMSECamZmZmVlHQGZmZmZm5kpAAAAAAACATEAAAAAAAEBNQAAAAAAAwEtAMzMzMzMzPUDNzMzMzIxXQJqZmZmZeVdAZmZmZmYmWEDNzMzMzAxMQM3MzMzMrFJAAAAAAAAAU0AAAAAAAGBTQDMzMzMzs1NAZmZmZmYmUECamZmZmTlRQDMzMzMzMxlAZmZmZmZmOEDNzMzMzAxMQGZmZmZmxlVAAAAAAADgUkDNzMzMzEwxQJqZmZmZGT9AAAAAAAAAP0AAAAAAACBXQAAAAAAAgFdAAAAAAADgV0AzMzMzM7NXQM3MzMzMjEdAmpmZmZlZSUAzMzMzM7NQQAAAAAAA4FBAmpmZmZnZT0AzMzMzM7NIQAAAAAAAQEpAzczMzMwMUEBmZmZmZuZTQJqZmZmZWVdAMzMzMzOzVkAAAAAAAIBWQDMzMzMzE1ZAmpmZmZmZPUDNzMzMzIxLQM3MzMzMLFNAZmZmZmbGVEAzMzMzM3NLQJqZmZmZmUxAZmZmZmZmS0CamZmZmZlRQAAAAAAAIFZAMzMzMzPTVUAAAAAAAABZQAAAAAAA4FBAZmZmZmZGVUBmZmZmZgZVQDMzMzMzs1RAmpmZmZkZWEBmZmZmZmZYQM3MzMzMTFdAMzMzMzPTUEBmZmZmZiZOQDMzMzMz80pAzczMzMxsUkCamZmZmTlWQM3MzMzMbFZAMzMzMzPzRECamZmZmZlHQM3MzMzMzEdAMzMzMzPzTUCamZmZmVlMQDMzMzMzs1JAzczMzMzMVUAAAAAAAMBOQGZmZmZmZkVAmpmZmZlZSUCamZmZmRlPQGZmZmZmRlBAZmZmZmYmWEAAAAAAAIBWQDMzMzMzM1NAMzMzMzMzWEAzMzMzM1NYQAAAAAAAYFZAZmZmZmbmSUAAAAAAAIBOQDMzMzMz81RAzczMzMxMPUDNzMzMzMxNQM3MzMzMbFJAzczMzMwMVkDNzMzMzMwrQJqZmZmZGTlAMzMzMzMzQEBmZmZmZuZRQGZmZmZmJk5AAAAAAADAS0AAAAAAAMBPQGZmZmZmxlFAZmZmZmZmTEAzMzMzMzNQQGZmZmZmhlFAzczMzMzsUkAAAAAAAOBRQA==\"},\"type\":\"choropleth\"}],                        {\"template\":{\"data\":{\"histogram2dcontour\":[{\"type\":\"histogram2dcontour\",\"colorbar\":{\"outlinewidth\":0,\"ticks\":\"\"},\"colorscale\":[[0.0,\"#0d0887\"],[0.1111111111111111,\"#46039f\"],[0.2222222222222222,\"#7201a8\"],[0.3333333333333333,\"#9c179e\"],[0.4444444444444444,\"#bd3786\"],[0.5555555555555556,\"#d8576b\"],[0.6666666666666666,\"#ed7953\"],[0.7777777777777778,\"#fb9f3a\"],[0.8888888888888888,\"#fdca26\"],[1.0,\"#f0f921\"]]}],\"choropleth\":[{\"type\":\"choropleth\",\"colorbar\":{\"outlinewidth\":0,\"ticks\":\"\"}}],\"histogram2d\":[{\"type\":\"histogram2d\",\"colorbar\":{\"outlinewidth\":0,\"ticks\":\"\"},\"colorscale\":[[0.0,\"#0d0887\"],[0.1111111111111111,\"#46039f\"],[0.2222222222222222,\"#7201a8\"],[0.3333333333333333,\"#9c179e\"],[0.4444444444444444,\"#bd3786\"],[0.5555555555555556,\"#d8576b\"],[0.6666666666666666,\"#ed7953\"],[0.7777777777777778,\"#fb9f3a\"],[0.8888888888888888,\"#fdca26\"],[1.0,\"#f0f921\"]]}],\"heatmap\":[{\"type\":\"heatmap\",\"colorbar\":{\"outlinewidth\":0,\"ticks\":\"\"},\"colorscale\":[[0.0,\"#0d0887\"],[0.1111111111111111,\"#46039f\"],[0.2222222222222222,\"#7201a8\"],[0.3333333333333333,\"#9c179e\"],[0.4444444444444444,\"#bd3786\"],[0.5555555555555556,\"#d8576b\"],[0.6666666666666666,\"#ed7953\"],[0.7777777777777778,\"#fb9f3a\"],[0.8888888888888888,\"#fdca26\"],[1.0,\"#f0f921\"]]}],\"contourcarpet\":[{\"type\":\"contourcarpet\",\"colorbar\":{\"outlinewidth\":0,\"ticks\":\"\"}}],\"contour\":[{\"type\":\"contour\",\"colorbar\":{\"outlinewidth\":0,\"ticks\":\"\"},\"colorscale\":[[0.0,\"#0d0887\"],[0.1111111111111111,\"#46039f\"],[0.2222222222222222,\"#7201a8\"],[0.3333333333333333,\"#9c179e\"],[0.4444444444444444,\"#bd3786\"],[0.5555555555555556,\"#d8576b\"],[0.6666666666666666,\"#ed7953\"],[0.7777777777777778,\"#fb9f3a\"],[0.8888888888888888,\"#fdca26\"],[1.0,\"#f0f921\"]]}],\"surface\":[{\"type\":\"surface\",\"colorbar\":{\"outlinewidth\":0,\"ticks\":\"\"},\"colorscale\":[[0.0,\"#0d0887\"],[0.1111111111111111,\"#46039f\"],[0.2222222222222222,\"#7201a8\"],[0.3333333333333333,\"#9c179e\"],[0.4444444444444444,\"#bd3786\"],[0.5555555555555556,\"#d8576b\"],[0.6666666666666666,\"#ed7953\"],[0.7777777777777778,\"#fb9f3a\"],[0.8888888888888888,\"#fdca26\"],[1.0,\"#f0f921\"]]}],\"mesh3d\":[{\"type\":\"mesh3d\",\"colorbar\":{\"outlinewidth\":0,\"ticks\":\"\"}}],\"scatter\":[{\"fillpattern\":{\"fillmode\":\"overlay\",\"size\":10,\"solidity\":0.2},\"type\":\"scatter\"}],\"parcoords\":[{\"type\":\"parcoords\",\"line\":{\"colorbar\":{\"outlinewidth\":0,\"ticks\":\"\"}}}],\"scatterpolargl\":[{\"type\":\"scatterpolargl\",\"marker\":{\"colorbar\":{\"outlinewidth\":0,\"ticks\":\"\"}}}],\"bar\":[{\"error_x\":{\"color\":\"#2a3f5f\"},\"error_y\":{\"color\":\"#2a3f5f\"},\"marker\":{\"line\":{\"color\":\"#E5ECF6\",\"width\":0.5},\"pattern\":{\"fillmode\":\"overlay\",\"size\":10,\"solidity\":0.2}},\"type\":\"bar\"}],\"scattergeo\":[{\"type\":\"scattergeo\",\"marker\":{\"colorbar\":{\"outlinewidth\":0,\"ticks\":\"\"}}}],\"scatterpolar\":[{\"type\":\"scatterpolar\",\"marker\":{\"colorbar\":{\"outlinewidth\":0,\"ticks\":\"\"}}}],\"histogram\":[{\"marker\":{\"pattern\":{\"fillmode\":\"overlay\",\"size\":10,\"solidity\":0.2}},\"type\":\"histogram\"}],\"scattergl\":[{\"type\":\"scattergl\",\"marker\":{\"colorbar\":{\"outlinewidth\":0,\"ticks\":\"\"}}}],\"scatter3d\":[{\"type\":\"scatter3d\",\"line\":{\"colorbar\":{\"outlinewidth\":0,\"ticks\":\"\"}},\"marker\":{\"colorbar\":{\"outlinewidth\":0,\"ticks\":\"\"}}}],\"scattermap\":[{\"type\":\"scattermap\",\"marker\":{\"colorbar\":{\"outlinewidth\":0,\"ticks\":\"\"}}}],\"scattermapbox\":[{\"type\":\"scattermapbox\",\"marker\":{\"colorbar\":{\"outlinewidth\":0,\"ticks\":\"\"}}}],\"scatterternary\":[{\"type\":\"scatterternary\",\"marker\":{\"colorbar\":{\"outlinewidth\":0,\"ticks\":\"\"}}}],\"scattercarpet\":[{\"type\":\"scattercarpet\",\"marker\":{\"colorbar\":{\"outlinewidth\":0,\"ticks\":\"\"}}}],\"carpet\":[{\"aaxis\":{\"endlinecolor\":\"#2a3f5f\",\"gridcolor\":\"white\",\"linecolor\":\"white\",\"minorgridcolor\":\"white\",\"startlinecolor\":\"#2a3f5f\"},\"baxis\":{\"endlinecolor\":\"#2a3f5f\",\"gridcolor\":\"white\",\"linecolor\":\"white\",\"minorgridcolor\":\"white\",\"startlinecolor\":\"#2a3f5f\"},\"type\":\"carpet\"}],\"table\":[{\"cells\":{\"fill\":{\"color\":\"#EBF0F8\"},\"line\":{\"color\":\"white\"}},\"header\":{\"fill\":{\"color\":\"#C8D4E3\"},\"line\":{\"color\":\"white\"}},\"type\":\"table\"}],\"barpolar\":[{\"marker\":{\"line\":{\"color\":\"#E5ECF6\",\"width\":0.5},\"pattern\":{\"fillmode\":\"overlay\",\"size\":10,\"solidity\":0.2}},\"type\":\"barpolar\"}],\"pie\":[{\"automargin\":true,\"type\":\"pie\"}]},\"layout\":{\"autotypenumbers\":\"strict\",\"colorway\":[\"#636efa\",\"#EF553B\",\"#00cc96\",\"#ab63fa\",\"#FFA15A\",\"#19d3f3\",\"#FF6692\",\"#B6E880\",\"#FF97FF\",\"#FECB52\"],\"font\":{\"color\":\"#2a3f5f\"},\"hovermode\":\"closest\",\"hoverlabel\":{\"align\":\"left\"},\"paper_bgcolor\":\"white\",\"plot_bgcolor\":\"#E5ECF6\",\"polar\":{\"bgcolor\":\"#E5ECF6\",\"angularaxis\":{\"gridcolor\":\"white\",\"linecolor\":\"white\",\"ticks\":\"\"},\"radialaxis\":{\"gridcolor\":\"white\",\"linecolor\":\"white\",\"ticks\":\"\"}},\"ternary\":{\"bgcolor\":\"#E5ECF6\",\"aaxis\":{\"gridcolor\":\"white\",\"linecolor\":\"white\",\"ticks\":\"\"},\"baxis\":{\"gridcolor\":\"white\",\"linecolor\":\"white\",\"ticks\":\"\"},\"caxis\":{\"gridcolor\":\"white\",\"linecolor\":\"white\",\"ticks\":\"\"}},\"coloraxis\":{\"colorbar\":{\"outlinewidth\":0,\"ticks\":\"\"}},\"colorscale\":{\"sequential\":[[0.0,\"#0d0887\"],[0.1111111111111111,\"#46039f\"],[0.2222222222222222,\"#7201a8\"],[0.3333333333333333,\"#9c179e\"],[0.4444444444444444,\"#bd3786\"],[0.5555555555555556,\"#d8576b\"],[0.6666666666666666,\"#ed7953\"],[0.7777777777777778,\"#fb9f3a\"],[0.8888888888888888,\"#fdca26\"],[1.0,\"#f0f921\"]],\"sequentialminus\":[[0.0,\"#0d0887\"],[0.1111111111111111,\"#46039f\"],[0.2222222222222222,\"#7201a8\"],[0.3333333333333333,\"#9c179e\"],[0.4444444444444444,\"#bd3786\"],[0.5555555555555556,\"#d8576b\"],[0.6666666666666666,\"#ed7953\"],[0.7777777777777778,\"#fb9f3a\"],[0.8888888888888888,\"#fdca26\"],[1.0,\"#f0f921\"]],\"diverging\":[[0,\"#8e0152\"],[0.1,\"#c51b7d\"],[0.2,\"#de77ae\"],[0.3,\"#f1b6da\"],[0.4,\"#fde0ef\"],[0.5,\"#f7f7f7\"],[0.6,\"#e6f5d0\"],[0.7,\"#b8e186\"],[0.8,\"#7fbc41\"],[0.9,\"#4d9221\"],[1,\"#276419\"]]},\"xaxis\":{\"gridcolor\":\"white\",\"linecolor\":\"white\",\"ticks\":\"\",\"title\":{\"standoff\":15},\"zerolinecolor\":\"white\",\"automargin\":true,\"zerolinewidth\":2},\"yaxis\":{\"gridcolor\":\"white\",\"linecolor\":\"white\",\"ticks\":\"\",\"title\":{\"standoff\":15},\"zerolinecolor\":\"white\",\"automargin\":true,\"zerolinewidth\":2},\"scene\":{\"xaxis\":{\"backgroundcolor\":\"#E5ECF6\",\"gridcolor\":\"white\",\"linecolor\":\"white\",\"showbackground\":true,\"ticks\":\"\",\"zerolinecolor\":\"white\",\"gridwidth\":2},\"yaxis\":{\"backgroundcolor\":\"#E5ECF6\",\"gridcolor\":\"white\",\"linecolor\":\"white\",\"showbackground\":true,\"ticks\":\"\",\"zerolinecolor\":\"white\",\"gridwidth\":2},\"zaxis\":{\"backgroundcolor\":\"#E5ECF6\",\"gridcolor\":\"white\",\"linecolor\":\"white\",\"showbackground\":true,\"ticks\":\"\",\"zerolinecolor\":\"white\",\"gridwidth\":2}},\"shapedefaults\":{\"line\":{\"color\":\"#2a3f5f\"}},\"annotationdefaults\":{\"arrowcolor\":\"#2a3f5f\",\"arrowhead\":0,\"arrowwidth\":1},\"geo\":{\"bgcolor\":\"white\",\"landcolor\":\"#E5ECF6\",\"subunitcolor\":\"white\",\"showland\":true,\"showlakes\":true,\"lakecolor\":\"white\"},\"title\":{\"x\":0.05},\"mapbox\":{\"style\":\"light\"},\"margin\":{\"b\":0,\"l\":0,\"r\":0,\"t\":30}}},\"geo\":{\"domain\":{\"x\":[0.0,1.0],\"y\":[0.0,1.0]},\"center\":{},\"projection\":{\"type\":\"natural earth\"},\"showframe\":false,\"showcoastlines\":false,\"landcolor\":\"lightgray\",\"showcountries\":true,\"countrycolor\":\"white\"},\"coloraxis\":{\"colorbar\":{\"title\":{\"text\":\"Antenatal Care Visits (%)\"}},\"colorscale\":[[0.0,\"#0d0887\"],[0.1111111111111111,\"#46039f\"],[0.2222222222222222,\"#7201a8\"],[0.3333333333333333,\"#9c179e\"],[0.4444444444444444,\"#bd3786\"],[0.5555555555555556,\"#d8576b\"],[0.6666666666666666,\"#ed7953\"],[0.7777777777777778,\"#fb9f3a\"],[0.8888888888888888,\"#fdca26\"],[1.0,\"#f0f921\"]]},\"legend\":{\"tracegroupgap\":0},\"title\":{\"text\":\"Global Antenatal Care Visits Percentage via World Map\"},\"hoverlabel\":{\"font\":{\"size\":13,\"family\":\"Arial\"},\"bgcolor\":\"white\"},\"margin\":{\"l\":0,\"r\":0,\"t\":50,\"b\":0},\"transition\":{\"duration\":700}},                        {\"responsive\": true}                    ).then(function(){\n",
       "                            \n",
       "var gd = document.getElementById('fecf7b88-261e-4ef7-941d-b41e68d4b1c1');\n",
       "var x = new MutationObserver(function (mutations, observer) {{\n",
       "        var display = window.getComputedStyle(gd).display;\n",
       "        if (!display || display === 'none') {{\n",
       "            console.log([gd, 'removed!']);\n",
       "            Plotly.purge(gd);\n",
       "            observer.disconnect();\n",
       "        }}\n",
       "}});\n",
       "\n",
       "// Listen for the removal of the full notebook cells\n",
       "var notebookContainer = gd.closest('#notebook-container');\n",
       "if (notebookContainer) {{\n",
       "    x.observe(notebookContainer, {childList: true});\n",
       "}}\n",
       "\n",
       "// Listen for the clearing of the current output cell\n",
       "var outputEl = gd.closest('.output');\n",
       "if (outputEl) {{\n",
       "    x.observe(outputEl, {childList: true});\n",
       "}}\n",
       "\n",
       "                        })                };            </script>        </div>"
      ]
     },
     "metadata": {},
     "output_type": "display_data"
    }
   ],
   "source": [
    "import plotly.express as px\n",
    "\n",
    "# World Map: Global Antenatal Care Visits\n",
    "fig = px.choropleth(\n",
    "    indicator_df,\n",
    "    locations=\"country\",\n",
    "    locationmode=\"country names\",\n",
    "    color=\"obs_value\",\n",
    "    hover_name=\"country\",\n",
    "    hover_data={\"country\": False, \"obs_value\": True},\n",
    "    color_continuous_scale=px.colors.sequential.Plasma,\n",
    "    title=\"Global Antenatal Care Visits Percentage via World Map\",\n",
    "    labels={\"obs_value\": \"Antenatal Care Visits (%)\"}\n",
    ")\n",
    "\n",
    "fig.update_traces(\n",
    "    hovertemplate=\"<b>%{hovertext}</b><br><br>\" +\n",
    "                  \"Antenatal Care Visits: %{z:.1f}%<extra></extra>\"\n",
    ")\n",
    "\n",
    "fig.update_layout(\n",
    "    geo=dict(\n",
    "        showframe=False,\n",
    "        showcoastlines=False,\n",
    "        projection_type=\"natural earth\",\n",
    "        landcolor=\"lightgray\",\n",
    "        showcountries=True,\n",
    "        countrycolor=\"white\"\n",
    "    ),\n",
    "    coloraxis_colorbar_title=\"Antenatal Care Visits (%)\",\n",
    "    hoverlabel=dict(\n",
    "        bgcolor=\"white\",\n",
    "        font_size=13,\n",
    "        font_family=\"Arial\"\n",
    "    ),\n",
    "    margin=dict(l=0, r=0, t=50, b=0),\n",
    "    transition_duration=700\n",
    ")\n",
    "\n",
    "fig.show()"
   ]
  },
  {
   "cell_type": "markdown",
   "metadata": {
    "id": "xKlh_50WrNeh"
   },
   "source": [
    "*Global view highlighting disparities in antenatal care visits, with smoother hover insights for a user-friendly exploration.*\n",
    "\n",
    "---\n",
    "\n",
    "> ***The global choropleth map reveals stark regional inequalities in antenatal care visits. Sub-Saharan Africa and parts of South Asia show significantly lower percentages compared to Europe, North America, and Australia. The visualization emphasizes the urgent need for healthcare interventions in underserved regions, especially across Africa and parts of Asia.***\n",
    "\n"
   ]
  },
  {
   "cell_type": "markdown",
   "metadata": {
    "id": "vTqsPmQ_FisU"
   },
   "source": [
    "## **2. Representative Sample of Countries for Antenatal Care Visits (Bar Chart)**\n",
    "\n",
    "\n",
    "*Figure: A representative sample across low to high-performing countries, offering a spectrum of antenatal care coverage through an interactive bar visualization.*\n"
   ]
  },
  {
   "cell_type": "code",
   "execution_count": 3,
   "metadata": {
    "colab": {
     "base_uri": "https://localhost:8080/",
     "height": 542
    },
    "id": "hYqwcNZ3ywZv",
    "outputId": "191a159b-504a-4701-a53e-0c9defcba730"
   },
   "outputs": [
    {
     "data": {
      "text/html": [
       "<div>            <script src=\"https://cdnjs.cloudflare.com/ajax/libs/mathjax/2.7.5/MathJax.js?config=TeX-AMS-MML_SVG\"></script><script type=\"text/javascript\">if (window.MathJax && window.MathJax.Hub && window.MathJax.Hub.Config) {window.MathJax.Hub.Config({SVG: {font: \"STIX-Web\"}});}</script>                <script type=\"text/javascript\">window.PlotlyConfig = {MathJaxConfig: 'local'};</script>\n",
       "        <script charset=\"utf-8\" src=\"https://cdn.plot.ly/plotly-3.0.1.min.js\"></script>                <div id=\"3f528119-5b9c-47ce-92f9-62302e6f23e9\" class=\"plotly-graph-div\" style=\"height:525px; width:100%;\"></div>            <script type=\"text/javascript\">                window.PLOTLYENV=window.PLOTLYENV || {};                                if (document.getElementById(\"3f528119-5b9c-47ce-92f9-62302e6f23e9\")) {                    Plotly.newPlot(                        \"3f528119-5b9c-47ce-92f9-62302e6f23e9\",                        [{\"hovertemplate\":\"\\u003cb\\u003eCountry:\\u003c\\u002fb\\u003e %{x}\\u003cbr\\u003e\\u003cb\\u003eAntenatal Care Visits:\\u003c\\u002fb\\u003e %{y:.2f}%\\u003cextra\\u003e\\u003c\\u002fextra\\u003e\",\"legendgroup\":\"\",\"marker\":{\"color\":{\"dtype\":\"f8\",\"bdata\":\"zczMzMzMMUAzMzMzM3M7QM3MzMzMjEhAZmZmZmbmSkAzMzMzM3NLQGZmZmZmZlNAzczMzMxsU0A0MzMzM4NVQM3MzMzMLFZAMzMzMzNDVkAAAAAAAMBWQAAAAAAAwFhA\"},\"coloraxis\":\"coloraxis\",\"pattern\":{\"shape\":\"\"},\"line\":{\"color\":\"DarkSlateGrey\",\"width\":1.5},\"opacity\":0.85},\"name\":\"\",\"orientation\":\"v\",\"showlegend\":false,\"text\":{\"dtype\":\"f8\",\"bdata\":\"zczMzMzMMUAzMzMzM3M7QM3MzMzMjEhAZmZmZmbmSkAzMzMzM3NLQGZmZmZmZlNAzczMzMxsU0A0MzMzM4NVQM3MzMzMLFZAMzMzMzNDVkAAAAAAAMBWQAAAAAAAwFhA\"},\"textposition\":\"outside\",\"x\":[\"Chad\",\"Mauritania\",\"Nigeria\",\"Haiti\",\"Papua New Guinea\",\"Gambia\",\"Nicaragua\",\"Oman\",\"Fiji\",\"Mongolia\",\"Mexico\",\"Cuba\"],\"xaxis\":\"x\",\"y\":{\"dtype\":\"f8\",\"bdata\":\"zczMzMzMMUAzMzMzM3M7QM3MzMzMjEhAZmZmZmbmSkAzMzMzM3NLQGZmZmZmZlNAzczMzMxsU0A0MzMzM4NVQM3MzMzMLFZAMzMzMzNDVkAAAAAAAMBWQAAAAAAAwFhA\"},\"yaxis\":\"y\",\"type\":\"bar\",\"texttemplate\":\"%{text:.0f}%\"}],                        {\"template\":{\"data\":{\"histogram2dcontour\":[{\"type\":\"histogram2dcontour\",\"colorbar\":{\"outlinewidth\":0,\"ticks\":\"\"},\"colorscale\":[[0.0,\"#0d0887\"],[0.1111111111111111,\"#46039f\"],[0.2222222222222222,\"#7201a8\"],[0.3333333333333333,\"#9c179e\"],[0.4444444444444444,\"#bd3786\"],[0.5555555555555556,\"#d8576b\"],[0.6666666666666666,\"#ed7953\"],[0.7777777777777778,\"#fb9f3a\"],[0.8888888888888888,\"#fdca26\"],[1.0,\"#f0f921\"]]}],\"choropleth\":[{\"type\":\"choropleth\",\"colorbar\":{\"outlinewidth\":0,\"ticks\":\"\"}}],\"histogram2d\":[{\"type\":\"histogram2d\",\"colorbar\":{\"outlinewidth\":0,\"ticks\":\"\"},\"colorscale\":[[0.0,\"#0d0887\"],[0.1111111111111111,\"#46039f\"],[0.2222222222222222,\"#7201a8\"],[0.3333333333333333,\"#9c179e\"],[0.4444444444444444,\"#bd3786\"],[0.5555555555555556,\"#d8576b\"],[0.6666666666666666,\"#ed7953\"],[0.7777777777777778,\"#fb9f3a\"],[0.8888888888888888,\"#fdca26\"],[1.0,\"#f0f921\"]]}],\"heatmap\":[{\"type\":\"heatmap\",\"colorbar\":{\"outlinewidth\":0,\"ticks\":\"\"},\"colorscale\":[[0.0,\"#0d0887\"],[0.1111111111111111,\"#46039f\"],[0.2222222222222222,\"#7201a8\"],[0.3333333333333333,\"#9c179e\"],[0.4444444444444444,\"#bd3786\"],[0.5555555555555556,\"#d8576b\"],[0.6666666666666666,\"#ed7953\"],[0.7777777777777778,\"#fb9f3a\"],[0.8888888888888888,\"#fdca26\"],[1.0,\"#f0f921\"]]}],\"contourcarpet\":[{\"type\":\"contourcarpet\",\"colorbar\":{\"outlinewidth\":0,\"ticks\":\"\"}}],\"contour\":[{\"type\":\"contour\",\"colorbar\":{\"outlinewidth\":0,\"ticks\":\"\"},\"colorscale\":[[0.0,\"#0d0887\"],[0.1111111111111111,\"#46039f\"],[0.2222222222222222,\"#7201a8\"],[0.3333333333333333,\"#9c179e\"],[0.4444444444444444,\"#bd3786\"],[0.5555555555555556,\"#d8576b\"],[0.6666666666666666,\"#ed7953\"],[0.7777777777777778,\"#fb9f3a\"],[0.8888888888888888,\"#fdca26\"],[1.0,\"#f0f921\"]]}],\"surface\":[{\"type\":\"surface\",\"colorbar\":{\"outlinewidth\":0,\"ticks\":\"\"},\"colorscale\":[[0.0,\"#0d0887\"],[0.1111111111111111,\"#46039f\"],[0.2222222222222222,\"#7201a8\"],[0.3333333333333333,\"#9c179e\"],[0.4444444444444444,\"#bd3786\"],[0.5555555555555556,\"#d8576b\"],[0.6666666666666666,\"#ed7953\"],[0.7777777777777778,\"#fb9f3a\"],[0.8888888888888888,\"#fdca26\"],[1.0,\"#f0f921\"]]}],\"mesh3d\":[{\"type\":\"mesh3d\",\"colorbar\":{\"outlinewidth\":0,\"ticks\":\"\"}}],\"scatter\":[{\"fillpattern\":{\"fillmode\":\"overlay\",\"size\":10,\"solidity\":0.2},\"type\":\"scatter\"}],\"parcoords\":[{\"type\":\"parcoords\",\"line\":{\"colorbar\":{\"outlinewidth\":0,\"ticks\":\"\"}}}],\"scatterpolargl\":[{\"type\":\"scatterpolargl\",\"marker\":{\"colorbar\":{\"outlinewidth\":0,\"ticks\":\"\"}}}],\"bar\":[{\"error_x\":{\"color\":\"#2a3f5f\"},\"error_y\":{\"color\":\"#2a3f5f\"},\"marker\":{\"line\":{\"color\":\"#E5ECF6\",\"width\":0.5},\"pattern\":{\"fillmode\":\"overlay\",\"size\":10,\"solidity\":0.2}},\"type\":\"bar\"}],\"scattergeo\":[{\"type\":\"scattergeo\",\"marker\":{\"colorbar\":{\"outlinewidth\":0,\"ticks\":\"\"}}}],\"scatterpolar\":[{\"type\":\"scatterpolar\",\"marker\":{\"colorbar\":{\"outlinewidth\":0,\"ticks\":\"\"}}}],\"histogram\":[{\"marker\":{\"pattern\":{\"fillmode\":\"overlay\",\"size\":10,\"solidity\":0.2}},\"type\":\"histogram\"}],\"scattergl\":[{\"type\":\"scattergl\",\"marker\":{\"colorbar\":{\"outlinewidth\":0,\"ticks\":\"\"}}}],\"scatter3d\":[{\"type\":\"scatter3d\",\"line\":{\"colorbar\":{\"outlinewidth\":0,\"ticks\":\"\"}},\"marker\":{\"colorbar\":{\"outlinewidth\":0,\"ticks\":\"\"}}}],\"scattermap\":[{\"type\":\"scattermap\",\"marker\":{\"colorbar\":{\"outlinewidth\":0,\"ticks\":\"\"}}}],\"scattermapbox\":[{\"type\":\"scattermapbox\",\"marker\":{\"colorbar\":{\"outlinewidth\":0,\"ticks\":\"\"}}}],\"scatterternary\":[{\"type\":\"scatterternary\",\"marker\":{\"colorbar\":{\"outlinewidth\":0,\"ticks\":\"\"}}}],\"scattercarpet\":[{\"type\":\"scattercarpet\",\"marker\":{\"colorbar\":{\"outlinewidth\":0,\"ticks\":\"\"}}}],\"carpet\":[{\"aaxis\":{\"endlinecolor\":\"#2a3f5f\",\"gridcolor\":\"white\",\"linecolor\":\"white\",\"minorgridcolor\":\"white\",\"startlinecolor\":\"#2a3f5f\"},\"baxis\":{\"endlinecolor\":\"#2a3f5f\",\"gridcolor\":\"white\",\"linecolor\":\"white\",\"minorgridcolor\":\"white\",\"startlinecolor\":\"#2a3f5f\"},\"type\":\"carpet\"}],\"table\":[{\"cells\":{\"fill\":{\"color\":\"#EBF0F8\"},\"line\":{\"color\":\"white\"}},\"header\":{\"fill\":{\"color\":\"#C8D4E3\"},\"line\":{\"color\":\"white\"}},\"type\":\"table\"}],\"barpolar\":[{\"marker\":{\"line\":{\"color\":\"#E5ECF6\",\"width\":0.5},\"pattern\":{\"fillmode\":\"overlay\",\"size\":10,\"solidity\":0.2}},\"type\":\"barpolar\"}],\"pie\":[{\"automargin\":true,\"type\":\"pie\"}]},\"layout\":{\"autotypenumbers\":\"strict\",\"colorway\":[\"#636efa\",\"#EF553B\",\"#00cc96\",\"#ab63fa\",\"#FFA15A\",\"#19d3f3\",\"#FF6692\",\"#B6E880\",\"#FF97FF\",\"#FECB52\"],\"font\":{\"color\":\"#2a3f5f\"},\"hovermode\":\"closest\",\"hoverlabel\":{\"align\":\"left\"},\"paper_bgcolor\":\"white\",\"plot_bgcolor\":\"#E5ECF6\",\"polar\":{\"bgcolor\":\"#E5ECF6\",\"angularaxis\":{\"gridcolor\":\"white\",\"linecolor\":\"white\",\"ticks\":\"\"},\"radialaxis\":{\"gridcolor\":\"white\",\"linecolor\":\"white\",\"ticks\":\"\"}},\"ternary\":{\"bgcolor\":\"#E5ECF6\",\"aaxis\":{\"gridcolor\":\"white\",\"linecolor\":\"white\",\"ticks\":\"\"},\"baxis\":{\"gridcolor\":\"white\",\"linecolor\":\"white\",\"ticks\":\"\"},\"caxis\":{\"gridcolor\":\"white\",\"linecolor\":\"white\",\"ticks\":\"\"}},\"coloraxis\":{\"colorbar\":{\"outlinewidth\":0,\"ticks\":\"\"}},\"colorscale\":{\"sequential\":[[0.0,\"#0d0887\"],[0.1111111111111111,\"#46039f\"],[0.2222222222222222,\"#7201a8\"],[0.3333333333333333,\"#9c179e\"],[0.4444444444444444,\"#bd3786\"],[0.5555555555555556,\"#d8576b\"],[0.6666666666666666,\"#ed7953\"],[0.7777777777777778,\"#fb9f3a\"],[0.8888888888888888,\"#fdca26\"],[1.0,\"#f0f921\"]],\"sequentialminus\":[[0.0,\"#0d0887\"],[0.1111111111111111,\"#46039f\"],[0.2222222222222222,\"#7201a8\"],[0.3333333333333333,\"#9c179e\"],[0.4444444444444444,\"#bd3786\"],[0.5555555555555556,\"#d8576b\"],[0.6666666666666666,\"#ed7953\"],[0.7777777777777778,\"#fb9f3a\"],[0.8888888888888888,\"#fdca26\"],[1.0,\"#f0f921\"]],\"diverging\":[[0,\"#8e0152\"],[0.1,\"#c51b7d\"],[0.2,\"#de77ae\"],[0.3,\"#f1b6da\"],[0.4,\"#fde0ef\"],[0.5,\"#f7f7f7\"],[0.6,\"#e6f5d0\"],[0.7,\"#b8e186\"],[0.8,\"#7fbc41\"],[0.9,\"#4d9221\"],[1,\"#276419\"]]},\"xaxis\":{\"gridcolor\":\"white\",\"linecolor\":\"white\",\"ticks\":\"\",\"title\":{\"standoff\":15},\"zerolinecolor\":\"white\",\"automargin\":true,\"zerolinewidth\":2},\"yaxis\":{\"gridcolor\":\"white\",\"linecolor\":\"white\",\"ticks\":\"\",\"title\":{\"standoff\":15},\"zerolinecolor\":\"white\",\"automargin\":true,\"zerolinewidth\":2},\"scene\":{\"xaxis\":{\"backgroundcolor\":\"#E5ECF6\",\"gridcolor\":\"white\",\"linecolor\":\"white\",\"showbackground\":true,\"ticks\":\"\",\"zerolinecolor\":\"white\",\"gridwidth\":2},\"yaxis\":{\"backgroundcolor\":\"#E5ECF6\",\"gridcolor\":\"white\",\"linecolor\":\"white\",\"showbackground\":true,\"ticks\":\"\",\"zerolinecolor\":\"white\",\"gridwidth\":2},\"zaxis\":{\"backgroundcolor\":\"#E5ECF6\",\"gridcolor\":\"white\",\"linecolor\":\"white\",\"showbackground\":true,\"ticks\":\"\",\"zerolinecolor\":\"white\",\"gridwidth\":2}},\"shapedefaults\":{\"line\":{\"color\":\"#2a3f5f\"}},\"annotationdefaults\":{\"arrowcolor\":\"#2a3f5f\",\"arrowhead\":0,\"arrowwidth\":1},\"geo\":{\"bgcolor\":\"white\",\"landcolor\":\"#E5ECF6\",\"subunitcolor\":\"white\",\"showland\":true,\"showlakes\":true,\"lakecolor\":\"white\"},\"title\":{\"x\":0.05},\"mapbox\":{\"style\":\"light\"},\"margin\":{\"b\":0,\"l\":0,\"r\":0,\"t\":30}}},\"xaxis\":{\"anchor\":\"y\",\"domain\":[0.0,1.0],\"title\":{\"text\":\"Country\"}},\"yaxis\":{\"anchor\":\"x\",\"domain\":[0.0,1.0],\"title\":{\"text\":\"Antenatal Care Visits (%)\"}},\"coloraxis\":{\"colorbar\":{\"title\":{\"text\":\"Antenatal Care (%)\"}},\"colorscale\":[[0.0,\"#0d0887\"],[0.1111111111111111,\"#46039f\"],[0.2222222222222222,\"#7201a8\"],[0.3333333333333333,\"#9c179e\"],[0.4444444444444444,\"#bd3786\"],[0.5555555555555556,\"#d8576b\"],[0.6666666666666666,\"#ed7953\"],[0.7777777777777778,\"#fb9f3a\"],[0.8888888888888888,\"#fdca26\"],[1.0,\"#f0f921\"]]},\"legend\":{\"tracegroupgap\":0},\"title\":{\"text\":\"Representative Sample of Countries for Antenatal Care Visits\"},\"barmode\":\"relative\",\"hoverlabel\":{\"font\":{\"size\":13,\"family\":\"Arial\"},\"bgcolor\":\"white\"},\"uniformtext\":{\"minsize\":8,\"mode\":\"hide\"},\"transition\":{\"duration\":500},\"hovermode\":\"closest\",\"plot_bgcolor\":\"rgba(0,0,0,0)\"},                        {\"responsive\": true}                    ).then(function(){\n",
       "                            \n",
       "var gd = document.getElementById('3f528119-5b9c-47ce-92f9-62302e6f23e9');\n",
       "var x = new MutationObserver(function (mutations, observer) {{\n",
       "        var display = window.getComputedStyle(gd).display;\n",
       "        if (!display || display === 'none') {{\n",
       "            console.log([gd, 'removed!']);\n",
       "            Plotly.purge(gd);\n",
       "            observer.disconnect();\n",
       "        }}\n",
       "}});\n",
       "\n",
       "// Listen for the removal of the full notebook cells\n",
       "var notebookContainer = gd.closest('#notebook-container');\n",
       "if (notebookContainer) {{\n",
       "    x.observe(notebookContainer, {childList: true});\n",
       "}}\n",
       "\n",
       "// Listen for the clearing of the current output cell\n",
       "var outputEl = gd.closest('.output');\n",
       "if (outputEl) {{\n",
       "    x.observe(outputEl, {childList: true});\n",
       "}}\n",
       "\n",
       "                        })                };            </script>        </div>"
      ]
     },
     "metadata": {},
     "output_type": "display_data"
    }
   ],
   "source": [
    "import pandas as pd\n",
    "import plotly.express as px\n",
    "\n",
    "# Bar Chart: Representative Sample of Countries for Antenatal Care Visits\n",
    "antenatal_data_binned = indicator_df.copy()\n",
    "antenatal_data_binned['bin'] = pd.qcut(antenatal_data_binned['obs_value'], q=5, labels=False)\n",
    "\n",
    "subset_list = [\n",
    "    antenatal_data_binned[antenatal_data_binned['bin'] == bin_num]\n",
    "    .sample(min(3, len(antenatal_data_binned[antenatal_data_binned['bin'] == bin_num])), random_state=42)\n",
    "    for bin_num in antenatal_data_binned['bin'].unique()\n",
    "]\n",
    "\n",
    "bar_data = pd.concat(subset_list)\n",
    "bar_data = bar_data.groupby('country', as_index=False)['obs_value'].mean()\n",
    "bar_data = bar_data.sort_values('obs_value')\n",
    "\n",
    "fig = px.bar(\n",
    "    bar_data,\n",
    "    x=\"country\",\n",
    "    y=\"obs_value\",\n",
    "    color=\"obs_value\",\n",
    "    text=\"obs_value\",\n",
    "    title=\"Representative Sample of Countries for Antenatal Care Visits\",\n",
    "    labels={\"obs_value\": \"Antenatal Care Visits (%)\"},\n",
    "    color_continuous_scale=px.colors.sequential.Plasma\n",
    ")\n",
    "\n",
    "fig.update_traces(\n",
    "    texttemplate='%{text:.0f}%',\n",
    "    textposition='outside',\n",
    "    hovertemplate=\"<b>Country:</b> %{x}<br><b>Antenatal Care Visits:</b> %{y:.2f}%<extra></extra>\",\n",
    "    marker=dict(opacity=0.85, line=dict(width=1.5, color='DarkSlateGrey')),\n",
    "    selector=dict(type='bar')\n",
    ")\n",
    "\n",
    "fig.update_layout(\n",
    "    xaxis_title=\"Country\",\n",
    "    yaxis_title=\"Antenatal Care Visits (%)\",\n",
    "    coloraxis_colorbar_title=\"Antenatal Care (%)\",\n",
    "    hovermode=\"closest\",\n",
    "    hoverlabel=dict(bgcolor=\"white\", font_size=13, font_family=\"Arial\"),\n",
    "    plot_bgcolor=\"rgba(0,0,0,0)\",\n",
    "    uniformtext_minsize=8,\n",
    "    uniformtext_mode='hide',\n",
    "    transition_duration=500\n",
    ")\n",
    "\n",
    "fig.show()"
   ]
  },
  {
   "cell_type": "markdown",
   "metadata": {
    "id": "ZMYES_VWpT3j"
   },
   "source": [
    "*A representative sample across low to high-performing countries, offering a spectrum of antenatal care coverage through an interactive bar visualization.*\n",
    "\n",
    "\n",
    "---\n",
    "\n",
    "> By sampling countries across different performance levels, we observe a progressive trend where antenatal care visits vary from critically low (below 30%) to near-universal coverage (above 90%). This highlights how some nations have successfully scaled maternal healthcare programs, while others continue to face accessibility and systemic challenges. Even within similar economic groups, antenatal care rates vary significantly, suggesting that national healthcare policies and outreach efforts play a critical role.\n"
   ]
  },
  {
   "cell_type": "markdown",
   "metadata": {
    "id": "6iV5gHaLHpvc"
   },
   "source": [
    "## 3. GDP per Capita vs Antenatal Care Visits (Scatter Plot)\n",
    "\n",
    "Figure: Interactive scatter plot illustrating the correlation between GDP per capita and antenatal care visits, enhanced with a regression trendline for clear pattern visibility.\n"
   ]
  },
  {
   "cell_type": "code",
   "execution_count": 4,
   "metadata": {
    "colab": {
     "base_uri": "https://localhost:8080/",
     "height": 667
    },
    "id": "3_HTGO5h1XWr",
    "outputId": "81ca279e-98c1-4bed-fe35-e1ee74c8a9bf"
   },
   "outputs": [
    {
     "data": {
      "text/html": [
       "<div>            <script src=\"https://cdnjs.cloudflare.com/ajax/libs/mathjax/2.7.5/MathJax.js?config=TeX-AMS-MML_SVG\"></script><script type=\"text/javascript\">if (window.MathJax && window.MathJax.Hub && window.MathJax.Hub.Config) {window.MathJax.Hub.Config({SVG: {font: \"STIX-Web\"}});}</script>                <script type=\"text/javascript\">window.PlotlyConfig = {MathJaxConfig: 'local'};</script>\n",
       "        <script charset=\"utf-8\" src=\"https://cdn.plot.ly/plotly-3.0.1.min.js\"></script>                <div id=\"a9d5ef5b-7326-4429-b926-e64fe66fc4a0\" class=\"plotly-graph-div\" style=\"height:650px; width:1000px;\"></div>            <script type=\"text/javascript\">                window.PLOTLYENV=window.PLOTLYENV || {};                                if (document.getElementById(\"a9d5ef5b-7326-4429-b926-e64fe66fc4a0\")) {                    Plotly.newPlot(                        \"a9d5ef5b-7326-4429-b926-e64fe66fc4a0\",                        [{\"hovertemplate\":\"\\u003cb\\u003e%{hovertext}\\u003c\\u002fb\\u003e\\u003cbr\\u003e\\u003cbr\\u003eGDP per Capita (Constant 2015 US$)=%{x}\\u003cbr\\u003eAntenatal Care Visits (%)=%{y}\\u003cextra\\u003e\\u003c\\u002fextra\\u003e\",\"hovertext\":[\"Italy\",\"Ecuador\",\"Iran, Islamic Republic of\",\"Sri Lanka\",\"Canada\",\"Marshall Islands\",\"Nauru\",\"Botswana\",\"Australia\",\"Syrian Arab Republic\",\"St. Vincent and the Grenadines\",\"Eritrea\",\"France\",\"Palau\",\"Equatorial Guinea\",\"Jamaica\",\"United States\",\"Luxembourg\",\"Djibouti\",\"Nicaragua\",\"South Korea\",\"Barbados\",\"Brunei\",\"Bosnia and Herzegovina\",\"Moldova, Republic of\",\"Qatar\",\"Saint Lucia\",\"Ukraine\",\"Panama\",\"Antigua and Barbuda\",\"Azerbaijan\",\"Bahamas\",\"Bahrain\",\"Trinidad and Tobago\",\"Venezuela, Bolivarian Republic of\",\"Vanuatu\",\"Libyan Arab Jamahiriya\",\"Germany\",\"Estonia\",\"El Salvador\",\"Sudan\",\"Sao Tome and Principe\",\"Chad\",\"Congo\",\"Solomon Islands\",\"Guatemala\",\"Bhutan\",\"Kazakhstan\",\"Mexico\",\"Angola\",\"Colombia\",\"South Africa\",\"Myanmar\",\"Belize\",\"Bolivia, Plurinational State of\",\"Armenia\",\"Korea, Democratic People's Republic of\",\"Tajikistan\",\"Burundi\",\"Togo\",\"Maldives\",\"Haiti\",\"Indonesia\",\"Lao People's Democratic Republic\",\"Lesotho\",\"Turkey\",\"Papua New Guinea\",\"Morocco\",\"Iraq\",\"Mongolia\",\"Montenegro\",\"Mali\",\"Albania\",\"Cameroon\",\"China\",\"Cape Verde\",\"Costa Rica\",\"Suriname\",\"Congo, the Democratic Republic of the\",\"Uganda\",\"Tunisia\",\"Kiribati\",\"Guinea-Bissau\",\"Turkmenistan\",\"Serbia\",\"Sierra Leone\",\"Saudi Arabia\",\"Belarus\",\"Zimbabwe\",\"Zambia\",\"Algeria\",\"Somalia\",\"Cuba\",\"Central African Republic\",\"Tonga\",\"Ethiopia\",\"Pakistan\",\"Dominican Republic\",\"Honduras\",\"Macedonia, the former Yugoslav Republic of\",\"Oman\",\"Argentina\",\"Tuvalu\",\"Palestinian Territory, Occupied\",\"Timor-Leste\",\"Turks and Caicos Islands\",\"Peru\",\"Guyana\",\"Gambia\",\"Georgia\",\"Rwanda\",\"Liberia\",\"Malawi\",\"Niger\",\"Mauritania\",\"Vietnam\",\"Madagascar\",\"Kyrgyzstan\",\"Nigeria\",\"Guinea\",\"Senegal\",\"Samoa\",\"Ivory Coast\",\"Burkina Faso\",\"Brazil\",\"Fiji\",\"Gabon\",\"India\",\"Egypt\",\"Paraguay\",\"Romania\",\"Malaysia\",\"Nepal\",\"Uruguay\",\"Thailand\",\"Comoros\",\"Cambodia\",\"Philippines\",\"Swaziland\",\"Ghana\",\"Kenya\",\"Tanzania, United Republic of\",\"Uzbekistan\",\"Bangladesh\",\"Benin\",\"Croatia\",\"Afghanistan\",\"Mozambique\",\"Jordan\",\"Yemen\",\"South Sudan\"],\"legendgroup\":\"\",\"marker\":{\"color\":\"#636efa\",\"opacity\":0.8,\"symbol\":\"circle\",\"line\":{\"color\":\"DarkSlateGrey\",\"width\":0.5},\"size\":10},\"mode\":\"markers\",\"name\":\"\",\"orientation\":\"v\",\"showlegend\":false,\"x\":{\"dtype\":\"f8\",\"bdata\":\"X4TuRej+U0Bg5dAi25FSQBKDwMqh9VFAQmDl0CIDUkDVtCxNyyJUQK5H4XoUrk9ApHA9CtdDTUAEVg4tst1LQNialK1JWVRAO99PjZd2UkBaZDvfT8VSQNv5fmq85E9AKFanYnVqVEAAAAAAAAD4f9v5fmq8NE1AvHSTGARGUkDG25C8DalTQCGD8zE4P1RABoGVQ4tsTkCPwvUoXCdSQDguR+NyNFRAdZMYBFYGU0CwcmiR7bRSQE5iEFg5TFNA\\u002ftR46SZJUUBKDAIrh85TQJzEILByOFJAS87G5Gy8UUDfT42XbkJTQFpkO99PZVNAqvHSTWK4UUCoxks3iUFSQDm0yHa+z1NAIbByaJF9UkAGgZVDi0xSQBkEVg4tYlFAYhBYObTgUUDkaFyOxkVUQEH3InQvQlNAObTIdr7vUUDwp8ZLNxFQQK5H4XoUtlBACKwcWmTLSUDn+6nx0p1PQFpkO99PZVFAO99PjZcGUkDLoUW285VRQK5H4XoU\\u002flFAz\\u002fdT46WrUkCyne+nxotOQKAaL90kHlNAK4cW2c4vUECkcD0K12tQQKjGSzeJWVJA1XjpJjHoUEDRItv5fqpSQDvfT42XPlJAUrgehet5UUAQWDm0yMZOQMHKoUW2E05AMQisHFr8U0BaZDvfT+1PQJZDi2zne1FAsp3vp8bbUEDn+6nx0t1KQHnpJjEIZFNAz\\u002fdT46VLUEDJdr6fGn9SQDeJQWDl4FFA2\\u002fl+arzMUUCaqF2J2jVTQPyp8dJNsk1Asp3vp8bLU0DXo3A9CpdOQFYOLbKdb1NA9P3UeOnuUkDl0CLb+d5TQAisHFpkI1JAf2q8dJP4TUAIrBxaZFtPQM3MzMzM\\u002fFJAmpmZmZnJUEA3iUFg5XBOQOOlm8QgQFFAPxC\\u002fA\\u002fH7UkBxPQrXoyBOQPp+arx0U1NA8EXoXoSOUkBMN4lBYKVOQC\\u002fdJAaBZU9AdZMYBFYeU0BEi2zn+4lMQMl2vp8aZ1NAMzMzMzODS0A5tMh2vrdRQBKDwMqhdVBAqvHSTWKwUECwcmiR7WRSQKrx0k1iOFJAy+VoXI4mU0DjpZvEIIBTQAwCK4cW+VJAnMQgsHIYUEBvEoPAyplSQGZmZmZmHlFA8tJNYhDAUkDD9Shcj2pSQMl2vp8aH1FAdZMYBFZOT0ApXI\\u002fC9TBSQKjGSzeJsVBA001iEFh5TkCyne+nxttPQH0\\u002fNV66yU5Anu+nxksXUEBkO99PjWdSQNejcD0KH1BAmpmZmZn5UUBKDAIrh1ZKQBkEVg4tck1Ay6FFtvPFUEAMAiuHFjFSQAaBlUOLTE1Aw\\u002fUoXI+iTUAAAAAAADBSQJ7vp8ZLx1BABoGVQ4t0UECPwvUoXM9QQKAaL90kjlFAVOOlm8SQUUC2MD0L0zNSQHE9CtejEFNA5dAi2\\u002fmeUUAAAAAAAIBTQOxRuB6F61NA16NwPQrXT0DTTWIQWHlRQIcW2c73C1JArkfhehQuTEApXI\\u002fC9fhPQNejcD0KB09ANV66SQyyUEBCYOXQIutRQOkmMQisbFJAJzEIrBz6TUCobE3K1mRTQAAAAAAAAPh\\u002fAAAAAAAA+H8AAAAAAAD4fwAAAAAAAPh\\u002fAAAAAAAA+H8=\"},\"xaxis\":\"x\",\"y\":{\"dtype\":\"f8\",\"bdata\":\"ZmZmZmYGUUAAAAAAAMBMQDMzMzMzk1dAAAAAAAAgV0AAAAAAAMBYQGZmZmZmRlNAmpmZmZkZREAzMzMzM1NSQAAAAAAAAFdAmpmZmZnZT0AAAAAAAOBYQDMzMzMzs0xAmpmZmZm5WEAAAAAAAEBUQJqZmZmZuVBAZmZmZmZmVUBmZmZmZiZYQDMzMzMzU1hAmpmZmZmZNkBmZmZmZuZVQDMzMzMzM1hAmpmZmZn5VUDNzMzMzExXQM3MzMzMDFVAmpmZmZnZV0AAAAAAACBVQDMzMzMzk1ZAzczMzMzMVUCamZmZmflVQAAAAAAAAFlAAAAAAADgV0AAAAAAAEBVQAAAAAAAAFlAAAAAAAAAWUAzMzMzM\\u002fNUQGZmZmZm5klAMzMzMzOTUEAzMzMzM9NYQDMzMzMzM1hAZmZmZmaGVkCamZmZmVlJQGZmZmZm5lRAAAAAAAAAP0AAAAAAAMBTQJqZmZmZOVFAzczMzMyMVUAAAAAAAEBVQDMzMzMz01dAMzMzMzOTV0AzMzMzM7NOQDMzMzMzc1ZAAAAAAADgUkDNzMzMzExNQGZmZmZmJldAZmZmZmZmVUAAAAAAAABYQM3MzMzMbFdAzczMzMwMUEBmZmZmZqZIQGZmZmZmZktAZmZmZmZmVEBmZmZmZqZQQJqZmZmZWVNAmpmZmZkZT0BmZmZmZiZTQM3MzMzMbFZAAAAAAACASEAAAAAAAMBKQJqZmZmZ+VBAAAAAAAAgVkDNzMzMzIxXQGZmZmZmpkVAMzMzMzNzU0CamZmZmTlQQJqZmZmZOVdAZmZmZmZmVUBmZmZmZoZXQAAAAAAA4FBAMzMzMzNzRUCamZmZmVlMQGZmZmZmBlVAAAAAAADAUEDNzMzMzCxUQGZmZmZmZlhAZmZmZmYmWEAzMzMzM7NTQM3MzMzM7FNAmpmZmZn5WEAAAAAAAOBRQAAAAAAAwE9AMzMzMzNzUUBmZmZmZmY4QDMzMzMz01NAMzMzMzOzREAAAAAAACBWQAAAAAAAgEVAMzMzMzMzSkBmZmZmZiZXQDMzMzMzE1ZAzczMzMzsV0CamZmZmXlSQJqZmZmZmVZAZmZmZmYmTkAzMzMzM7NXQGZmZmZmxlRAzczMzMxMV0AzMzMzM\\u002fNXQM3MzMzMLFVAAAAAAACgU0DNzMzMzExVQJqZmZmZmUdAMzMzMzPTVUAAAAAAAEBJQGZmZmZmpkJAAAAAAABAQ0DNzMzMzAxWQDMzMzMz801AAAAAAABAVkAzMzMzMzNOQGZmZmZmJk1AMzMzMzMzPUAzMzMzM3NRQGZmZmZmJkxAZmZmZmYGUkAzMzMzMxNXQM3MzMzMLFZAMzMzMzNzU0AzMzMzMzNNQJqZmZmZeVZAAAAAAABAVEBmZmZmZoZRQGZmZmZmhlhAAAAAAAAgVEAzMzMzM1NYQDMzMzMzE1ZAMzMzMzMTUEAAAAAAAIBVQAAAAAAAwFRAAAAAAABgUkAzMzMzM\\u002fNVQAAAAAAAgFBAZmZmZmZGUEAAAAAAAGBWQGZmZmZmJkNAzczMzMxMSkAAAAAAACBYQDMzMzMzs0BAzczMzMxMSEBmZmZmZkZXQDMzMzMzM0BAAAAAAAAAP0A=\"},\"yaxis\":\"y\",\"type\":\"scatter\"},{\"hovertemplate\":\"\\u003cb\\u003eOLS trendline\\u003c\\u002fb\\u003e\\u003cbr\\u003eobs_value_Antenatal = 1.75801 * obs_value_GDP + -46.3196\\u003cbr\\u003eR\\u003csup\\u003e2\\u003c\\u002fsup\\u003e=0.435235\\u003cbr\\u003e\\u003cbr\\u003eGDP per Capita (Constant 2015 US$)=%{x}\\u003cbr\\u003eAntenatal Care Visits (%)=%{y} \\u003cb\\u003e(trend)\\u003c\\u002fb\\u003e\\u003cextra\\u003e\\u003c\\u002fextra\\u003e\",\"legendgroup\":\"\",\"marker\":{\"color\":\"#636efa\",\"symbol\":\"circle\",\"line\":{\"color\":\"DarkSlateGrey\",\"width\":0.5},\"size\":10},\"mode\":\"lines\",\"name\":\"\",\"showlegend\":false,\"x\":{\"dtype\":\"f8\",\"bdata\":\"CKwcWmTLSUBKDAIrh1ZKQOf7qfHS3UpAMzMzMzODS0AEVg4tst1LQK5H4XoULkxARIts5\\u002fuJTEDb+X5qvDRNQKRwPQrXQ01ABoGVQ4tMTUAZBFYOLXJNQMP1KFyPok1A\\u002fKnx0k2yTUB\\u002farx0k\\u002fhNQCcxCKwc+k1AwcqhRbYTTkBxPQrXoyBOQAaBlUOLbE5AN4lBYOVwTkDTTWIQWHlOQLKd76fGi05A16NwPQqXTkBMN4lBYKVOQBBYObTIxk5AfT81XrrJTkDXo3A9CgdPQHWTGARWTk9ACKwcWmRbT0Av3SQGgWVPQOf7qfHSnU9ArkfhehSuT0DXo3A9CtdPQLKd76fG209A2\\u002fl+arzkT0BaZDvfT+1PQClcj8L1+E9A8KfGSzcRUECe76fGSxdQQJzEILByGFBA16NwPQofUEArhxbZzi9QQM\\u002f3U+OlS1BApHA9CtdrUEAGgZVDi3RQQBKDwMqhdVBAqvHSTWKwUECoxks3ibFQQDVeukkMslBArkfhehS2UEDLoUW288VQQJ7vp8ZLx1BAmpmZmZnJUECPwvUoXM9QQLKd76fG21BA1XjpJjHoUEBmZmZmZh5RQMl2vp8aH1FA46WbxCBAUUD+1HjpJklRQBkEVg4tYlFAWmQ7309lUUDTTWIQWHlRQFK4HoXreVFAlkOLbOd7UUCgGi\\u002fdJI5RQFTjpZvEkFFAy6FFtvOVUUDl0CLb+Z5RQDm0yHa+t1FAqvHSTWK4UUBLzsbkbLxRQNv5fmq8zFFAYhBYObTgUUA3iUFg5eBRQEJg5dAi61FAObTIdr7vUUASg8DKofVRQJqZmZmZ+VFArkfhehT+UUBCYOXQIgNSQDvfT42XBlJAhxbZzvcLUkAIrBxaZCNSQI\\u002fC9ShcJ1JAAAAAAAAwUkApXI\\u002fC9TBSQAwCK4cWMVJAtjA9C9MzUkCq8dJNYjhSQJzEILByOFJAO99PjZc+UkCoxks3iUFSQLx0kxgERlJABoGVQ4tMUkCoxks3iVlSQLByaJHtZFJAZDvfT41nUkDD9Shcj2pSQOkmMQisbFJAO99PjZd2UkAhsHJokX1SQMl2vp8af1JA8EXoXoSOUkBg5dAi25FSQG8Sg8DKmVJA0SLb+X6qUkDP91PjpatSQLByaJHttFJA8tJNYhDAUkBaZDvfT8VSQPT91Hjp7lJADAIrhxb5UkA\\u002fEL8D8ftSQM3MzMzM\\u002fFJAdZMYBFYGU0BxPQrXoxBTQKAaL90kHlNAdZMYBFYeU0DL5WhcjiZTQJqoXYnaNVNAQfcidC9CU0DfT42XbkJTQE5iEFg5TFNA+n5qvHRTU0B56SYxCGRTQKhsTcrWZFNAWmQ7309lU0DJdr6fGmdTQFYOLbKdb1NAAAAAAACAU0DjpZvEIIBTQMbbkLwNqVNAsp3vp8bLU0BKDAIrh85TQDm0yHa+z1NA5dAi2\\u002fneU0DsUbgehetTQDEIrBxa\\u002fFNAX4TuRej+U0DVtCxNyyJUQDguR+NyNFRAIYPzMTg\\u002fVEDkaFyOxkVUQNialK1JWVRAKFanYnVqVEA=\"},\"xaxis\":\"x\",\"y\":{\"dtype\":\"f8\",\"bdata\":\"Bj3iVegvRkA+5Up6giRHQBgCp21cEkhA6Lc64Rc1SUBM0FmYL9RJQDDx6GeAYUpAJLSdyhEDS0Ckxg+2QC9MQICmyUPOSUxAcPPDfxtZTEBSfNjGQ5tMQJa+qf1S8ExAVmCQkwAMTUC6iY97iodNQBJbYcI9ik1AxKZfCT+3TUBm8xpI+c1NQAjHcN5pU05AgO1tfBBbTkDi7O+B6mlOQPy8xdNRik5AfhFzMB+eTkCwCMQaU7dOQN6RF18O8k5Axg1\\u002fUTv3TkCsnAvHBGNPQEr864hb4E9Asm\\u002fjYk\\u002f3T0CZszkliwRQQN0G64wMNlBATKVWjlZEUEDb4e6TV2hQQEKvx0uBbFBAgfwAhWF0UECWD2BV63tQQAH0kGwohlBAIH6hqJyqUEAasEr2TLVQQBwNaGtTt1BAMtoBJurCUEAussmVZOBQQICkZPlVEVFASr38+u1JUUA6Cvc2O1lRQNdTdt4kW1FAK9tPM27CUUAtOG2odMRRQErTXRVbxVFA0JhEr3HMUUBZYWfgWOhRQIX4Xr616lFAibKZqMLuUUCQgyzy4vhRQBM198O2DlJAl+bBlYokUkBHDcTj1oNSQJDijrkThVJAafctLCK\\u002fUkBLpT5s\\u002f85SQH5Crnj9+lJAkPjv04AAU0BlrTU6uCNTQOZbxHS7JFNA+LToWjgoU0DnSuRDSUhTQNxlNTLmTFNAY4g5QQNWU0BENkqB4GVTQOiFQVdrkVNAzUduX4uSU0Du8GUwpplTQJRdyslStlNABf9xYm3ZU0AwOUzLw9lTQHlXGE7E61NAfsuNIt7zU0BOw1wHOP5TQHF1pdMxBVRAr8LeDBINVEBwvqaA9RVUQHTV\\u002ft8IHFRAJzLdV3wlVECd6txPqk5UQL+cJRykVVRATNaBitRkVEAj+cSWhGZUQOkfATK+ZlRATuYctY1rVEBKwmXCkXNUQK7VA5Cuc1RAChtLq3t+VED0lrKdqINUQDLk69aIi1RA5p3nwwKXVEDq\\u002fUDQ2a1UQDR5KsjgwVRAKJR7tn3GVEB0I4F2x8tUQEyj4fd9z1RAomCXdu7gVEAQouUCMu1UQGhzt0nl71RAqqqe8P0KVUBypKOf3BBVQLgINTjQHlVAUM1e2i08VUBQKnxPND5VQMIlBcaETlVAfFN2hxhiVUBmiRhkUmtVQGrEdXd0tFVATM+jLFjGVUDsshJgXMtVQOAzdMLezFVA4Hx1b6LdVUCMrt+\\u002fv+9VQKypKTl9B1ZA2OMDotMHVkCMQEAWRxZWQIKArMArMVZAbDHfotlGVkBgm0aiSEdWQO4xwIV\\u002fWFZA6sCGSDZlVkC6XnRPWoJWQNT7+ILFg1ZAguLNX5qEVkBqARjdwIdWQC4UOLC3llZA1HdLToWzVkCanofpvrNWQBrVJICx+1ZAsCRlSbw4V0BuZvLSkj1XQNLWrRW2P1dAdt2jPn1aV0DCtaqrinBXQCChEOkhjldA5DY77p+SV0D4ElrLttFXQMoWtkLA8FdAaJeUoK8DWEDw+8IyNg9YQPpX36iDMVhAhmt9WLNPWEA=\"},\"yaxis\":\"y\",\"type\":\"scatter\"}],                        {\"template\":{\"data\":{\"histogram2dcontour\":[{\"type\":\"histogram2dcontour\",\"colorbar\":{\"outlinewidth\":0,\"ticks\":\"\"},\"colorscale\":[[0.0,\"#0d0887\"],[0.1111111111111111,\"#46039f\"],[0.2222222222222222,\"#7201a8\"],[0.3333333333333333,\"#9c179e\"],[0.4444444444444444,\"#bd3786\"],[0.5555555555555556,\"#d8576b\"],[0.6666666666666666,\"#ed7953\"],[0.7777777777777778,\"#fb9f3a\"],[0.8888888888888888,\"#fdca26\"],[1.0,\"#f0f921\"]]}],\"choropleth\":[{\"type\":\"choropleth\",\"colorbar\":{\"outlinewidth\":0,\"ticks\":\"\"}}],\"histogram2d\":[{\"type\":\"histogram2d\",\"colorbar\":{\"outlinewidth\":0,\"ticks\":\"\"},\"colorscale\":[[0.0,\"#0d0887\"],[0.1111111111111111,\"#46039f\"],[0.2222222222222222,\"#7201a8\"],[0.3333333333333333,\"#9c179e\"],[0.4444444444444444,\"#bd3786\"],[0.5555555555555556,\"#d8576b\"],[0.6666666666666666,\"#ed7953\"],[0.7777777777777778,\"#fb9f3a\"],[0.8888888888888888,\"#fdca26\"],[1.0,\"#f0f921\"]]}],\"heatmap\":[{\"type\":\"heatmap\",\"colorbar\":{\"outlinewidth\":0,\"ticks\":\"\"},\"colorscale\":[[0.0,\"#0d0887\"],[0.1111111111111111,\"#46039f\"],[0.2222222222222222,\"#7201a8\"],[0.3333333333333333,\"#9c179e\"],[0.4444444444444444,\"#bd3786\"],[0.5555555555555556,\"#d8576b\"],[0.6666666666666666,\"#ed7953\"],[0.7777777777777778,\"#fb9f3a\"],[0.8888888888888888,\"#fdca26\"],[1.0,\"#f0f921\"]]}],\"contourcarpet\":[{\"type\":\"contourcarpet\",\"colorbar\":{\"outlinewidth\":0,\"ticks\":\"\"}}],\"contour\":[{\"type\":\"contour\",\"colorbar\":{\"outlinewidth\":0,\"ticks\":\"\"},\"colorscale\":[[0.0,\"#0d0887\"],[0.1111111111111111,\"#46039f\"],[0.2222222222222222,\"#7201a8\"],[0.3333333333333333,\"#9c179e\"],[0.4444444444444444,\"#bd3786\"],[0.5555555555555556,\"#d8576b\"],[0.6666666666666666,\"#ed7953\"],[0.7777777777777778,\"#fb9f3a\"],[0.8888888888888888,\"#fdca26\"],[1.0,\"#f0f921\"]]}],\"surface\":[{\"type\":\"surface\",\"colorbar\":{\"outlinewidth\":0,\"ticks\":\"\"},\"colorscale\":[[0.0,\"#0d0887\"],[0.1111111111111111,\"#46039f\"],[0.2222222222222222,\"#7201a8\"],[0.3333333333333333,\"#9c179e\"],[0.4444444444444444,\"#bd3786\"],[0.5555555555555556,\"#d8576b\"],[0.6666666666666666,\"#ed7953\"],[0.7777777777777778,\"#fb9f3a\"],[0.8888888888888888,\"#fdca26\"],[1.0,\"#f0f921\"]]}],\"mesh3d\":[{\"type\":\"mesh3d\",\"colorbar\":{\"outlinewidth\":0,\"ticks\":\"\"}}],\"scatter\":[{\"fillpattern\":{\"fillmode\":\"overlay\",\"size\":10,\"solidity\":0.2},\"type\":\"scatter\"}],\"parcoords\":[{\"type\":\"parcoords\",\"line\":{\"colorbar\":{\"outlinewidth\":0,\"ticks\":\"\"}}}],\"scatterpolargl\":[{\"type\":\"scatterpolargl\",\"marker\":{\"colorbar\":{\"outlinewidth\":0,\"ticks\":\"\"}}}],\"bar\":[{\"error_x\":{\"color\":\"#2a3f5f\"},\"error_y\":{\"color\":\"#2a3f5f\"},\"marker\":{\"line\":{\"color\":\"#E5ECF6\",\"width\":0.5},\"pattern\":{\"fillmode\":\"overlay\",\"size\":10,\"solidity\":0.2}},\"type\":\"bar\"}],\"scattergeo\":[{\"type\":\"scattergeo\",\"marker\":{\"colorbar\":{\"outlinewidth\":0,\"ticks\":\"\"}}}],\"scatterpolar\":[{\"type\":\"scatterpolar\",\"marker\":{\"colorbar\":{\"outlinewidth\":0,\"ticks\":\"\"}}}],\"histogram\":[{\"marker\":{\"pattern\":{\"fillmode\":\"overlay\",\"size\":10,\"solidity\":0.2}},\"type\":\"histogram\"}],\"scattergl\":[{\"type\":\"scattergl\",\"marker\":{\"colorbar\":{\"outlinewidth\":0,\"ticks\":\"\"}}}],\"scatter3d\":[{\"type\":\"scatter3d\",\"line\":{\"colorbar\":{\"outlinewidth\":0,\"ticks\":\"\"}},\"marker\":{\"colorbar\":{\"outlinewidth\":0,\"ticks\":\"\"}}}],\"scattermap\":[{\"type\":\"scattermap\",\"marker\":{\"colorbar\":{\"outlinewidth\":0,\"ticks\":\"\"}}}],\"scattermapbox\":[{\"type\":\"scattermapbox\",\"marker\":{\"colorbar\":{\"outlinewidth\":0,\"ticks\":\"\"}}}],\"scatterternary\":[{\"type\":\"scatterternary\",\"marker\":{\"colorbar\":{\"outlinewidth\":0,\"ticks\":\"\"}}}],\"scattercarpet\":[{\"type\":\"scattercarpet\",\"marker\":{\"colorbar\":{\"outlinewidth\":0,\"ticks\":\"\"}}}],\"carpet\":[{\"aaxis\":{\"endlinecolor\":\"#2a3f5f\",\"gridcolor\":\"white\",\"linecolor\":\"white\",\"minorgridcolor\":\"white\",\"startlinecolor\":\"#2a3f5f\"},\"baxis\":{\"endlinecolor\":\"#2a3f5f\",\"gridcolor\":\"white\",\"linecolor\":\"white\",\"minorgridcolor\":\"white\",\"startlinecolor\":\"#2a3f5f\"},\"type\":\"carpet\"}],\"table\":[{\"cells\":{\"fill\":{\"color\":\"#EBF0F8\"},\"line\":{\"color\":\"white\"}},\"header\":{\"fill\":{\"color\":\"#C8D4E3\"},\"line\":{\"color\":\"white\"}},\"type\":\"table\"}],\"barpolar\":[{\"marker\":{\"line\":{\"color\":\"#E5ECF6\",\"width\":0.5},\"pattern\":{\"fillmode\":\"overlay\",\"size\":10,\"solidity\":0.2}},\"type\":\"barpolar\"}],\"pie\":[{\"automargin\":true,\"type\":\"pie\"}]},\"layout\":{\"autotypenumbers\":\"strict\",\"colorway\":[\"#636efa\",\"#EF553B\",\"#00cc96\",\"#ab63fa\",\"#FFA15A\",\"#19d3f3\",\"#FF6692\",\"#B6E880\",\"#FF97FF\",\"#FECB52\"],\"font\":{\"color\":\"#2a3f5f\"},\"hovermode\":\"closest\",\"hoverlabel\":{\"align\":\"left\"},\"paper_bgcolor\":\"white\",\"plot_bgcolor\":\"#E5ECF6\",\"polar\":{\"bgcolor\":\"#E5ECF6\",\"angularaxis\":{\"gridcolor\":\"white\",\"linecolor\":\"white\",\"ticks\":\"\"},\"radialaxis\":{\"gridcolor\":\"white\",\"linecolor\":\"white\",\"ticks\":\"\"}},\"ternary\":{\"bgcolor\":\"#E5ECF6\",\"aaxis\":{\"gridcolor\":\"white\",\"linecolor\":\"white\",\"ticks\":\"\"},\"baxis\":{\"gridcolor\":\"white\",\"linecolor\":\"white\",\"ticks\":\"\"},\"caxis\":{\"gridcolor\":\"white\",\"linecolor\":\"white\",\"ticks\":\"\"}},\"coloraxis\":{\"colorbar\":{\"outlinewidth\":0,\"ticks\":\"\"}},\"colorscale\":{\"sequential\":[[0.0,\"#0d0887\"],[0.1111111111111111,\"#46039f\"],[0.2222222222222222,\"#7201a8\"],[0.3333333333333333,\"#9c179e\"],[0.4444444444444444,\"#bd3786\"],[0.5555555555555556,\"#d8576b\"],[0.6666666666666666,\"#ed7953\"],[0.7777777777777778,\"#fb9f3a\"],[0.8888888888888888,\"#fdca26\"],[1.0,\"#f0f921\"]],\"sequentialminus\":[[0.0,\"#0d0887\"],[0.1111111111111111,\"#46039f\"],[0.2222222222222222,\"#7201a8\"],[0.3333333333333333,\"#9c179e\"],[0.4444444444444444,\"#bd3786\"],[0.5555555555555556,\"#d8576b\"],[0.6666666666666666,\"#ed7953\"],[0.7777777777777778,\"#fb9f3a\"],[0.8888888888888888,\"#fdca26\"],[1.0,\"#f0f921\"]],\"diverging\":[[0,\"#8e0152\"],[0.1,\"#c51b7d\"],[0.2,\"#de77ae\"],[0.3,\"#f1b6da\"],[0.4,\"#fde0ef\"],[0.5,\"#f7f7f7\"],[0.6,\"#e6f5d0\"],[0.7,\"#b8e186\"],[0.8,\"#7fbc41\"],[0.9,\"#4d9221\"],[1,\"#276419\"]]},\"xaxis\":{\"gridcolor\":\"white\",\"linecolor\":\"white\",\"ticks\":\"\",\"title\":{\"standoff\":15},\"zerolinecolor\":\"white\",\"automargin\":true,\"zerolinewidth\":2},\"yaxis\":{\"gridcolor\":\"white\",\"linecolor\":\"white\",\"ticks\":\"\",\"title\":{\"standoff\":15},\"zerolinecolor\":\"white\",\"automargin\":true,\"zerolinewidth\":2},\"scene\":{\"xaxis\":{\"backgroundcolor\":\"#E5ECF6\",\"gridcolor\":\"white\",\"linecolor\":\"white\",\"showbackground\":true,\"ticks\":\"\",\"zerolinecolor\":\"white\",\"gridwidth\":2},\"yaxis\":{\"backgroundcolor\":\"#E5ECF6\",\"gridcolor\":\"white\",\"linecolor\":\"white\",\"showbackground\":true,\"ticks\":\"\",\"zerolinecolor\":\"white\",\"gridwidth\":2},\"zaxis\":{\"backgroundcolor\":\"#E5ECF6\",\"gridcolor\":\"white\",\"linecolor\":\"white\",\"showbackground\":true,\"ticks\":\"\",\"zerolinecolor\":\"white\",\"gridwidth\":2}},\"shapedefaults\":{\"line\":{\"color\":\"#2a3f5f\"}},\"annotationdefaults\":{\"arrowcolor\":\"#2a3f5f\",\"arrowhead\":0,\"arrowwidth\":1},\"geo\":{\"bgcolor\":\"white\",\"landcolor\":\"#E5ECF6\",\"subunitcolor\":\"white\",\"showland\":true,\"showlakes\":true,\"lakecolor\":\"white\"},\"title\":{\"x\":0.05},\"mapbox\":{\"style\":\"light\"},\"margin\":{\"b\":0,\"l\":0,\"r\":0,\"t\":30}}},\"xaxis\":{\"anchor\":\"y\",\"domain\":[0.0,1.0],\"title\":{\"text\":\"GDP per Capita (Constant 2015 US$ in %)\"}},\"yaxis\":{\"anchor\":\"x\",\"domain\":[0.0,1.0],\"title\":{\"text\":\"Antenatal Care Visits (%)\"}},\"legend\":{\"tracegroupgap\":0,\"title\":{\"text\":\"Legend\"}},\"title\":{\"text\":\"Interactive Scatter Plot: GDP per Capita vs Antenatal Care Visits (2023)\"},\"height\":650,\"width\":1000,\"hovermode\":\"closest\",\"showlegend\":true},                        {\"responsive\": true}                    ).then(function(){\n",
       "                            \n",
       "var gd = document.getElementById('a9d5ef5b-7326-4429-b926-e64fe66fc4a0');\n",
       "var x = new MutationObserver(function (mutations, observer) {{\n",
       "        var display = window.getComputedStyle(gd).display;\n",
       "        if (!display || display === 'none') {{\n",
       "            console.log([gd, 'removed!']);\n",
       "            Plotly.purge(gd);\n",
       "            observer.disconnect();\n",
       "        }}\n",
       "}});\n",
       "\n",
       "// Listen for the removal of the full notebook cells\n",
       "var notebookContainer = gd.closest('#notebook-container');\n",
       "if (notebookContainer) {{\n",
       "    x.observe(notebookContainer, {childList: true});\n",
       "}}\n",
       "\n",
       "// Listen for the clearing of the current output cell\n",
       "var outputEl = gd.closest('.output');\n",
       "if (outputEl) {{\n",
       "    x.observe(outputEl, {childList: true});\n",
       "}}\n",
       "\n",
       "                        })                };            </script>        </div>"
      ]
     },
     "metadata": {},
     "output_type": "display_data"
    }
   ],
   "source": [
    "# Prepare Antenatal Care Data from indicator_df\n",
    "antenatal_data = indicator_df[indicator_df['indicator'].str.contains('antenatal', case=False, na=False)]\n",
    "antenatal_data = antenatal_data.rename(columns={'time_period': 'year'})\n",
    "\n",
    "# Prepare Life Expectancy Data from metadata_df\n",
    "# Pick only needed columns\n",
    "life_expectancy_data = metadata_df[['country', 'year', 'Life expectancy at birth, total (years)']]\n",
    "life_expectancy_data = life_expectancy_data.rename(columns={'Life expectancy at birth, total (years)': 'Life Expectancy (Years)'})\n",
    "\n",
    "# 3. Merge Both DataFrames\n",
    "merged_data = pd.merge(\n",
    "    antenatal_data[['country', 'year', 'obs_value']],\n",
    "    life_expectancy_data,\n",
    "    on=['country', 'year']\n",
    ")\n",
    "\n",
    "# 1. Take the latest year per country\n",
    "merged_data_latest = merged_data.sort_values('year').groupby('country').tail(1)\n",
    "\n",
    "#Rename the columns in merged_data_latest\n",
    "merged_data_latest = merged_data_latest.rename(columns={'obs_value': 'obs_value_Antenatal', 'Life Expectancy (Years)': 'obs_value_GDP'})\n",
    "\n",
    "# 1. Create colorful and interactive scatter plot\n",
    "fig = px.scatter(\n",
    "    merged_data_latest,\n",
    "    x='obs_value_GDP',\n",
    "    y='obs_value_Antenatal',\n",
    "    trendline=\"ols\",\n",
    "    hover_name='country',\n",
    "    title=\"Interactive Scatter Plot: GDP per Capita vs Antenatal Care Visits (2023)\",\n",
    "    labels={\n",
    "        'obs_value_GDP': 'GDP per Capita (Constant 2015 US$)',\n",
    "        'obs_value_Antenatal': 'Antenatal Care Visits (%)'\n",
    "    },\n",
    "    opacity=0.8,\n",
    "    size_max=15\n",
    ")\n",
    "\n",
    "fig.update_traces(\n",
    "    marker=dict(size=10, line=dict(width=0.5, color='DarkSlateGrey'))\n",
    ")\n",
    "\n",
    "fig.update_layout(\n",
    "    height=650,\n",
    "    width=1000,\n",
    "    xaxis_title=\"GDP per Capita (Constant 2015 US$ in %)\",\n",
    "    yaxis_title=\"Antenatal Care Visits (%)\",\n",
    "    hovermode=\"closest\",\n",
    "    showlegend=True,\n",
    "    legend_title_text='Legend'\n",
    ")\n",
    "\n",
    "from plotnine import ggplot, aes, geom_point, geom_smooth, theme_minimal, labs\n",
    "\n",
    "(\n",
    "    ggplot(merged_data_latest, aes(x='obs_value_GDP', y='obs_value_Antenatal')) +\n",
    "    geom_point(color=\"blue\") +\n",
    "    geom_smooth(method='lm', color=\"red\", se=True) +\n",
    "    theme_minimal() +\n",
    "    labs(\n",
    "        title=\"Scatter Plot with Linear Regression: GDP vs Antenatal Care\",\n",
    "        x=\"GDP per Capita (Constant 2015 US$ in %)\",\n",
    "        y=\"Antenatal Care Visits (%)\"\n",
    "    )\n",
    ")\n",
    "\n",
    "fig.show()"
   ]
  },
  {
   "cell_type": "markdown",
   "metadata": {
    "id": "2XL5WNPXtuM9"
   },
   "source": [
    "*Interactive scatter plot illustrating the correlation between GDP and antenatal care visits, enhanced with a regression line for easy trend recognition.*\n",
    "\n",
    "\n",
    "---\n",
    "\n",
    "\n",
    "> ***The scatter plot shows a positive correlation between a country’s GDP per capita and its antenatal care coverage. Higher-income countries tend to have higher antenatal care rates. However, some outliers exist, suggesting that economic wealth alone doesn’t guarantee healthcare access — policy priorities, healthcare infrastructure, and education also play a critical role. However, several outliers reveal that economic prosperity does not automatically translate to improved maternal health services without targeted investment.***\n"
   ]
  },
  {
   "cell_type": "markdown",
   "metadata": {
    "id": "fOCG7cpdIJeg"
   },
   "source": [
    "## **4. Antenatal Care Visits vs Life Expectancy (Time Series)**\n",
    "\n",
    "Figure: Dual time-series exploration of antenatal care visits and life expectancy, emphasizing the pivotal 2010 milestone with interactive hover insights.\n"
   ]
  },
  {
   "cell_type": "code",
   "execution_count": 5,
   "metadata": {
    "colab": {
     "base_uri": "https://localhost:8080/",
     "height": 667
    },
    "id": "prGATtx62lrz",
    "outputId": "07070bee-9af0-4511-d6cc-1bb0217692ab"
   },
   "outputs": [
    {
     "data": {
      "text/html": [
       "<div>            <script src=\"https://cdnjs.cloudflare.com/ajax/libs/mathjax/2.7.5/MathJax.js?config=TeX-AMS-MML_SVG\"></script><script type=\"text/javascript\">if (window.MathJax && window.MathJax.Hub && window.MathJax.Hub.Config) {window.MathJax.Hub.Config({SVG: {font: \"STIX-Web\"}});}</script>                <script type=\"text/javascript\">window.PlotlyConfig = {MathJaxConfig: 'local'};</script>\n",
       "        <script charset=\"utf-8\" src=\"https://cdn.plot.ly/plotly-3.0.1.min.js\"></script>                <div id=\"78a82bde-3f12-432c-a769-efc4f60f0f9c\" class=\"plotly-graph-div\" style=\"height:650px; width:950px;\"></div>            <script type=\"text/javascript\">                window.PLOTLYENV=window.PLOTLYENV || {};                                if (document.getElementById(\"78a82bde-3f12-432c-a769-efc4f60f0f9c\")) {                    Plotly.newPlot(                        \"78a82bde-3f12-432c-a769-efc4f60f0f9c\",                        [{\"customdata\":[[\"Bangladesh\",\"Antenatal Care Visits (%)\"],[\"Bangladesh\",\"Antenatal Care Visits (%)\"],[\"Bangladesh\",\"Antenatal Care Visits (%)\"],[\"Bangladesh\",\"Antenatal Care Visits (%)\"],[\"Bangladesh\",\"Antenatal Care Visits (%)\"],[\"Bangladesh\",\"Antenatal Care Visits (%)\"],[\"Bangladesh\",\"Antenatal Care Visits (%)\"],[\"Bangladesh\",\"Antenatal Care Visits (%)\"],[\"Bangladesh\",\"Antenatal Care Visits (%)\"],[\"Bangladesh\",\"Antenatal Care Visits (%)\"],[\"Bangladesh\",\"Antenatal Care Visits (%)\"]],\"hovertemplate\":\"\\u003cb\\u003e%{customdata[0]}\\u003c\\u002fb\\u003e\\u003cbr\\u003eYear: %{x}\\u003cbr\\u003eValue: %{y}\\u003cbr\\u003e%{customdata[1]}\",\"hovertext\":[\"Bangladesh\",\"Bangladesh\",\"Bangladesh\",\"Bangladesh\",\"Bangladesh\",\"Bangladesh\",\"Bangladesh\",\"Bangladesh\",\"Bangladesh\",\"Bangladesh\",\"Bangladesh\"],\"legendgroup\":\"Bangladesh, Antenatal Care Visits (%)\",\"line\":{\"color\":\"#636efa\",\"dash\":\"solid\",\"shape\":\"spline\"},\"marker\":{\"symbol\":\"circle\"},\"mode\":\"lines+markers\",\"name\":\"Bangladesh, Antenatal Care Visits (%)\",\"orientation\":\"v\",\"showlegend\":true,\"x\":{\"dtype\":\"i2\",\"bdata\":\"0AfRB9QH1wfaB9sH3QfeB+IH4wfmBw==\"},\"xaxis\":\"x\",\"y\":{\"dtype\":\"f8\",\"bdata\":\"AAAAAAAAJUAzMzMzMzMnQM3MzMzMzC9AmpmZmZmZNEBmZmZmZmY3QAAAAAAAgDlAMzMzMzOzOEAzMzMzMzM\\u002fQAAAAAAAgEdAMzMzMzNzQkBmZmZmZiZDQA==\"},\"yaxis\":\"y\",\"type\":\"scatter\"},{\"customdata\":[[\"Bangladesh\",\"Life Expectancy (Years)\"],[\"Bangladesh\",\"Life Expectancy (Years)\"],[\"Bangladesh\",\"Life Expectancy (Years)\"],[\"Bangladesh\",\"Life Expectancy (Years)\"],[\"Bangladesh\",\"Life Expectancy (Years)\"],[\"Bangladesh\",\"Life Expectancy (Years)\"],[\"Bangladesh\",\"Life Expectancy (Years)\"],[\"Bangladesh\",\"Life Expectancy (Years)\"],[\"Bangladesh\",\"Life Expectancy (Years)\"],[\"Bangladesh\",\"Life Expectancy (Years)\"],[\"Bangladesh\",\"Life Expectancy (Years)\"]],\"hovertemplate\":\"\\u003cb\\u003e%{customdata[0]}\\u003c\\u002fb\\u003e\\u003cbr\\u003eYear: %{x}\\u003cbr\\u003eValue: %{y}\\u003cbr\\u003e%{customdata[1]}\",\"hovertext\":[\"Bangladesh\",\"Bangladesh\",\"Bangladesh\",\"Bangladesh\",\"Bangladesh\",\"Bangladesh\",\"Bangladesh\",\"Bangladesh\",\"Bangladesh\",\"Bangladesh\",\"Bangladesh\"],\"legendgroup\":\"Bangladesh, Life Expectancy (Years)\",\"line\":{\"color\":\"#636efa\",\"dash\":\"dot\",\"shape\":\"spline\"},\"marker\":{\"symbol\":\"circle\"},\"mode\":\"lines+markers\",\"name\":\"Bangladesh, Life Expectancy (Years)\",\"orientation\":\"v\",\"showlegend\":true,\"x\":{\"dtype\":\"i2\",\"bdata\":\"0AfRB9QH1wfaB9sH3QfeB+IH4wfmBw==\"},\"xaxis\":\"x\",\"y\":{\"dtype\":\"f8\",\"bdata\":\"UrgehetxUEApXI\\u002fC9YhQQFyPwvUozFBAPQrXo3CtUEApXI\\u002fC9ShRQKRwPQrXM1FApHA9CtdjUUCPwvUoXH9RQBSuR+F6JFJApHA9CtczUkDNzMzMzGxSQA==\"},\"yaxis\":\"y\",\"type\":\"scatter\"},{\"customdata\":[[\"Ethiopia\",\"Antenatal Care Visits (%)\"],[\"Ethiopia\",\"Antenatal Care Visits (%)\"],[\"Ethiopia\",\"Antenatal Care Visits (%)\"],[\"Ethiopia\",\"Antenatal Care Visits (%)\"],[\"Ethiopia\",\"Antenatal Care Visits (%)\"],[\"Ethiopia\",\"Antenatal Care Visits (%)\"]],\"hovertemplate\":\"\\u003cb\\u003e%{customdata[0]}\\u003c\\u002fb\\u003e\\u003cbr\\u003eYear: %{x}\\u003cbr\\u003eValue: %{y}\\u003cbr\\u003e%{customdata[1]}\",\"hovertext\":[\"Ethiopia\",\"Ethiopia\",\"Ethiopia\",\"Ethiopia\",\"Ethiopia\",\"Ethiopia\"],\"legendgroup\":\"Ethiopia, Antenatal Care Visits (%)\",\"line\":{\"color\":\"#EF553B\",\"dash\":\"solid\",\"shape\":\"spline\"},\"marker\":{\"symbol\":\"circle\"},\"mode\":\"lines+markers\",\"name\":\"Ethiopia, Antenatal Care Visits (%)\",\"orientation\":\"v\",\"showlegend\":true,\"x\":{\"dtype\":\"i2\",\"bdata\":\"0AfVB9sH3gfgB+MH\"},\"xaxis\":\"x\",\"y\":{\"dtype\":\"f8\",\"bdata\":\"zczMzMzMJEBmZmZmZmYoQJqZmZmZGTNAzczMzMwMQEDNzMzMzMw\\u002fQAAAAAAAgEVA\"},\"yaxis\":\"y\",\"type\":\"scatter\"},{\"customdata\":[[\"Ethiopia\",\"Life Expectancy (Years)\"],[\"Ethiopia\",\"Life Expectancy (Years)\"],[\"Ethiopia\",\"Life Expectancy (Years)\"],[\"Ethiopia\",\"Life Expectancy (Years)\"],[\"Ethiopia\",\"Life Expectancy (Years)\"],[\"Ethiopia\",\"Life Expectancy (Years)\"]],\"hovertemplate\":\"\\u003cb\\u003e%{customdata[0]}\\u003c\\u002fb\\u003e\\u003cbr\\u003eYear: %{x}\\u003cbr\\u003eValue: %{y}\\u003cbr\\u003e%{customdata[1]}\",\"hovertext\":[\"Ethiopia\",\"Ethiopia\",\"Ethiopia\",\"Ethiopia\",\"Ethiopia\",\"Ethiopia\"],\"legendgroup\":\"Ethiopia, Life Expectancy (Years)\",\"line\":{\"color\":\"#EF553B\",\"dash\":\"dot\",\"shape\":\"spline\"},\"marker\":{\"symbol\":\"circle\"},\"mode\":\"lines+markers\",\"name\":\"Ethiopia, Life Expectancy (Years)\",\"orientation\":\"v\",\"showlegend\":true,\"x\":{\"dtype\":\"i2\",\"bdata\":\"0AfVB9sH3gfgB+MH\"},\"xaxis\":\"x\",\"y\":{\"dtype\":\"f8\",\"bdata\":\"hetRuB5FSUDhehSuRwFLQFyPwvUoXE5AMzMzMzNzT0ApXI\\u002fC9RhQQPYoXI\\u002fCdVBA\"},\"yaxis\":\"y\",\"type\":\"scatter\"},{\"customdata\":[[\"Germany\",\"Antenatal Care Visits (%)\"]],\"hovertemplate\":\"\\u003cb\\u003e%{customdata[0]}\\u003c\\u002fb\\u003e\\u003cbr\\u003eYear: %{x}\\u003cbr\\u003eValue: %{y}\\u003cbr\\u003e%{customdata[1]}\",\"hovertext\":[\"Germany\"],\"legendgroup\":\"Germany, Antenatal Care Visits (%)\",\"line\":{\"color\":\"#00cc96\",\"dash\":\"solid\",\"shape\":\"spline\"},\"marker\":{\"symbol\":\"circle\"},\"mode\":\"lines+markers\",\"name\":\"Germany, Antenatal Care Visits (%)\",\"orientation\":\"v\",\"showlegend\":true,\"x\":{\"dtype\":\"i2\",\"bdata\":\"3gc=\"},\"xaxis\":\"x\",\"y\":{\"dtype\":\"f8\",\"bdata\":\"MzMzMzPTWEA=\"},\"yaxis\":\"y\",\"type\":\"scatter\"},{\"customdata\":[[\"Germany\",\"Life Expectancy (Years)\"]],\"hovertemplate\":\"\\u003cb\\u003e%{customdata[0]}\\u003c\\u002fb\\u003e\\u003cbr\\u003eYear: %{x}\\u003cbr\\u003eValue: %{y}\\u003cbr\\u003e%{customdata[1]}\",\"hovertext\":[\"Germany\"],\"legendgroup\":\"Germany, Life Expectancy (Years)\",\"line\":{\"color\":\"#00cc96\",\"dash\":\"dot\",\"shape\":\"spline\"},\"marker\":{\"symbol\":\"circle\"},\"mode\":\"lines+markers\",\"name\":\"Germany, Life Expectancy (Years)\",\"orientation\":\"v\",\"showlegend\":true,\"x\":{\"dtype\":\"i2\",\"bdata\":\"3gc=\"},\"xaxis\":\"x\",\"y\":{\"dtype\":\"f8\",\"bdata\":\"9ihcj8JFVEA=\"},\"yaxis\":\"y\",\"type\":\"scatter\"},{\"customdata\":[[\"India\",\"Antenatal Care Visits (%)\"],[\"India\",\"Antenatal Care Visits (%)\"],[\"India\",\"Antenatal Care Visits (%)\"],[\"India\",\"Antenatal Care Visits (%)\"]],\"hovertemplate\":\"\\u003cb\\u003e%{customdata[0]}\\u003c\\u002fb\\u003e\\u003cbr\\u003eYear: %{x}\\u003cbr\\u003eValue: %{y}\\u003cbr\\u003e%{customdata[1]}\",\"hovertext\":[\"India\",\"India\",\"India\",\"India\"],\"legendgroup\":\"India, Antenatal Care Visits (%)\",\"line\":{\"color\":\"#ab63fa\",\"dash\":\"solid\",\"shape\":\"spline\"},\"marker\":{\"symbol\":\"circle\"},\"mode\":\"lines+markers\",\"name\":\"India, Antenatal Care Visits (%)\",\"orientation\":\"v\",\"showlegend\":true,\"x\":{\"dtype\":\"i2\",\"bdata\":\"1gfeB+AH5Qc=\"},\"xaxis\":\"x\",\"y\":{\"dtype\":\"f8\",\"bdata\":\"AAAAAACAQkAzMzMzM7NGQJqZmZmZmUlAMzMzMzMzTUA=\"},\"yaxis\":\"y\",\"type\":\"scatter\"},{\"customdata\":[[\"India\",\"Life Expectancy (Years)\"],[\"India\",\"Life Expectancy (Years)\"],[\"India\",\"Life Expectancy (Years)\"],[\"India\",\"Life Expectancy (Years)\"]],\"hovertemplate\":\"\\u003cb\\u003e%{customdata[0]}\\u003c\\u002fb\\u003e\\u003cbr\\u003eYear: %{x}\\u003cbr\\u003eValue: %{y}\\u003cbr\\u003e%{customdata[1]}\",\"hovertext\":[\"India\",\"India\",\"India\",\"India\"],\"legendgroup\":\"India, Life Expectancy (Years)\",\"line\":{\"color\":\"#ab63fa\",\"dash\":\"dot\",\"shape\":\"spline\"},\"marker\":{\"symbol\":\"circle\"},\"mode\":\"lines+markers\",\"name\":\"India, Life Expectancy (Years)\",\"orientation\":\"v\",\"showlegend\":true,\"x\":{\"dtype\":\"i2\",\"bdata\":\"1gfeB+AH5Qc=\"},\"xaxis\":\"x\",\"y\":{\"dtype\":\"f8\",\"bdata\":\"CtejcD1aUEAUrkfhekRRQEjhehSuh1FAj8L1KFzPUEA=\"},\"yaxis\":\"y\",\"type\":\"scatter\"},{\"customdata\":[[\"United States\",\"Antenatal Care Visits (%)\"]],\"hovertemplate\":\"\\u003cb\\u003e%{customdata[0]}\\u003c\\u002fb\\u003e\\u003cbr\\u003eYear: %{x}\\u003cbr\\u003eValue: %{y}\\u003cbr\\u003e%{customdata[1]}\",\"hovertext\":[\"United States\"],\"legendgroup\":\"United States, Antenatal Care Visits (%)\",\"line\":{\"color\":\"#FFA15A\",\"dash\":\"solid\",\"shape\":\"spline\"},\"marker\":{\"symbol\":\"circle\"},\"mode\":\"lines+markers\",\"name\":\"United States, Antenatal Care Visits (%)\",\"orientation\":\"v\",\"showlegend\":true,\"x\":{\"dtype\":\"i2\",\"bdata\":\"2wc=\"},\"xaxis\":\"x\",\"y\":{\"dtype\":\"f8\",\"bdata\":\"ZmZmZmYmWEA=\"},\"yaxis\":\"y\",\"type\":\"scatter\"},{\"customdata\":[[\"United States\",\"Life Expectancy (Years)\"]],\"hovertemplate\":\"\\u003cb\\u003e%{customdata[0]}\\u003c\\u002fb\\u003e\\u003cbr\\u003eYear: %{x}\\u003cbr\\u003eValue: %{y}\\u003cbr\\u003e%{customdata[1]}\",\"hovertext\":[\"United States\"],\"legendgroup\":\"United States, Life Expectancy (Years)\",\"line\":{\"color\":\"#FFA15A\",\"dash\":\"dot\",\"shape\":\"spline\"},\"marker\":{\"symbol\":\"circle\"},\"mode\":\"lines+markers\",\"name\":\"United States, Life Expectancy (Years)\",\"orientation\":\"v\",\"showlegend\":true,\"x\":{\"dtype\":\"i2\",\"bdata\":\"2wc=\"},\"xaxis\":\"x\",\"y\":{\"dtype\":\"f8\",\"bdata\":\"KVyPwvWoU0A=\"},\"yaxis\":\"y\",\"type\":\"scatter\"}],                        {\"template\":{\"data\":{\"histogram2dcontour\":[{\"type\":\"histogram2dcontour\",\"colorbar\":{\"outlinewidth\":0,\"ticks\":\"\"},\"colorscale\":[[0.0,\"#0d0887\"],[0.1111111111111111,\"#46039f\"],[0.2222222222222222,\"#7201a8\"],[0.3333333333333333,\"#9c179e\"],[0.4444444444444444,\"#bd3786\"],[0.5555555555555556,\"#d8576b\"],[0.6666666666666666,\"#ed7953\"],[0.7777777777777778,\"#fb9f3a\"],[0.8888888888888888,\"#fdca26\"],[1.0,\"#f0f921\"]]}],\"choropleth\":[{\"type\":\"choropleth\",\"colorbar\":{\"outlinewidth\":0,\"ticks\":\"\"}}],\"histogram2d\":[{\"type\":\"histogram2d\",\"colorbar\":{\"outlinewidth\":0,\"ticks\":\"\"},\"colorscale\":[[0.0,\"#0d0887\"],[0.1111111111111111,\"#46039f\"],[0.2222222222222222,\"#7201a8\"],[0.3333333333333333,\"#9c179e\"],[0.4444444444444444,\"#bd3786\"],[0.5555555555555556,\"#d8576b\"],[0.6666666666666666,\"#ed7953\"],[0.7777777777777778,\"#fb9f3a\"],[0.8888888888888888,\"#fdca26\"],[1.0,\"#f0f921\"]]}],\"heatmap\":[{\"type\":\"heatmap\",\"colorbar\":{\"outlinewidth\":0,\"ticks\":\"\"},\"colorscale\":[[0.0,\"#0d0887\"],[0.1111111111111111,\"#46039f\"],[0.2222222222222222,\"#7201a8\"],[0.3333333333333333,\"#9c179e\"],[0.4444444444444444,\"#bd3786\"],[0.5555555555555556,\"#d8576b\"],[0.6666666666666666,\"#ed7953\"],[0.7777777777777778,\"#fb9f3a\"],[0.8888888888888888,\"#fdca26\"],[1.0,\"#f0f921\"]]}],\"contourcarpet\":[{\"type\":\"contourcarpet\",\"colorbar\":{\"outlinewidth\":0,\"ticks\":\"\"}}],\"contour\":[{\"type\":\"contour\",\"colorbar\":{\"outlinewidth\":0,\"ticks\":\"\"},\"colorscale\":[[0.0,\"#0d0887\"],[0.1111111111111111,\"#46039f\"],[0.2222222222222222,\"#7201a8\"],[0.3333333333333333,\"#9c179e\"],[0.4444444444444444,\"#bd3786\"],[0.5555555555555556,\"#d8576b\"],[0.6666666666666666,\"#ed7953\"],[0.7777777777777778,\"#fb9f3a\"],[0.8888888888888888,\"#fdca26\"],[1.0,\"#f0f921\"]]}],\"surface\":[{\"type\":\"surface\",\"colorbar\":{\"outlinewidth\":0,\"ticks\":\"\"},\"colorscale\":[[0.0,\"#0d0887\"],[0.1111111111111111,\"#46039f\"],[0.2222222222222222,\"#7201a8\"],[0.3333333333333333,\"#9c179e\"],[0.4444444444444444,\"#bd3786\"],[0.5555555555555556,\"#d8576b\"],[0.6666666666666666,\"#ed7953\"],[0.7777777777777778,\"#fb9f3a\"],[0.8888888888888888,\"#fdca26\"],[1.0,\"#f0f921\"]]}],\"mesh3d\":[{\"type\":\"mesh3d\",\"colorbar\":{\"outlinewidth\":0,\"ticks\":\"\"}}],\"scatter\":[{\"fillpattern\":{\"fillmode\":\"overlay\",\"size\":10,\"solidity\":0.2},\"type\":\"scatter\"}],\"parcoords\":[{\"type\":\"parcoords\",\"line\":{\"colorbar\":{\"outlinewidth\":0,\"ticks\":\"\"}}}],\"scatterpolargl\":[{\"type\":\"scatterpolargl\",\"marker\":{\"colorbar\":{\"outlinewidth\":0,\"ticks\":\"\"}}}],\"bar\":[{\"error_x\":{\"color\":\"#2a3f5f\"},\"error_y\":{\"color\":\"#2a3f5f\"},\"marker\":{\"line\":{\"color\":\"#E5ECF6\",\"width\":0.5},\"pattern\":{\"fillmode\":\"overlay\",\"size\":10,\"solidity\":0.2}},\"type\":\"bar\"}],\"scattergeo\":[{\"type\":\"scattergeo\",\"marker\":{\"colorbar\":{\"outlinewidth\":0,\"ticks\":\"\"}}}],\"scatterpolar\":[{\"type\":\"scatterpolar\",\"marker\":{\"colorbar\":{\"outlinewidth\":0,\"ticks\":\"\"}}}],\"histogram\":[{\"marker\":{\"pattern\":{\"fillmode\":\"overlay\",\"size\":10,\"solidity\":0.2}},\"type\":\"histogram\"}],\"scattergl\":[{\"type\":\"scattergl\",\"marker\":{\"colorbar\":{\"outlinewidth\":0,\"ticks\":\"\"}}}],\"scatter3d\":[{\"type\":\"scatter3d\",\"line\":{\"colorbar\":{\"outlinewidth\":0,\"ticks\":\"\"}},\"marker\":{\"colorbar\":{\"outlinewidth\":0,\"ticks\":\"\"}}}],\"scattermap\":[{\"type\":\"scattermap\",\"marker\":{\"colorbar\":{\"outlinewidth\":0,\"ticks\":\"\"}}}],\"scattermapbox\":[{\"type\":\"scattermapbox\",\"marker\":{\"colorbar\":{\"outlinewidth\":0,\"ticks\":\"\"}}}],\"scatterternary\":[{\"type\":\"scatterternary\",\"marker\":{\"colorbar\":{\"outlinewidth\":0,\"ticks\":\"\"}}}],\"scattercarpet\":[{\"type\":\"scattercarpet\",\"marker\":{\"colorbar\":{\"outlinewidth\":0,\"ticks\":\"\"}}}],\"carpet\":[{\"aaxis\":{\"endlinecolor\":\"#2a3f5f\",\"gridcolor\":\"white\",\"linecolor\":\"white\",\"minorgridcolor\":\"white\",\"startlinecolor\":\"#2a3f5f\"},\"baxis\":{\"endlinecolor\":\"#2a3f5f\",\"gridcolor\":\"white\",\"linecolor\":\"white\",\"minorgridcolor\":\"white\",\"startlinecolor\":\"#2a3f5f\"},\"type\":\"carpet\"}],\"table\":[{\"cells\":{\"fill\":{\"color\":\"#EBF0F8\"},\"line\":{\"color\":\"white\"}},\"header\":{\"fill\":{\"color\":\"#C8D4E3\"},\"line\":{\"color\":\"white\"}},\"type\":\"table\"}],\"barpolar\":[{\"marker\":{\"line\":{\"color\":\"#E5ECF6\",\"width\":0.5},\"pattern\":{\"fillmode\":\"overlay\",\"size\":10,\"solidity\":0.2}},\"type\":\"barpolar\"}],\"pie\":[{\"automargin\":true,\"type\":\"pie\"}]},\"layout\":{\"autotypenumbers\":\"strict\",\"colorway\":[\"#636efa\",\"#EF553B\",\"#00cc96\",\"#ab63fa\",\"#FFA15A\",\"#19d3f3\",\"#FF6692\",\"#B6E880\",\"#FF97FF\",\"#FECB52\"],\"font\":{\"color\":\"#2a3f5f\"},\"hovermode\":\"closest\",\"hoverlabel\":{\"align\":\"left\"},\"paper_bgcolor\":\"white\",\"plot_bgcolor\":\"#E5ECF6\",\"polar\":{\"bgcolor\":\"#E5ECF6\",\"angularaxis\":{\"gridcolor\":\"white\",\"linecolor\":\"white\",\"ticks\":\"\"},\"radialaxis\":{\"gridcolor\":\"white\",\"linecolor\":\"white\",\"ticks\":\"\"}},\"ternary\":{\"bgcolor\":\"#E5ECF6\",\"aaxis\":{\"gridcolor\":\"white\",\"linecolor\":\"white\",\"ticks\":\"\"},\"baxis\":{\"gridcolor\":\"white\",\"linecolor\":\"white\",\"ticks\":\"\"},\"caxis\":{\"gridcolor\":\"white\",\"linecolor\":\"white\",\"ticks\":\"\"}},\"coloraxis\":{\"colorbar\":{\"outlinewidth\":0,\"ticks\":\"\"}},\"colorscale\":{\"sequential\":[[0.0,\"#0d0887\"],[0.1111111111111111,\"#46039f\"],[0.2222222222222222,\"#7201a8\"],[0.3333333333333333,\"#9c179e\"],[0.4444444444444444,\"#bd3786\"],[0.5555555555555556,\"#d8576b\"],[0.6666666666666666,\"#ed7953\"],[0.7777777777777778,\"#fb9f3a\"],[0.8888888888888888,\"#fdca26\"],[1.0,\"#f0f921\"]],\"sequentialminus\":[[0.0,\"#0d0887\"],[0.1111111111111111,\"#46039f\"],[0.2222222222222222,\"#7201a8\"],[0.3333333333333333,\"#9c179e\"],[0.4444444444444444,\"#bd3786\"],[0.5555555555555556,\"#d8576b\"],[0.6666666666666666,\"#ed7953\"],[0.7777777777777778,\"#fb9f3a\"],[0.8888888888888888,\"#fdca26\"],[1.0,\"#f0f921\"]],\"diverging\":[[0,\"#8e0152\"],[0.1,\"#c51b7d\"],[0.2,\"#de77ae\"],[0.3,\"#f1b6da\"],[0.4,\"#fde0ef\"],[0.5,\"#f7f7f7\"],[0.6,\"#e6f5d0\"],[0.7,\"#b8e186\"],[0.8,\"#7fbc41\"],[0.9,\"#4d9221\"],[1,\"#276419\"]]},\"xaxis\":{\"gridcolor\":\"white\",\"linecolor\":\"white\",\"ticks\":\"\",\"title\":{\"standoff\":15},\"zerolinecolor\":\"white\",\"automargin\":true,\"zerolinewidth\":2},\"yaxis\":{\"gridcolor\":\"white\",\"linecolor\":\"white\",\"ticks\":\"\",\"title\":{\"standoff\":15},\"zerolinecolor\":\"white\",\"automargin\":true,\"zerolinewidth\":2},\"scene\":{\"xaxis\":{\"backgroundcolor\":\"#E5ECF6\",\"gridcolor\":\"white\",\"linecolor\":\"white\",\"showbackground\":true,\"ticks\":\"\",\"zerolinecolor\":\"white\",\"gridwidth\":2},\"yaxis\":{\"backgroundcolor\":\"#E5ECF6\",\"gridcolor\":\"white\",\"linecolor\":\"white\",\"showbackground\":true,\"ticks\":\"\",\"zerolinecolor\":\"white\",\"gridwidth\":2},\"zaxis\":{\"backgroundcolor\":\"#E5ECF6\",\"gridcolor\":\"white\",\"linecolor\":\"white\",\"showbackground\":true,\"ticks\":\"\",\"zerolinecolor\":\"white\",\"gridwidth\":2}},\"shapedefaults\":{\"line\":{\"color\":\"#2a3f5f\"}},\"annotationdefaults\":{\"arrowcolor\":\"#2a3f5f\",\"arrowhead\":0,\"arrowwidth\":1},\"geo\":{\"bgcolor\":\"white\",\"landcolor\":\"#E5ECF6\",\"subunitcolor\":\"white\",\"showland\":true,\"showlakes\":true,\"lakecolor\":\"white\"},\"title\":{\"x\":0.05},\"mapbox\":{\"style\":\"light\"},\"margin\":{\"b\":0,\"l\":0,\"r\":0,\"t\":30}}},\"xaxis\":{\"anchor\":\"y\",\"domain\":[0.0,1.0],\"title\":{\"text\":\"Year\"}},\"yaxis\":{\"anchor\":\"x\",\"domain\":[0.0,1.0],\"title\":{\"text\":\"Measurement (Percentage for Antenatal Care \\u002f Years for Life Expectancy)\"}},\"legend\":{\"title\":{\"text\":\"Country\"},\"tracegroupgap\":0},\"title\":{\"text\":\"Interactive Trend Analysis: Antenatal Care Visits vs Life Expectancy Highlighting a Pivotal Milestone in 2010.\"},\"height\":650,\"width\":950,\"hovermode\":\"x unified\",\"shapes\":[{\"line\":{\"color\":\"black\",\"dash\":\"dash\",\"width\":2},\"type\":\"line\",\"x0\":2010,\"x1\":2010,\"xref\":\"x\",\"y0\":0,\"y1\":1,\"yref\":\"y domain\"}],\"annotations\":[{\"font\":{\"size\":12},\"showarrow\":false,\"text\":\"2010 Milestone\",\"x\":2010,\"xanchor\":\"center\",\"xref\":\"x\",\"y\":1,\"yanchor\":\"bottom\",\"yref\":\"y domain\"}]},                        {\"responsive\": true}                    ).then(function(){\n",
       "                            \n",
       "var gd = document.getElementById('78a82bde-3f12-432c-a769-efc4f60f0f9c');\n",
       "var x = new MutationObserver(function (mutations, observer) {{\n",
       "        var display = window.getComputedStyle(gd).display;\n",
       "        if (!display || display === 'none') {{\n",
       "            console.log([gd, 'removed!']);\n",
       "            Plotly.purge(gd);\n",
       "            observer.disconnect();\n",
       "        }}\n",
       "}});\n",
       "\n",
       "// Listen for the removal of the full notebook cells\n",
       "var notebookContainer = gd.closest('#notebook-container');\n",
       "if (notebookContainer) {{\n",
       "    x.observe(notebookContainer, {childList: true});\n",
       "}}\n",
       "\n",
       "// Listen for the clearing of the current output cell\n",
       "var outputEl = gd.closest('.output');\n",
       "if (outputEl) {{\n",
       "    x.observe(outputEl, {childList: true});\n",
       "}}\n",
       "\n",
       "                        })                };            </script>        </div>"
      ]
     },
     "metadata": {},
     "output_type": "display_data"
    }
   ],
   "source": [
    "import pandas as pd\n",
    "import plotly.express as px\n",
    "\n",
    "# Prepare Antenatal Care Data\n",
    "antenatal_data = indicator_df[indicator_df['indicator'].str.contains('antenatal', case=False, na=False)]\n",
    "antenatal_data = antenatal_data.rename(columns={'time_period': 'year'})\n",
    "\n",
    "# Prepare Life Expectancy Data\n",
    "life_expectancy_data = metadata_df[['country', 'year', 'Life expectancy at birth, total (years)']]\n",
    "life_expectancy_data = life_expectancy_data.rename(columns={'Life expectancy at birth, total (years)': 'Life Expectancy (Years)'})\n",
    "\n",
    "# Merge Data\n",
    "merged_data = pd.merge(\n",
    "    antenatal_data[['country', 'year', 'obs_value']],\n",
    "    life_expectancy_data,\n",
    "    on=['country', 'year']\n",
    ")\n",
    "\n",
    "# Melt for Plotly\n",
    "plot_data_melted = merged_data.melt(\n",
    "    id_vars=[\"country\", \"year\"],\n",
    "    value_vars=[\"obs_value\", \"Life Expectancy (Years)\"],\n",
    "    var_name=\"Indicator Type\",\n",
    "    value_name=\"Value\"\n",
    ")\n",
    "\n",
    "# Rename indicators\n",
    "plot_data_melted['Indicator Type'] = plot_data_melted['Indicator Type'].replace({\n",
    "    'obs_value': 'Antenatal Care Visits (%)'\n",
    "})\n",
    "\n",
    "# Select Countries\n",
    "selected_countries = ['Germany', 'United States', 'India', 'Ethiopia', 'Bangladesh']\n",
    "plot_data_melted = plot_data_melted[plot_data_melted['country'].isin(selected_countries)]\n",
    "\n",
    "# Round all the Measurement values to 2 decimal places\n",
    "plot_data_melted[\"Value\"] = plot_data_melted[\"Value\"].round(2)\n",
    "\n",
    "fig = px.line(\n",
    "    plot_data_melted,\n",
    "    x=\"year\",\n",
    "    y=\"Value\",\n",
    "    color=\"country\",\n",
    "    line_dash=\"Indicator Type\",\n",
    "    markers=True,\n",
    "    line_shape=\"spline\",\n",
    "    custom_data=[\"country\", \"Indicator Type\"],\n",
    "    hover_name=\"country\",\n",
    "    hover_data={\"country\": False, \"year\": True, \"Indicator Type\": True, \"Value\": True},\n",
    "    # Remove hovertemplate\n",
    "    title=\"Interactive Trend Analysis: Antenatal Care Visits vs Life Expectancy Highlighting a Pivotal Milestone in 2010.\"\n",
    ")\n",
    "\n",
    "# Update layout\n",
    "fig.update_layout(\n",
    "    xaxis_title=\"Year\",\n",
    "    yaxis_title=\"Measurement (Percentage for Antenatal Care / Years for Life Expectancy)\",\n",
    "    height=650,\n",
    "    width=950,\n",
    "    legend_title=\"Country\",\n",
    "    hovermode=\"x unified\"\n",
    ")\n",
    "\n",
    "fig.add_vline(\n",
    "    x=2010,\n",
    "    line_width=2,\n",
    "    line_dash=\"dash\",\n",
    "    line_color=\"black\",\n",
    "    annotation_text=\"2010 Milestone\",\n",
    "    annotation_position=\"top\",\n",
    "    annotation_font_size=12\n",
    ")\n",
    "\n",
    "# Add hovertemplate to each trace after creating the figure\n",
    "for trace in fig.data:\n",
    "    trace.hovertemplate = (\n",
    "        \"<b>%{customdata[0]}</b><br>\" +  # Country\n",
    "        \"Year: %{x}<br>\" +               # Year\n",
    "        \"Value: %{y}<br>\" +              # Value\n",
    "        \"%{customdata[1]}\"               # Indicator (either Antenatal or Life Expectancy)\n",
    "    )\n",
    "fig.show()"
   ]
  },
  {
   "cell_type": "markdown",
   "metadata": {
    "id": "pC-_s9tduNpK"
   },
   "source": [
    "*Dual time-series exploration of antenatal care and life expectancy, emphasizing the pivotal 2010 milestone with interactive hover details across countries.*\n",
    "\n",
    "---\n",
    "\n",
    "\n",
    "\n",
    "> ***Both antenatal care visits and life expectancy show an upward trend across most countries analyzed. A pivotal surge around 2010 highlights global initiatives like the Millennium Development Goals (MDGs) that emphasized maternal health. This reinforces how international policy frameworks can have a lasting impact on public health outcomes. The synchronised rise in antenatal care visits and life expectancy after 2010 reflects global efforts towards Millennium Development Goals (MDGs) and healthcare improvements.***\n",
    "\n"
   ]
  },
  {
   "cell_type": "markdown",
   "metadata": {
    "id": "noEhwR2aIfBT"
   },
   "source": [
    "## **5. Regional Distribution of Global Antenatal Care Visits (Pie Chart)**\n",
    "\n",
    "Figure: Pie chart presenting the regional proportions of antenatal care coverage, highlighting both the volume and the disparities.\n"
   ]
  },
  {
   "cell_type": "code",
   "execution_count": 6,
   "metadata": {
    "colab": {
     "base_uri": "https://localhost:8080/",
     "height": 617
    },
    "id": "ZqmMY2MU3axV",
    "outputId": "065cb8b3-92ce-4107-eaa5-466816fe1047"
   },
   "outputs": [
    {
     "data": {
      "text/html": [
       "<div>            <script src=\"https://cdnjs.cloudflare.com/ajax/libs/mathjax/2.7.5/MathJax.js?config=TeX-AMS-MML_SVG\"></script><script type=\"text/javascript\">if (window.MathJax && window.MathJax.Hub && window.MathJax.Hub.Config) {window.MathJax.Hub.Config({SVG: {font: \"STIX-Web\"}});}</script>                <script type=\"text/javascript\">window.PlotlyConfig = {MathJaxConfig: 'local'};</script>\n",
       "        <script charset=\"utf-8\" src=\"https://cdn.plot.ly/plotly-3.0.1.min.js\"></script>                <div id=\"3d489917-6154-46b7-88eb-9056bf082175\" class=\"plotly-graph-div\" style=\"height:600px; width:800px;\"></div>            <script type=\"text/javascript\">                window.PLOTLYENV=window.PLOTLYENV || {};                                if (document.getElementById(\"3d489917-6154-46b7-88eb-9056bf082175\")) {                    Plotly.newPlot(                        \"3d489917-6154-46b7-88eb-9056bf082175\",                        [{\"domain\":{\"x\":[0.0,1.0],\"y\":[0.0,1.0]},\"hole\":0.4,\"hovertemplate\":\"country=%{label}\\u003cbr\\u003eobs_value=%{value}\\u003cextra\\u003e\\u003c\\u002fextra\\u003e\",\"labels\":[\"Afghanistan\",\"Afghanistan\",\"Afghanistan\",\"Afghanistan\",\"Afghanistan\",\"Afghanistan\",\"Afghanistan\",\"Afghanistan\",\"Albania\",\"Albania\",\"Albania\",\"Algeria\",\"Algeria\",\"Angola\",\"Antigua and Barbuda\",\"Argentina\",\"Argentina\",\"Argentina\",\"Armenia\",\"Armenia\",\"Armenia\",\"Armenia\",\"Australia\",\"Azerbaijan\",\"Azerbaijan\",\"Azerbaijan\",\"Azerbaijan\",\"Bahamas\",\"Bahrain\",\"Bangladesh\",\"Bangladesh\",\"Bangladesh\",\"Bangladesh\",\"Bangladesh\",\"Bangladesh\",\"Bangladesh\",\"Bangladesh\",\"Bangladesh\",\"Bangladesh\",\"Bangladesh\",\"Barbados\",\"Belarus\",\"Belarus\",\"Belize\",\"Belize\",\"Benin\",\"Benin\",\"Benin\",\"Benin\",\"Benin\",\"Benin\",\"Bhutan\",\"Bhutan\",\"Bhutan\",\"Bolivia, Plurinational State of\",\"Bolivia, Plurinational State of\",\"Bolivia, Plurinational State of\",\"Bolivia, Plurinational State of\",\"Bosnia and Herzegovina\",\"Botswana\",\"Brazil\",\"Brazil\",\"Brazil\",\"Brazil\",\"Brazil\",\"Brazil\",\"Brazil\",\"Brazil\",\"Brazil\",\"Brazil\",\"Brazil\",\"Brazil\",\"Brazil\",\"Brazil\",\"Brazil\",\"Brazil\",\"Brazil\",\"Brazil\",\"Brazil\",\"Brazil\",\"Brazil\",\"Brazil\",\"Brunei\",\"Burkina Faso\",\"Burkina Faso\",\"Burkina Faso\",\"Burkina Faso\",\"Burundi\",\"Burundi\",\"Cape Verde\",\"Cape Verde\",\"Cambodia\",\"Cambodia\",\"Cambodia\",\"Cambodia\",\"Cambodia\",\"Cameroon\",\"Cameroon\",\"Cameroon\",\"Cameroon\",\"Canada\",\"Central African Republic\",\"Central African Republic\",\"Chad\",\"Chad\",\"Chad\",\"China\",\"China\",\"Colombia\",\"Colombia\",\"Colombia\",\"Colombia\",\"Comoros\",\"Comoros\",\"Congo\",\"Congo\",\"Congo\",\"Costa Rica\",\"Costa Rica\",\"Costa Rica\",\"Croatia\",\"Croatia\",\"Croatia\",\"Croatia\",\"Croatia\",\"Croatia\",\"Cuba\",\"Cuba\",\"Cuba\",\"Cuba\",\"Cuba\",\"Cuba\",\"Ivory Coast\",\"Ivory Coast\",\"Ivory Coast\",\"Ivory Coast\",\"Korea, Democratic People's Republic of\",\"Korea, Democratic People's Republic of\",\"Congo, the Democratic Republic of the\",\"Congo, the Democratic Republic of the\",\"Congo, the Democratic Republic of the\",\"Congo, the Democratic Republic of the\",\"Djibouti\",\"Djibouti\",\"Dominican Republic\",\"Dominican Republic\",\"Dominican Republic\",\"Dominican Republic\",\"Dominican Republic\",\"Ecuador\",\"Egypt\",\"Egypt\",\"Egypt\",\"Egypt\",\"Egypt\",\"Egypt\",\"El Salvador\",\"El Salvador\",\"El Salvador\",\"Equatorial Guinea\",\"Eritrea\",\"Eritrea\",\"Estonia\",\"Swaziland\",\"Swaziland\",\"Swaziland\",\"Swaziland\",\"Ethiopia\",\"Ethiopia\",\"Ethiopia\",\"Ethiopia\",\"Ethiopia\",\"Ethiopia\",\"Fiji\",\"Fiji\",\"France\",\"Gabon\",\"Gabon\",\"Gabon\",\"Gambia\",\"Gambia\",\"Gambia\",\"Gambia\",\"Gambia\",\"Georgia\",\"Georgia\",\"Georgia\",\"Georgia\",\"Georgia\",\"Georgia\",\"Georgia\",\"Georgia\",\"Georgia\",\"Germany\",\"Ghana\",\"Ghana\",\"Ghana\",\"Ghana\",\"Ghana\",\"Ghana\",\"Ghana\",\"Ghana\",\"Ghana\",\"Guatemala\",\"Guinea\",\"Guinea\",\"Guinea\",\"Guinea\",\"Guinea\",\"Guinea\",\"Guinea-Bissau\",\"Guinea-Bissau\",\"Guinea-Bissau\",\"Guyana\",\"Guyana\",\"Guyana\",\"Haiti\",\"Haiti\",\"Haiti\",\"Haiti\",\"Honduras\",\"Honduras\",\"Honduras\",\"Honduras\",\"India\",\"India\",\"India\",\"India\",\"Indonesia\",\"Indonesia\",\"Indonesia\",\"Indonesia\",\"Indonesia\",\"Iran, Islamic Republic of\",\"Iraq\",\"Iraq\",\"Italy\",\"Jamaica\",\"Jamaica\",\"Jordan\",\"Jordan\",\"Jordan\",\"Jordan\",\"Jordan\",\"Kazakhstan\",\"Kazakhstan\",\"Kenya\",\"Kenya\",\"Kenya\",\"Kenya\",\"Kenya\",\"Kiribati\",\"Kiribati\",\"Kyrgyzstan\",\"Kyrgyzstan\",\"Kyrgyzstan\",\"Kyrgyzstan\",\"Lao People's Democratic Republic\",\"Lao People's Democratic Republic\",\"Lesotho\",\"Lesotho\",\"Lesotho\",\"Lesotho\",\"Liberia\",\"Liberia\",\"Liberia\",\"Libyan Arab Jamahiriya\",\"Luxembourg\",\"Madagascar\",\"Madagascar\",\"Madagascar\",\"Madagascar\",\"Madagascar\",\"Malawi\",\"Malawi\",\"Malawi\",\"Malawi\",\"Malawi\",\"Malawi\",\"Malaysia\",\"Malaysia\",\"Maldives\",\"Maldives\",\"Maldives\",\"Mali\",\"Mali\",\"Mali\",\"Mali\",\"Mali\",\"Mali\",\"Marshall Islands\",\"Mauritania\",\"Mauritania\",\"Mauritania\",\"Mauritania\",\"Mexico\",\"Mexico\",\"Mexico\",\"Mexico\",\"Mongolia\",\"Mongolia\",\"Mongolia\",\"Montenegro\",\"Montenegro\",\"Morocco\",\"Morocco\",\"Morocco\",\"Mozambique\",\"Mozambique\",\"Mozambique\",\"Mozambique\",\"Mozambique\",\"Myanmar\",\"Myanmar\",\"Myanmar\",\"Namibia\",\"Namibia\",\"Namibia\",\"Nauru\",\"Nepal\",\"Nepal\",\"Nepal\",\"Nepal\",\"Nepal\",\"Nepal\",\"Nepal\",\"Nicaragua\",\"Nicaragua\",\"Nicaragua\",\"Niger\",\"Niger\",\"Niger\",\"Niger\",\"Nigeria\",\"Nigeria\",\"Nigeria\",\"Nigeria\",\"Nigeria\",\"Nigeria\",\"Nigeria\",\"Macedonia, the former Yugoslav Republic of\",\"Macedonia, the former Yugoslav Republic of\",\"Oman\",\"Oman\",\"Oman\",\"Oman\",\"Oman\",\"Oman\",\"Oman\",\"Oman\",\"Oman\",\"Oman\",\"Oman\",\"Oman\",\"Oman\",\"Pakistan\",\"Pakistan\",\"Pakistan\",\"Pakistan\",\"Palau\",\"Palau\",\"Panama\",\"Papua New Guinea\",\"Papua New Guinea\",\"Paraguay\",\"Paraguay\",\"Paraguay\",\"Paraguay\",\"Paraguay\",\"Paraguay\",\"Paraguay\",\"Peru\",\"Peru\",\"Peru\",\"Peru\",\"Peru\",\"Peru\",\"Peru\",\"Peru\",\"Peru\",\"Peru\",\"Peru\",\"Peru\",\"Peru\",\"Philippines\",\"Philippines\",\"Philippines\",\"Philippines\",\"Philippines\",\"Philippines\",\"Qatar\",\"South Korea\",\"Moldova, Republic of\",\"Moldova, Republic of\",\"Romania\",\"Romania\",\"Rwanda\",\"Rwanda\",\"Rwanda\",\"Rwanda\",\"Rwanda\",\"Rwanda\",\"Saint Lucia\",\"St. Vincent and the Grenadines\",\"Samoa\",\"Samoa\",\"Samoa\",\"Samoa\",\"Sao Tome and Principe\",\"Sao Tome and Principe\",\"Saudi Arabia\",\"Senegal\",\"Senegal\",\"Senegal\",\"Senegal\",\"Senegal\",\"Senegal\",\"Senegal\",\"Senegal\",\"Senegal\",\"Senegal\",\"Serbia\",\"Serbia\",\"Serbia\",\"Sierra Leone\",\"Sierra Leone\",\"Sierra Leone\",\"Sierra Leone\",\"Sierra Leone\",\"Solomon Islands\",\"Solomon Islands\",\"Somalia\",\"Somalia\",\"South Africa\",\"South Africa\",\"South Africa\",\"South Sudan\",\"South Sudan\",\"South Sudan\",\"Sri Lanka\",\"Palestinian Territory, Occupied\",\"Palestinian Territory, Occupied\",\"Palestinian Territory, Occupied\",\"Sudan\",\"Sudan\",\"Suriname\",\"Suriname\",\"Syrian Arab Republic\",\"Tajikistan\",\"Tajikistan\",\"Tajikistan\",\"Thailand\",\"Thailand\",\"Thailand\",\"Thailand\",\"Thailand\",\"Timor-Leste\",\"Timor-Leste\",\"Timor-Leste\",\"Timor-Leste\",\"Togo\",\"Togo\",\"Togo\",\"Tonga\",\"Tonga\",\"Trinidad and Tobago\",\"Trinidad and Tobago\",\"Tunisia\",\"Tunisia\",\"Tunisia\",\"Turkmenistan\",\"Turkmenistan\",\"Turkmenistan\",\"Turks and Caicos Islands\",\"Tuvalu\",\"Tuvalu\",\"Turkey\",\"Turkey\",\"Turkey\",\"Turkey\",\"Uganda\",\"Uganda\",\"Uganda\",\"Uganda\",\"Uganda\",\"Ukraine\",\"Ukraine\",\"Tanzania, United Republic of\",\"Tanzania, United Republic of\",\"Tanzania, United Republic of\",\"Tanzania, United Republic of\",\"Tanzania, United Republic of\",\"United States\",\"Uruguay\",\"Uruguay\",\"Uruguay\",\"Uruguay\",\"Uzbekistan\",\"Vanuatu\",\"Venezuela, Bolivarian Republic of\",\"Venezuela, Bolivarian Republic of\",\"Vietnam\",\"Vietnam\",\"Vietnam\",\"Vietnam\",\"Yemen\",\"Yemen\",\"Yemen\",\"Zambia\",\"Zambia\",\"Zambia\",\"Zambia\",\"Zimbabwe\",\"Zimbabwe\",\"Zimbabwe\",\"Zimbabwe\",\"Zimbabwe\",\"Zimbabwe\"],\"legendgroup\":\"\",\"name\":\"\",\"showlegend\":true,\"values\":{\"dtype\":\"f8\",\"bdata\":\"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\\u002fNVQM3MzMzMjFVAZmZmZmZmSEBmZmZmZiZJQM3MzMzMTExAzczMzMxMSUBmZmZmZqZBQGZmZmZmJk1AZmZmZmbmUECamZmZmTlQQM3MzMzMLFRAAAAAAACgU0DNzMzMzKxVQM3MzMzMLFVAmpmZmZkZRkBmZmZmZuZKQDMzMzMz01BAZmZmZmamUEDNzMzMzExNQDMzMzMzM1RAmpmZmZk5VkAzMzMzMxNWQAAAAAAAgEJAMzMzMzOzRkCamZmZmZlJQDMzMzMzM01AAAAAAABAVEAAAAAAAGBUQDMzMzMz81VAAAAAAADgVECamZmZmVlTQDMzMzMzk1dAzczMzMzMSECamZmZmflQQGZmZmZmBlFAAAAAAADAVUBmZmZmZmZVQJqZmZmZuVZAZmZmZmaGV0AAAAAAAKBXQAAAAAAA4FZAZmZmZmZGV0AAAAAAAMBVQDMzMzMz01dAZmZmZmYmSkDNzMzMzIxHQM3MzMzMzExAAAAAAABATUAAAAAAAIBQQDMzMzMzs1FAAAAAAADAUEBmZmZmZuZUQGZmZmZmpldAMzMzMzOTV0AAAAAAAEBWQDMzMzMzc0JAmpmZmZkZT0BmZmZmZmZRQJqZmZmZmVFAmpmZmZmZUkBmZmZmZiZTQAAAAAAAgFBAZmZmZmaGU0AzMzMzM9NVQDMzMzMzk1BAMzMzMzNTWEAzMzMzM\\u002fNDQGZmZmZmpkhAzczMzMyMSUDNzMzMzExJQDMzMzMz801AAAAAAAAATEDNzMzMzIxMQAAAAAAAwEZAmpmZmZlZRkDNzMzMzExJQAAAAAAAQElAmpmZmZlZWEBmZmZmZoZYQAAAAAAAwFZAZmZmZmZGVUBmZmZmZmZUQGZmZmZm5j1AMzMzMzOzQUAzMzMzM3NBQJqZmZmZmURAAAAAAAAAQ0BmZmZmZqZFQGZmZmZmRlNAZmZmZmZmMEAzMzMzMzNIQAAAAAAAgE9AAAAAAABAQ0AzMzMzMxNWQDMzMzMzk1VAAAAAAADAVkAzMzMzM5NXQJqZmZmZWVRAZmZmZmZmVkAAAAAAACBWQGZmZmZmplVAzczMzMyMV0AAAAAAAIA+QGZmZmZmpktAAAAAAADASkDNzMzMzIxKQM3MzMzMTElAmpmZmZnZSUAAAAAAAIBJQM3MzMzMTEhAmpmZmZl5UECamZmZmVlSQM3MzMzMTE1AZmZmZmZGUUCamZmZmZlRQAAAAAAAQE9AmpmZmZkZRECamZmZmZksQGZmZmZmZj1AzczMzMwMSUAAAAAAAMBNQJqZmZmZWVFAMzMzMzNzU0AAAAAAACBUQGZmZmZm5lFAzczMzMxsU0BmZmZmZuZVQM3MzMzMzC1AZmZmZmZmQEAAAAAAAEBDQGZmZmZmpkJAMzMzMzOzR0BmZmZmZmZGQM3MzMzMTExAzczMzMyMSUDNzMzMzIxIQGZmZmZmZkxAMzMzMzMzTkCamZmZmXlXQM3MzMzM7FdAzczMzMzsUkDNzMzMzIxVQDMzMzMz01RAMzMzMzOTVUCamZmZmRlYQDMzMzMzU1VAmpmZmZkZVEAzMzMzM3NXQAAAAAAAIFNAAAAAAACgUkBmZmZmZkZTQJqZmZmZGVNAmpmZmZl5UkBmZmZmZmY8QM3MzMzMTEJAMzMzMzOzSUAzMzMzMzNKQAAAAAAAAFZAAAAAAABAVECamZmZmflVQDMzMzMzc0tAAAAAAACASEAzMzMzM7NTQAAAAAAAoFZAMzMzMzPTVEBmZmZmZmZXQJqZmZmZeVVAZmZmZmZGVUAAAAAAAEBUQAAAAAAAQFFAAAAAAADAVUCamZmZmdlVQAAAAAAAIFdAmpmZmZk5V0DNzMzMzIxXQJqZmZmZmVdAZmZmZmbGV0DNzMzMzKxXQGZmZmZm5ldAAAAAAAAAWEAzMzMzMxNYQDMzMzMz81dAmpmZmZmZUUAzMzMzM3NTQGZmZmZmhlNAMzMzMzMTVUAAAAAAAKBVQAAAAAAAwFRAAAAAAAAgVUAzMzMzMzNYQDMzMzMzM1ZAmpmZmZnZV0AAAAAAAABTQGZmZmZmhlFAzczMzMzMJECamZmZmZkqQGZmZmZm5jdAMzMzMzOzQUAzMzMzM\\u002fNFQJqZmZmZmUdAMzMzMzOTVkAAAAAAAOBYQDMzMzMzM01AmpmZmZk5UkAzMzMzM3NRQDMzMzMzc1FAmpmZmZkZUkBmZmZmZuZUQM3MzMzM7FNAZmZmZmbmQ0AAAAAAAABJQAAAAAAAQEdAzczMzMwMSECamZmZmVlHQGZmZmZm5kpAAAAAAACATEAAAAAAAEBNQAAAAAAAwEtAMzMzMzMzPUDNzMzMzIxXQJqZmZmZeVdAZmZmZmYmWEDNzMzMzAxMQM3MzMzMrFJAAAAAAAAAU0AAAAAAAGBTQDMzMzMzs1NAZmZmZmYmUECamZmZmTlRQDMzMzMzMxlAZmZmZmZmOEDNzMzMzAxMQGZmZmZmxlVAAAAAAADgUkDNzMzMzEwxQJqZmZmZGT9AAAAAAAAAP0AAAAAAACBXQAAAAAAAgFdAAAAAAADgV0AzMzMzM7NXQM3MzMzMjEdAmpmZmZlZSUAzMzMzM7NQQAAAAAAA4FBAmpmZmZnZT0AzMzMzM7NIQAAAAAAAQEpAzczMzMwMUEBmZmZmZuZTQJqZmZmZWVdAMzMzMzOzVkAAAAAAAIBWQDMzMzMzE1ZAmpmZmZmZPUDNzMzMzIxLQM3MzMzMLFNAZmZmZmbGVEAzMzMzM3NLQJqZmZmZmUxAZmZmZmZmS0CamZmZmZlRQAAAAAAAIFZAMzMzMzPTVUAAAAAAAABZQAAAAAAA4FBAZmZmZmZGVUBmZmZmZgZVQDMzMzMzs1RAmpmZmZkZWEBmZmZmZmZYQM3MzMzMTFdAMzMzMzPTUEBmZmZmZiZOQDMzMzMz80pAzczMzMxsUkCamZmZmTlWQM3MzMzMbFZAMzMzMzPzRECamZmZmZlHQM3MzMzMzEdAMzMzMzPzTUCamZmZmVlMQDMzMzMzs1JAzczMzMzMVUAAAAAAAMBOQGZmZmZmZkVAmpmZmZlZSUCamZmZmRlPQGZmZmZmRlBAZmZmZmYmWEAAAAAAAIBWQDMzMzMzM1NAMzMzMzMzWEAzMzMzM1NYQAAAAAAAYFZAZmZmZmbmSUAAAAAAAIBOQDMzMzMz81RAzczMzMxMPUDNzMzMzMxNQM3MzMzMbFJAzczMzMwMVkDNzMzMzMwrQJqZmZmZGTlAMzMzMzMzQEBmZmZmZuZRQGZmZmZmJk5AAAAAAADAS0AAAAAAAMBPQGZmZmZmxlFAZmZmZmZmTEAzMzMzMzNQQGZmZmZmhlFAzczMzMzsUkAAAAAAAOBRQA==\"},\"type\":\"pie\",\"marker\":{\"line\":{\"color\":\"black\",\"width\":2}},\"hoverinfo\":\"label+percent+value\",\"insidetextorientation\":\"radial\",\"pull\":[0.08,0.08,0.08,0.08,0.08,0.08,0.08,0.08,0.08,0.08,0.08,0.08,0.08,0.08,0.08,0.08,0.08,0.08,0.08,0.08,0.08,0.08,0.08,0.08,0.08,0.08,0.08,0.08,0.08,0.08,0.08,0.08,0.08,0.08,0.08,0.08,0.08,0.08,0.08,0.08,0.08,0.08,0.08,0.08,0.08,0.08,0.08,0.08,0.08,0.08,0.08,0.08,0.08,0.08,0.08,0.08,0.08,0.08,0.08,0.08,0.08,0.08,0.08,0.08,0.08,0.08,0.08,0.08,0.08,0.08,0.08,0.08,0.08,0.08,0.08,0.08,0.08,0.08,0.08,0.08,0.08,0.08,0.08,0.08,0.08,0.08,0.08,0.08,0.08,0.08,0.08,0.08,0.08,0.08,0.08,0.08,0.08,0.08,0.08,0.08,0.08,0.08,0.08,0.08,0.08,0.08,0.08,0.08,0.08,0.08,0.08,0.08,0.08,0.08,0.08,0.08,0.08,0.08,0.08,0.08,0.08,0.08,0.08,0.08,0.08,0.08,0.08,0.08,0.08,0.08,0.08,0.08,0.08,0.08,0.08,0.08,0.08,0.08,0.08,0.08,0.08,0.08,0.08,0.08,0.08,0.08,0.08,0.08,0.08,0.08,0.08,0.08,0.08,0.08,0.08,0.08,0.08,0.08,0.08,0.08,0.08,0.08,0.08,0.08,0.08,0.08,0.08,0.08,0.08,0.08,0.08,0.08,0.08,0.08,0.08,0.08,0.08,0.08,0.08,0.08,0.08,0.08,0.08,0.08,0.08,0.08,0.08,0.08,0.08,0.08,0.08,0.08,0.08,0.08,0.08,0.08,0.08,0.08,0.08,0.08,0.08,0.08,0.08,0.08,0.08,0.08,0.08,0.08,0.08,0.08,0.08,0.08,0.08,0.08,0.08,0.08,0.08,0.08,0.08,0.08,0.08,0.08,0.08,0.08,0.08,0.08,0.08,0.08,0.08,0.08,0.08,0.08,0.08,0.08,0.08,0.08,0.08,0.08,0.08,0.08,0.08,0.08,0.08,0.08,0.08,0.08,0.08,0.08,0.08,0.08,0.08,0.08,0.08,0.08,0.08,0.08,0.08,0.08,0.08,0.08,0.08,0.08,0.08,0.08,0.08,0.08,0.08,0.08,0.08,0.08,0.08,0.08,0.08,0.08,0.08,0.08,0.08,0.08,0.08,0.08,0.08,0.08,0.08,0.08,0.08,0.08,0.08,0.08,0.08,0.08,0.08,0.08,0.08,0.08,0.08,0.08,0.08,0.08,0.08,0.08,0.08,0.08,0.08,0.08,0.08,0.08,0.08,0.08,0.08,0.08,0.08,0.08,0.08,0.08,0.08,0.08,0.08,0.08,0.08,0.08,0.08,0.08,0.08,0.08,0.08,0.08,0.08,0.08,0.08,0.08,0.08,0.08,0.08,0.08,0.08,0.08,0.08,0.08,0.08,0.08,0.08,0.08,0.08,0.08,0.08,0.08,0.08,0.08,0.08,0.08,0.08,0.08,0.08,0.08,0.08,0.08,0.08,0.08,0.08,0.08,0.08,0.08,0.08,0.08,0.08,0.08,0.08,0.08,0.08,0.08,0.08,0.08,0.08,0.08,0.08,0.08,0.08,0.08,0.08,0.08,0.08,0.08,0.08,0.08,0.08,0.08,0.08,0.08,0.08,0.08,0.08,0.08,0.08,0.08,0.08,0.08,0.08,0.08,0.08,0.08,0.08,0.08,0.08,0.08,0.08,0.08,0.08,0.08,0.08,0.08,0.08,0.08,0.08,0.08,0.08,0.08,0.08,0.08,0.08,0.08,0.08,0.08,0.08,0.08,0.08,0.08,0.08,0.08,0.08,0.08,0.08,0.08,0.08,0.08,0.08,0.08,0.08,0.08,0.08,0.08,0.08,0.08,0.08,0.08,0.08,0.08,0.08,0.08,0.08,0.08,0.08,0.08,0.08,0.08,0.08,0.08,0.08,0.08,0.08,0.08,0.08,0.08,0.08,0.08,0.08,0.08,0.08,0.08,0.08,0.08,0.08,0.08,0.08,0.08,0.08,0.08,0.08,0.08,0.08,0.08,0.08,0.08,0.08,0.08,0.08,0.08,0.08,0.08,0.08,0.08,0.08,0.08,0.08,0.08,0.08,0.08,0.08,0.08,0.08,0.08,0.08,0.08,0.08,0.08,0.08,0.08,0.08,0.08,0.08,0.08,0.08,0.08,0.08,0.08,0.08,0.08,0.08,0.08],\"textinfo\":\"percent+label\",\"textposition\":\"inside\"}],                        {\"template\":{\"data\":{\"histogram2dcontour\":[{\"type\":\"histogram2dcontour\",\"colorbar\":{\"outlinewidth\":0,\"ticks\":\"\"},\"colorscale\":[[0.0,\"#0d0887\"],[0.1111111111111111,\"#46039f\"],[0.2222222222222222,\"#7201a8\"],[0.3333333333333333,\"#9c179e\"],[0.4444444444444444,\"#bd3786\"],[0.5555555555555556,\"#d8576b\"],[0.6666666666666666,\"#ed7953\"],[0.7777777777777778,\"#fb9f3a\"],[0.8888888888888888,\"#fdca26\"],[1.0,\"#f0f921\"]]}],\"choropleth\":[{\"type\":\"choropleth\",\"colorbar\":{\"outlinewidth\":0,\"ticks\":\"\"}}],\"histogram2d\":[{\"type\":\"histogram2d\",\"colorbar\":{\"outlinewidth\":0,\"ticks\":\"\"},\"colorscale\":[[0.0,\"#0d0887\"],[0.1111111111111111,\"#46039f\"],[0.2222222222222222,\"#7201a8\"],[0.3333333333333333,\"#9c179e\"],[0.4444444444444444,\"#bd3786\"],[0.5555555555555556,\"#d8576b\"],[0.6666666666666666,\"#ed7953\"],[0.7777777777777778,\"#fb9f3a\"],[0.8888888888888888,\"#fdca26\"],[1.0,\"#f0f921\"]]}],\"heatmap\":[{\"type\":\"heatmap\",\"colorbar\":{\"outlinewidth\":0,\"ticks\":\"\"},\"colorscale\":[[0.0,\"#0d0887\"],[0.1111111111111111,\"#46039f\"],[0.2222222222222222,\"#7201a8\"],[0.3333333333333333,\"#9c179e\"],[0.4444444444444444,\"#bd3786\"],[0.5555555555555556,\"#d8576b\"],[0.6666666666666666,\"#ed7953\"],[0.7777777777777778,\"#fb9f3a\"],[0.8888888888888888,\"#fdca26\"],[1.0,\"#f0f921\"]]}],\"contourcarpet\":[{\"type\":\"contourcarpet\",\"colorbar\":{\"outlinewidth\":0,\"ticks\":\"\"}}],\"contour\":[{\"type\":\"contour\",\"colorbar\":{\"outlinewidth\":0,\"ticks\":\"\"},\"colorscale\":[[0.0,\"#0d0887\"],[0.1111111111111111,\"#46039f\"],[0.2222222222222222,\"#7201a8\"],[0.3333333333333333,\"#9c179e\"],[0.4444444444444444,\"#bd3786\"],[0.5555555555555556,\"#d8576b\"],[0.6666666666666666,\"#ed7953\"],[0.7777777777777778,\"#fb9f3a\"],[0.8888888888888888,\"#fdca26\"],[1.0,\"#f0f921\"]]}],\"surface\":[{\"type\":\"surface\",\"colorbar\":{\"outlinewidth\":0,\"ticks\":\"\"},\"colorscale\":[[0.0,\"#0d0887\"],[0.1111111111111111,\"#46039f\"],[0.2222222222222222,\"#7201a8\"],[0.3333333333333333,\"#9c179e\"],[0.4444444444444444,\"#bd3786\"],[0.5555555555555556,\"#d8576b\"],[0.6666666666666666,\"#ed7953\"],[0.7777777777777778,\"#fb9f3a\"],[0.8888888888888888,\"#fdca26\"],[1.0,\"#f0f921\"]]}],\"mesh3d\":[{\"type\":\"mesh3d\",\"colorbar\":{\"outlinewidth\":0,\"ticks\":\"\"}}],\"scatter\":[{\"fillpattern\":{\"fillmode\":\"overlay\",\"size\":10,\"solidity\":0.2},\"type\":\"scatter\"}],\"parcoords\":[{\"type\":\"parcoords\",\"line\":{\"colorbar\":{\"outlinewidth\":0,\"ticks\":\"\"}}}],\"scatterpolargl\":[{\"type\":\"scatterpolargl\",\"marker\":{\"colorbar\":{\"outlinewidth\":0,\"ticks\":\"\"}}}],\"bar\":[{\"error_x\":{\"color\":\"#2a3f5f\"},\"error_y\":{\"color\":\"#2a3f5f\"},\"marker\":{\"line\":{\"color\":\"#E5ECF6\",\"width\":0.5},\"pattern\":{\"fillmode\":\"overlay\",\"size\":10,\"solidity\":0.2}},\"type\":\"bar\"}],\"scattergeo\":[{\"type\":\"scattergeo\",\"marker\":{\"colorbar\":{\"outlinewidth\":0,\"ticks\":\"\"}}}],\"scatterpolar\":[{\"type\":\"scatterpolar\",\"marker\":{\"colorbar\":{\"outlinewidth\":0,\"ticks\":\"\"}}}],\"histogram\":[{\"marker\":{\"pattern\":{\"fillmode\":\"overlay\",\"size\":10,\"solidity\":0.2}},\"type\":\"histogram\"}],\"scattergl\":[{\"type\":\"scattergl\",\"marker\":{\"colorbar\":{\"outlinewidth\":0,\"ticks\":\"\"}}}],\"scatter3d\":[{\"type\":\"scatter3d\",\"line\":{\"colorbar\":{\"outlinewidth\":0,\"ticks\":\"\"}},\"marker\":{\"colorbar\":{\"outlinewidth\":0,\"ticks\":\"\"}}}],\"scattermap\":[{\"type\":\"scattermap\",\"marker\":{\"colorbar\":{\"outlinewidth\":0,\"ticks\":\"\"}}}],\"scattermapbox\":[{\"type\":\"scattermapbox\",\"marker\":{\"colorbar\":{\"outlinewidth\":0,\"ticks\":\"\"}}}],\"scatterternary\":[{\"type\":\"scatterternary\",\"marker\":{\"colorbar\":{\"outlinewidth\":0,\"ticks\":\"\"}}}],\"scattercarpet\":[{\"type\":\"scattercarpet\",\"marker\":{\"colorbar\":{\"outlinewidth\":0,\"ticks\":\"\"}}}],\"carpet\":[{\"aaxis\":{\"endlinecolor\":\"#2a3f5f\",\"gridcolor\":\"white\",\"linecolor\":\"white\",\"minorgridcolor\":\"white\",\"startlinecolor\":\"#2a3f5f\"},\"baxis\":{\"endlinecolor\":\"#2a3f5f\",\"gridcolor\":\"white\",\"linecolor\":\"white\",\"minorgridcolor\":\"white\",\"startlinecolor\":\"#2a3f5f\"},\"type\":\"carpet\"}],\"table\":[{\"cells\":{\"fill\":{\"color\":\"#EBF0F8\"},\"line\":{\"color\":\"white\"}},\"header\":{\"fill\":{\"color\":\"#C8D4E3\"},\"line\":{\"color\":\"white\"}},\"type\":\"table\"}],\"barpolar\":[{\"marker\":{\"line\":{\"color\":\"#E5ECF6\",\"width\":0.5},\"pattern\":{\"fillmode\":\"overlay\",\"size\":10,\"solidity\":0.2}},\"type\":\"barpolar\"}],\"pie\":[{\"automargin\":true,\"type\":\"pie\"}]},\"layout\":{\"autotypenumbers\":\"strict\",\"colorway\":[\"#636efa\",\"#EF553B\",\"#00cc96\",\"#ab63fa\",\"#FFA15A\",\"#19d3f3\",\"#FF6692\",\"#B6E880\",\"#FF97FF\",\"#FECB52\"],\"font\":{\"color\":\"#2a3f5f\"},\"hovermode\":\"closest\",\"hoverlabel\":{\"align\":\"left\"},\"paper_bgcolor\":\"white\",\"plot_bgcolor\":\"#E5ECF6\",\"polar\":{\"bgcolor\":\"#E5ECF6\",\"angularaxis\":{\"gridcolor\":\"white\",\"linecolor\":\"white\",\"ticks\":\"\"},\"radialaxis\":{\"gridcolor\":\"white\",\"linecolor\":\"white\",\"ticks\":\"\"}},\"ternary\":{\"bgcolor\":\"#E5ECF6\",\"aaxis\":{\"gridcolor\":\"white\",\"linecolor\":\"white\",\"ticks\":\"\"},\"baxis\":{\"gridcolor\":\"white\",\"linecolor\":\"white\",\"ticks\":\"\"},\"caxis\":{\"gridcolor\":\"white\",\"linecolor\":\"white\",\"ticks\":\"\"}},\"coloraxis\":{\"colorbar\":{\"outlinewidth\":0,\"ticks\":\"\"}},\"colorscale\":{\"sequential\":[[0.0,\"#0d0887\"],[0.1111111111111111,\"#46039f\"],[0.2222222222222222,\"#7201a8\"],[0.3333333333333333,\"#9c179e\"],[0.4444444444444444,\"#bd3786\"],[0.5555555555555556,\"#d8576b\"],[0.6666666666666666,\"#ed7953\"],[0.7777777777777778,\"#fb9f3a\"],[0.8888888888888888,\"#fdca26\"],[1.0,\"#f0f921\"]],\"sequentialminus\":[[0.0,\"#0d0887\"],[0.1111111111111111,\"#46039f\"],[0.2222222222222222,\"#7201a8\"],[0.3333333333333333,\"#9c179e\"],[0.4444444444444444,\"#bd3786\"],[0.5555555555555556,\"#d8576b\"],[0.6666666666666666,\"#ed7953\"],[0.7777777777777778,\"#fb9f3a\"],[0.8888888888888888,\"#fdca26\"],[1.0,\"#f0f921\"]],\"diverging\":[[0,\"#8e0152\"],[0.1,\"#c51b7d\"],[0.2,\"#de77ae\"],[0.3,\"#f1b6da\"],[0.4,\"#fde0ef\"],[0.5,\"#f7f7f7\"],[0.6,\"#e6f5d0\"],[0.7,\"#b8e186\"],[0.8,\"#7fbc41\"],[0.9,\"#4d9221\"],[1,\"#276419\"]]},\"xaxis\":{\"gridcolor\":\"white\",\"linecolor\":\"white\",\"ticks\":\"\",\"title\":{\"standoff\":15},\"zerolinecolor\":\"white\",\"automargin\":true,\"zerolinewidth\":2},\"yaxis\":{\"gridcolor\":\"white\",\"linecolor\":\"white\",\"ticks\":\"\",\"title\":{\"standoff\":15},\"zerolinecolor\":\"white\",\"automargin\":true,\"zerolinewidth\":2},\"scene\":{\"xaxis\":{\"backgroundcolor\":\"#E5ECF6\",\"gridcolor\":\"white\",\"linecolor\":\"white\",\"showbackground\":true,\"ticks\":\"\",\"zerolinecolor\":\"white\",\"gridwidth\":2},\"yaxis\":{\"backgroundcolor\":\"#E5ECF6\",\"gridcolor\":\"white\",\"linecolor\":\"white\",\"showbackground\":true,\"ticks\":\"\",\"zerolinecolor\":\"white\",\"gridwidth\":2},\"zaxis\":{\"backgroundcolor\":\"#E5ECF6\",\"gridcolor\":\"white\",\"linecolor\":\"white\",\"showbackground\":true,\"ticks\":\"\",\"zerolinecolor\":\"white\",\"gridwidth\":2}},\"shapedefaults\":{\"line\":{\"color\":\"#2a3f5f\"}},\"annotationdefaults\":{\"arrowcolor\":\"#2a3f5f\",\"arrowhead\":0,\"arrowwidth\":1},\"geo\":{\"bgcolor\":\"white\",\"landcolor\":\"#E5ECF6\",\"subunitcolor\":\"white\",\"showland\":true,\"showlakes\":true,\"lakecolor\":\"white\"},\"title\":{\"x\":0.05},\"mapbox\":{\"style\":\"light\"},\"margin\":{\"b\":0,\"l\":0,\"r\":0,\"t\":30}}},\"legend\":{\"tracegroupgap\":0,\"title\":{\"text\":\"Region CLICK ME!\"}},\"title\":{\"text\":\"Regional Distribution of Global Antenatal Care Visits\"},\"hoverlabel\":{\"font\":{\"size\":13,\"family\":\"Arial\"},\"bgcolor\":\"white\"},\"uniformtext\":{\"minsize\":12,\"mode\":\"hide\"},\"height\":600,\"width\":800},                        {\"responsive\": true}                    ).then(function(){\n",
       "                            \n",
       "var gd = document.getElementById('3d489917-6154-46b7-88eb-9056bf082175');\n",
       "var x = new MutationObserver(function (mutations, observer) {{\n",
       "        var display = window.getComputedStyle(gd).display;\n",
       "        if (!display || display === 'none') {{\n",
       "            console.log([gd, 'removed!']);\n",
       "            Plotly.purge(gd);\n",
       "            observer.disconnect();\n",
       "        }}\n",
       "}});\n",
       "\n",
       "// Listen for the removal of the full notebook cells\n",
       "var notebookContainer = gd.closest('#notebook-container');\n",
       "if (notebookContainer) {{\n",
       "    x.observe(notebookContainer, {childList: true});\n",
       "}}\n",
       "\n",
       "// Listen for the clearing of the current output cell\n",
       "var outputEl = gd.closest('.output');\n",
       "if (outputEl) {{\n",
       "    x.observe(outputEl, {childList: true});\n",
       "}}\n",
       "\n",
       "                        })                };            </script>        </div>"
      ]
     },
     "metadata": {},
     "output_type": "display_data"
    }
   ],
   "source": [
    "import plotly.express as px\n",
    "\n",
    "# Pie Chart: Regional Distribution of Global Antenatal Care Visits\n",
    "fig = px.pie(\n",
    "    indicator_df,\n",
    "    names='country',\n",
    "    values='obs_value',\n",
    "    title=\"Regional Distribution of Global Antenatal Care Visits\",\n",
    "    hole=0.4\n",
    ")\n",
    "\n",
    "fig.update_traces(\n",
    "    pull=[0.08] * len(indicator_df),\n",
    "    marker=dict(line=dict(color='black', width=2)),\n",
    "    hoverinfo='label+percent+value',\n",
    "    textinfo='percent+label',\n",
    "    textposition='inside',\n",
    "    insidetextorientation='radial'\n",
    ")\n",
    "\n",
    "fig.update_layout(\n",
    "    height=600,\n",
    "    width=800,\n",
    "    legend_title=\"Region CLICK ME!\",\n",
    "    hoverlabel=dict(bgcolor=\"white\", font_size=13, font_family=\"Arial\"),\n",
    "    uniformtext_minsize=12,\n",
    "    uniformtext_mode='hide'\n",
    ")\n",
    "\n",
    "fig.show()"
   ]
  },
  {
   "cell_type": "markdown",
   "metadata": {
    "id": "r5zn83_luph8"
   },
   "source": [
    "*Pie chart showing regional proportions of antenatal care, with hover-enabled clarity for detailed regional comparisons.*\n",
    "\n",
    "---\n",
    "\n",
    "\n",
    "\n",
    "> ***The pie chart showcases how antenatal care is unevenly distributed across world regions. Regions like Europe and North America have significantly higher shares, while Sub-Saharan Africa still holds a disproportionately low percentage, further underlining systemic global health inequalities. High population regions contribute heavily to the global total of antenatal visits, but the pie size can mask the fact that many individual countries still face gaps in service quality.***\n",
    "\n",
    "\n",
    "\n"
   ]
  },
  {
   "cell_type": "markdown",
   "metadata": {
    "id": "OBeARy6-XU84"
   },
   "source": [
    "***Conclusion***\n",
    "\n",
    "\n",
    "*   Significant regional disparities exist in antenatal care coverage, with lower rates concentrated in developing regions.\n",
    "*   Economic prosperity strongly correlates with better access to antenatal care, as shown by the relationship between GDP per capita and antenatal care visits.\n",
    "\n",
    "*   A pivotal improvement around 2010 suggests that global health initiatives like the Millennium Development Goals had a real positive impact.\n",
    "\n",
    "*   Healthcare policies and infrastructure, not just economic wealth, play a crucial role in expanding maternal care accessibility.\n",
    "\n",
    "*   Targeted regional interventions and sustained investment are essential to close existing gaps and improve maternal and child health worldwide.\n",
    "\n",
    "\n",
    "\n",
    "\n"
   ]
  }
 ],
 "metadata": {
  "colab": {
   "provenance": []
  },
  "kernelspec": {
   "display_name": "Python 3 (ipykernel)",
   "language": "python",
   "name": "python3"
  },
  "language_info": {
   "codemirror_mode": {
    "name": "ipython",
    "version": 3
   },
   "file_extension": ".py",
   "mimetype": "text/x-python",
   "name": "python",
   "nbconvert_exporter": "python",
   "pygments_lexer": "ipython3",
   "version": "3.12.7"
  }
 },
 "nbformat": 4,
 "nbformat_minor": 4
}
